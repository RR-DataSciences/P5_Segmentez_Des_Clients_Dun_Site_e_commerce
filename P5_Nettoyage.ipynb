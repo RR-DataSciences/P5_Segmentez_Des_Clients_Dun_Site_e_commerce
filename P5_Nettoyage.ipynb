{
 "cells": [
  {
   "cell_type": "markdown",
   "metadata": {},
   "source": [
    "# **Projet 5 - <span style=\"color:#0B28D0\">Segmentez les clients d'un site e-commerce</span>**\n",
    "---"
   ]
  },
  {
   "cell_type": "markdown",
   "metadata": {},
   "source": [
    "**<span style=\"color:#0B28D0\">Objectif de la mission:</span>**\n",
    "* Fournir une **segmentation des clients** afin d'apporter des informations supplémentaires aux équipes pour leurs campagnes de communication.\n",
    "* **Comprendre les différents types d’utilisateurs** grâce à leur comportement et à leurs données personnelles.\n",
    "* Fournir une **description actionable de la segmentation** et de sa logique sous-jacente pour une utilisation optimale.\n",
    "* Proposition de **contrat de maintenance basée sur une analyse de la stabilité** des segments au cours du temps.."
   ]
  },
  {
   "cell_type": "markdown",
   "metadata": {},
   "source": [
    "## **0. Importation des librairies et des données**\n",
    "---"
   ]
  },
  {
   "cell_type": "code",
   "execution_count": 1,
   "metadata": {},
   "outputs": [],
   "source": [
    "# Importing libraries\n",
    "import pandas as pd\n",
    "import numpy as np\n",
    "import seaborn as sns\n",
    "import matplotlib.pyplot as plt\n",
    "import matplotlib.colors as mcolors\n",
    "# ---\n",
    "import geopandas as gpd\n",
    "from datetime import datetime\n",
    "# ---\n",
    "#classe pour l'ACP\n",
    "from sklearn.preprocessing import StandardScaler, PowerTransformer, QuantileTransformer\n",
    "from sklearn.decomposition import PCA"
   ]
  },
  {
   "cell_type": "code",
   "execution_count": 2,
   "metadata": {},
   "outputs": [],
   "source": [
    "# Import customer information\n",
    "path_customers = \"C:/Users/remid/Documents/_OC_ParcoursDataScientist/P5_Segmentez_Des_Clients_Dun_Site_e_commerce/data/olist_customers_dataset.csv\"\n",
    "df_customers = pd.read_csv(path_customers, sep=\",\")\n",
    "# Import geospatial information\n",
    "path_geolocation = \"C:/Users/remid/Documents/_OC_ParcoursDataScientist/P5_Segmentez_Des_Clients_Dun_Site_e_commerce/data/olist_geolocation_dataset.csv\"\n",
    "df_geolocation = pd.read_csv(path_geolocation, sep=\",\")\n",
    "# Importation des articles selon les commandes\n",
    "path_order_items = \"C:/Users/remid/Documents/_OC_ParcoursDataScientist/P5_Segmentez_Des_Clients_Dun_Site_e_commerce/data/olist_order_items_dataset.csv\"\n",
    "df_order_items = pd.read_csv(path_order_items, sep=\",\")\n",
    "# Import items according to orders\n",
    "path_order_payments = \"C:/Users/remid/Documents/_OC_ParcoursDataScientist/P5_Segmentez_Des_Clients_Dun_Site_e_commerce/data/olist_order_payments_dataset.csv\"\n",
    "df_order_payments = pd.read_csv(path_order_payments, sep=\",\")\n",
    "# Important customer feedback\n",
    "path_order_reviews = \"C:/Users/remid/Documents/_OC_ParcoursDataScientist/P5_Segmentez_Des_Clients_Dun_Site_e_commerce/data/olist_order_reviews_dataset.csv\"\n",
    "df_order_reviews = pd.read_csv(path_order_reviews, sep=\",\")\n",
    "# Import master data for each order\n",
    "path_orders = \"C:/Users/remid/Documents/_OC_ParcoursDataScientist/P5_Segmentez_Des_Clients_Dun_Site_e_commerce/data/olist_orders_dataset.csv\"\n",
    "df_orders = pd.read_csv(path_orders, sep=\",\")\n",
    "# Product data import\n",
    "path_products = \"C:/Users/remid/Documents/_OC_ParcoursDataScientist/P5_Segmentez_Des_Clients_Dun_Site_e_commerce/data/olist_products_dataset.csv\"\n",
    "df_products = pd.read_csv(path_products, sep=\",\")\n",
    "# Import vendor data\n",
    "path_sellers = \"C:/Users/remid/Documents/_OC_ParcoursDataScientist/P5_Segmentez_Des_Clients_Dun_Site_e_commerce/data/olist_sellers_dataset.csv\"\n",
    "df_sellers = pd.read_csv(path_sellers, sep=\",\")\n",
    "# Import EN translation of product names\n",
    "path_product_category_name_translation = \"C:/Users/remid/Documents/_OC_ParcoursDataScientist/P5_Segmentez_Des_Clients_Dun_Site_e_commerce/data/product_category_name_translation.csv\"\n",
    "df_product_category_name_translation = pd.read_csv(path_product_category_name_translation, sep=\",\")"
   ]
  },
  {
   "cell_type": "markdown",
   "metadata": {},
   "source": [
    "### **0.1 - Définition de la charte graphique**"
   ]
  },
  {
   "cell_type": "code",
   "execution_count": 3,
   "metadata": {},
   "outputs": [
    {
     "data": {
      "text/plain": [
       "['#0B28D0', '#A2A2D5', '#FFF', '#333', '#EDAD01']"
      ]
     },
     "execution_count": 3,
     "metadata": {},
     "output_type": "execute_result"
    }
   ],
   "source": [
    "[\"#0B28D0\",\"#A2A2D5\",\"#FFF\",\"#333\",\"#EDAD01\"]"
   ]
  },
  {
   "cell_type": "code",
   "execution_count": 4,
   "metadata": {},
   "outputs": [
    {
     "data": {
      "image/png": "[encoded data removed]",
      "text/html": [
       "<div style=\"vertical-align: middle;\"><strong>custom_colormap</strong> </div><div class=\"cmap\"><img alt=\"custom_colormap colormap\" title=\"custom_colormap\" style=\"border: 1px solid #555;\" src=\"data:image/png;base64,iVBORw0KGgoAAAANSUhEUgAAAgAAAABACAYAAABsv8+/AAAAHnRFWHRUaXRsZQBjdXN0b21fY29sb3JtYXAgY29sb3JtYXB5JmvcAAAAJHRFWHREZXNjcmlwdGlvbgBjdXN0b21fY29sb3JtYXAgY29sb3JtYXCzmoKzAAAAMHRFWHRBdXRob3IATWF0cGxvdGxpYiB2My43LjEsIGh0dHBzOi8vbWF0cGxvdGxpYi5vcmcqr/hNAAAAMnRFWHRTb2Z0d2FyZQBNYXRwbG90bGliIHYzLjcuMSwgaHR0cHM6Ly9tYXRwbG90bGliLm9yZwQJZ2oAAAIbSURBVHic7dZBboMwFEVRw7Qb6f5X0hXFHQCNY2xKI3X0zpGqFkJ+DE6lu3x8ftVSSlmW509/vO4n59csZR2873nd9vpo9tLMHl+z/JxbJ7Pb43Uy+5g/m91eM5vdvt7PPl9znv26hvNsz/vG815nz3u8J69reG9P1sns1zWMZ/9lT8bP+/6ejL8T5z1pZ2/q/vtRSq378X6u1u18qfvf5fl6fXTHdTKrNK8/BnOOzyiDOcfn9Gtq3tOuuTaffzlrO65Xs27df39/x/uaNQ/XdGfOu2vqn+18f2s76/QsR7P65zjYk+H+9vc/35Pr/b1Y09V37jT7uP/RPv3Hnky+J7/9z926/9Gs/v4Hs0opawEA4ggAAAgkAAAgkAAAgEACAAACCQAACCQAACCQAACAQAIAAAIJAAAIJAAAIJAAAIBAAgAAAgkAAAgkAAAgkAAAgEACAAACCQAACCQAACCQAACAQAIAAAIJAAAIJAAAIJAAAIBAAgAAAgkAAAgkAAAgkAAAgEACAAACCQAACCQAACCQAACAQAIAAAIJAAAIJAAAIJAAAIBAAgAAAgkAAAgkAAAgkAAAgEACAAACCQAACCQAACCQAACAQAIAAAIJAAAIJAAAIJAAAIBAAgAAAgkAAAgkAAAgkAAAgEACAAACCQAACCQAACCQAACAQAIAAAIJAAAIJAAAIJAAAIBAAgAAAgkAAAgkAAAg0DePBRApFnW8dgAAAABJRU5ErkJggg==\"></div><div style=\"vertical-align: middle; max-width: 514px; display: flex; justify-content: space-between;\"><div style=\"float: left;\"><div title=\"#0b28d0ff\" style=\"display: inline-block; width: 1em; height: 1em; margin: 0; vertical-align: middle; border: 1px solid #555; background-color: #0b28d0ff;\"></div> under</div><div style=\"margin: 0 auto; display: inline-block;\">bad <div title=\"#00000000\" style=\"display: inline-block; width: 1em; height: 1em; margin: 0; vertical-align: middle; border: 1px solid #555; background-color: #00000000;\"></div></div><div style=\"float: right;\">over <div title=\"#edad01ff\" style=\"display: inline-block; width: 1em; height: 1em; margin: 0; vertical-align: middle; border: 1px solid #555; background-color: #edad01ff;\"></div></div>"
      ],
      "text/plain": [
       "<matplotlib.colors.LinearSegmentedColormap at 0x13ee3cfad10>"
      ]
     },
     "execution_count": 4,
     "metadata": {},
     "output_type": "execute_result"
    }
   ],
   "source": [
    "# Define the heatmap color\n",
    "first_color = \"#0B28D0\"\n",
    "under_color = \"#F1F1F1\"\n",
    "over_color = \"#EDAD01\"\n",
    "# Create a personal color map \n",
    "colors = [first_color,under_color, over_color]\n",
    "n_bins = 400\n",
    "cmap_name = 'custom_colormap'\n",
    "heatmap_color = mcolors.LinearSegmentedColormap.from_list(cmap_name, colors, N=n_bins)\n",
    "heatmap_color"
   ]
  },
  {
   "cell_type": "code",
   "execution_count": 5,
   "metadata": {},
   "outputs": [
    {
     "data": {
      "image/png": "[encoded data removed]",
      "text/html": [
       "<div style=\"vertical-align: middle;\"><strong>blend</strong> </div><div class=\"cmap\"><img alt=\"blend colormap\" title=\"blend\" style=\"border: 1px solid #555;\" src=\"data:image/png;base64,iVBORw0KGgoAAAANSUhEUgAAAgAAAABACAYAAABsv8+/AAAAFHRFWHRUaXRsZQBibGVuZCBjb2xvcm1hcKH0gPAAAAAadEVYdERlc2NyaXB0aW9uAGJsZW5kIGNvbG9ybWFwX6spFgAAADB0RVh0QXV0aG9yAE1hdHBsb3RsaWIgdjMuNy4xLCBodHRwczovL21hdHBsb3RsaWIub3JnKq/4TQAAADJ0RVh0U29mdHdhcmUATWF0cGxvdGxpYiB2My43LjEsIGh0dHBzOi8vbWF0cGxvdGxpYi5vcmcECWdqAAABl0lEQVR4nO3WS26DMABAQdNtLtL7n6Q3oosoGxQUgquW6s1sEIiPwYn1ltvn1zrGGGO9b8Z4bMdmf+/48/OWyeu3x5fJ67fH9+937v2XH3rP/e83N87j83Fs/O9/v8fuq/mY/X5H7/e3v+f/P8/nnvNr/7uX69nz51xv3Tp6v3PPufq6dXycs/N8cpzrxdbXN+f5YwAAOQIAAIIEAAAECQAACBIAABAkAAAgSAAAQJAAAIAgAQAAQQIAAIIEAAAECQAACBIAABAkAAAgSAAAQJAAAIAgAQAAQQIAAIIEAAAECQAACBIAABAkAAAgSAAAQJAAAIAgAQAAQQIAAIIEAAAECQAACBIAABAkAAAgSAAAQJAAAIAgAQAAQQIAAIIEAAAECQAACBIAABAkAAAgSAAAQJAAAIAgAQAAQQIAAIIEAAAECQAACBIAABAkAAAgSAAAQJAAAIAgAQAAQQIAAIIEAAAECQAACBIAABAkAAAgSAAAQJAAAIAgAQAAQQIAAIIEAAAECQAACBIAABAkAAAgSAAAQNA3kIek+Ceji1kAAAAASUVORK5CYII=\"></div><div style=\"vertical-align: middle; max-width: 514px; display: flex; justify-content: space-between;\"><div style=\"float: left;\"><div title=\"#0b28d0ff\" style=\"display: inline-block; width: 1em; height: 1em; margin: 0; vertical-align: middle; border: 1px solid #555; background-color: #0b28d0ff;\"></div> under</div><div style=\"margin: 0 auto; display: inline-block;\">bad <div title=\"#00000000\" style=\"display: inline-block; width: 1em; height: 1em; margin: 0; vertical-align: middle; border: 1px solid #555; background-color: #00000000;\"></div></div><div style=\"float: right;\">over <div title=\"#242531ff\" style=\"display: inline-block; width: 1em; height: 1em; margin: 0; vertical-align: middle; border: 1px solid #555; background-color: #242531ff;\"></div></div>"
      ],
      "text/plain": [
       "<matplotlib.colors.LinearSegmentedColormap at 0x13e8f3722d0>"
      ]
     },
     "execution_count": 5,
     "metadata": {},
     "output_type": "execute_result"
    }
   ],
   "source": [
    "palette_b = sns.dark_palette(\"#0B28D0\", reverse=True, as_cmap=True)\n",
    "palette_b"
   ]
  },
  {
   "cell_type": "code",
   "execution_count": 6,
   "metadata": {},
   "outputs": [
    {
     "data": {
      "text/html": [
       "<svg  width=\"550\" height=\"55\"><rect x=\"0\" y=\"0\" width=\"55\" height=\"55\" style=\"fill:#242531;stroke-width:2;stroke:rgb(255,255,255)\"/><rect x=\"55\" y=\"0\" width=\"55\" height=\"55\" style=\"fill:#212543;stroke-width:2;stroke:rgb(255,255,255)\"/><rect x=\"110\" y=\"0\" width=\"55\" height=\"55\" style=\"fill:#1f2554;stroke-width:2;stroke:rgb(255,255,255)\"/><rect x=\"165\" y=\"0\" width=\"55\" height=\"55\" style=\"fill:#1c2666;stroke-width:2;stroke:rgb(255,255,255)\"/><rect x=\"220\" y=\"0\" width=\"55\" height=\"55\" style=\"fill:#192678;stroke-width:2;stroke:rgb(255,255,255)\"/><rect x=\"275\" y=\"0\" width=\"55\" height=\"55\" style=\"fill:#16278a;stroke-width:2;stroke:rgb(255,255,255)\"/><rect x=\"330\" y=\"0\" width=\"55\" height=\"55\" style=\"fill:#13279b;stroke-width:2;stroke:rgb(255,255,255)\"/><rect x=\"385\" y=\"0\" width=\"55\" height=\"55\" style=\"fill:#1127ad;stroke-width:2;stroke:rgb(255,255,255)\"/><rect x=\"440\" y=\"0\" width=\"55\" height=\"55\" style=\"fill:#0e28bf;stroke-width:2;stroke:rgb(255,255,255)\"/><rect x=\"495\" y=\"0\" width=\"55\" height=\"55\" style=\"fill:#0b28d0;stroke-width:2;stroke:rgb(255,255,255)\"/></svg>"
      ],
      "text/plain": [
       "[(0.14217064351973224, 0.14390410693260464, 0.19354284782618525),\n",
       " (0.13129638908327107, 0.14532701622135824, 0.26185663585419044),\n",
       " (0.12042213464680988, 0.14674992551011184, 0.33017042388219564),\n",
       " (0.10915951398047509, 0.1482236529877495, 0.4009239900540581),\n",
       " (0.0982852595440139, 0.1496465622765031, 0.4692377780820633),\n",
       " (0.08702263887767911, 0.15112028975414074, 0.5399913442539259),\n",
       " (0.07614838444121794, 0.15254319904289435, 0.6083051322819311),\n",
       " (0.06488576377488314, 0.154016926520532, 0.6790586984537935),\n",
       " (0.05401150933842197, 0.1554398358092856, 0.7473724864817987),\n",
       " (0.043137254901960784, 0.1568627450980392, 0.8156862745098039)]"
      ]
     },
     "execution_count": 6,
     "metadata": {},
     "output_type": "execute_result"
    }
   ],
   "source": [
    "# Colour palette for the various graphics\n",
    "n_colors = 10\n",
    "palette_map = sns.color_palette(\"dark:#0B28D0\", n_colors=n_colors,as_cmap=False)\n",
    "palette_map"
   ]
  },
  {
   "cell_type": "markdown",
   "metadata": {},
   "source": [
    "### **0.2 - Normalisation de l'affichage des graphiques**"
   ]
  },
  {
   "cell_type": "code",
   "execution_count": 7,
   "metadata": {},
   "outputs": [],
   "source": [
    "# Defines display options for rows and columns\n",
    "pd.set_option('display.max_row',100)\n",
    "pd.set_option('display.max_column',100)"
   ]
  },
  {
   "cell_type": "code",
   "execution_count": 8,
   "metadata": {},
   "outputs": [],
   "source": [
    "# Defines title formatting\n",
    "plt.rcParams['axes.titlesize'] = 16\n",
    "plt.rcParams['axes.titlecolor'] = '#000'\n",
    "plt.rcParams['axes.titlepad'] = 20\n",
    "# Defines axis formatting\n",
    "plt.rcParams['axes.labelsize'] = 10\n",
    "plt.rcParams['axes.labelcolor'] = '#EDAD01'\n",
    "#Defines scale formatting\n",
    "plt.rcParams['xtick.labelsize'] = 8\n",
    "plt.rcParams['ytick.labelsize'] = 8 \n",
    "plt.rcParams['xtick.color'] = '#333'\n",
    "plt.rcParams['ytick.color'] = '#333'"
   ]
  },
  {
   "cell_type": "code",
   "execution_count": 9,
   "metadata": {},
   "outputs": [],
   "source": [
    "sns.set_theme(style=\"whitegrid\", context=\"notebook\", font_scale=1.2,\n",
    "              rc={\"axes.titlesize\":16, \n",
    "                  \"axes.labelsize\":10, \n",
    "                  \"xtick.labelsize\":8, \n",
    "                  \"ytick.labelsize\":8, \n",
    "                  \"xtick.color\":\"#333\", \n",
    "                  \"ytick.color\":\"#333\", \n",
    "                  \"axes.titlecolor\":\"#000\", \n",
    "                  \"axes.labelcolor\":\"#EDAD01\"\n",
    "                  })"
   ]
  },
  {
   "cell_type": "markdown",
   "metadata": {},
   "source": [
    "## **1. Description des data set**\n",
    "***"
   ]
  },
  {
   "cell_type": "markdown",
   "metadata": {},
   "source": [
    "### **1.1 custormers**"
   ]
  },
  {
   "cell_type": "markdown",
   "metadata": {},
   "source": [
    "Cet ensemble de données contient des informations sur le client et sa localisation. Chaque commande est associée à un identifiant client unique."
   ]
  },
  {
   "cell_type": "code",
   "execution_count": 10,
   "metadata": {},
   "outputs": [
    {
     "name": "stdout",
     "output_type": "stream",
     "text": [
      "<class 'pandas.core.frame.DataFrame'>\n",
      "RangeIndex: 99441 entries, 0 to 99440\n",
      "Data columns (total 5 columns):\n",
      " #   Column                    Non-Null Count  Dtype \n",
      "---  ------                    --------------  ----- \n",
      " 0   customer_id               99441 non-null  object\n",
      " 1   customer_unique_id        99441 non-null  object\n",
      " 2   customer_zip_code_prefix  99441 non-null  int64 \n",
      " 3   customer_city             99441 non-null  object\n",
      " 4   customer_state            99441 non-null  object\n",
      "dtypes: int64(1), object(4)\n",
      "memory usage: 3.8+ MB\n"
     ]
    }
   ],
   "source": [
    "df_customers.info()"
   ]
  },
  {
   "cell_type": "code",
   "execution_count": 11,
   "metadata": {},
   "outputs": [
    {
     "data": {
      "text/html": [
       "<div>\n",
       "<style scoped>\n",
       "    .dataframe tbody tr th:only-of-type {\n",
       "        vertical-align: middle;\n",
       "    }\n",
       "\n",
       "    .dataframe tbody tr th {\n",
       "        vertical-align: top;\n",
       "    }\n",
       "\n",
       "    .dataframe thead th {\n",
       "        text-align: right;\n",
       "    }\n",
       "</style>\n",
       "<table border=\"1\" class=\"dataframe\">\n",
       "  <thead>\n",
       "    <tr style=\"text-align: right;\">\n",
       "      <th></th>\n",
       "      <th>customer_id</th>\n",
       "      <th>customer_unique_id</th>\n",
       "      <th>customer_zip_code_prefix</th>\n",
       "      <th>customer_city</th>\n",
       "      <th>customer_state</th>\n",
       "    </tr>\n",
       "  </thead>\n",
       "  <tbody>\n",
       "    <tr>\n",
       "      <th>23752</th>\n",
       "      <td>8aba3eac72f0fb726c15140c5e7b5d5b</td>\n",
       "      <td>a1ec25928532606ff2a113ef95963c12</td>\n",
       "      <td>5729</td>\n",
       "      <td>sao paulo</td>\n",
       "      <td>SP</td>\n",
       "    </tr>\n",
       "    <tr>\n",
       "      <th>18970</th>\n",
       "      <td>326cd7173402f166f337b4abecbadba4</td>\n",
       "      <td>added1a2b033889698075770b7514df7</td>\n",
       "      <td>25585</td>\n",
       "      <td>sao joao de meriti</td>\n",
       "      <td>RJ</td>\n",
       "    </tr>\n",
       "  </tbody>\n",
       "</table>\n",
       "</div>"
      ],
      "text/plain": [
       "                            customer_id                customer_unique_id  \\\n",
       "23752  8aba3eac72f0fb726c15140c5e7b5d5b  a1ec25928532606ff2a113ef95963c12   \n",
       "18970  326cd7173402f166f337b4abecbadba4  added1a2b033889698075770b7514df7   \n",
       "\n",
       "       customer_zip_code_prefix       customer_city customer_state  \n",
       "23752                      5729           sao paulo             SP  \n",
       "18970                     25585  sao joao de meriti             RJ  "
      ]
     },
     "execution_count": 11,
     "metadata": {},
     "output_type": "execute_result"
    }
   ],
   "source": [
    "df_customers.sample(2)"
   ]
  },
  {
   "cell_type": "code",
   "execution_count": 12,
   "metadata": {},
   "outputs": [
    {
     "data": {
      "text/plain": [
       "customer_id                 0.0\n",
       "customer_unique_id          0.0\n",
       "customer_zip_code_prefix    0.0\n",
       "customer_city               0.0\n",
       "customer_state              0.0\n",
       "dtype: float64"
      ]
     },
     "execution_count": 12,
     "metadata": {},
     "output_type": "execute_result"
    }
   ],
   "source": [
    "df_customers.isna().mean()"
   ]
  },
  {
   "cell_type": "markdown",
   "metadata": {},
   "source": [
    "### **1.2 geolocalisation**"
   ]
  },
  {
   "cell_type": "markdown",
   "metadata": {},
   "source": [
    "Ce jeu de données contient des informations sur les codes postaux brésiliens et leurs coordonnées lat/lng."
   ]
  },
  {
   "cell_type": "code",
   "execution_count": 13,
   "metadata": {},
   "outputs": [
    {
     "name": "stdout",
     "output_type": "stream",
     "text": [
      "<class 'pandas.core.frame.DataFrame'>\n",
      "RangeIndex: 1000163 entries, 0 to 1000162\n",
      "Data columns (total 5 columns):\n",
      " #   Column                       Non-Null Count    Dtype  \n",
      "---  ------                       --------------    -----  \n",
      " 0   geolocation_zip_code_prefix  1000163 non-null  int64  \n",
      " 1   geolocation_lat              1000163 non-null  float64\n",
      " 2   geolocation_lng              1000163 non-null  float64\n",
      " 3   geolocation_city             1000163 non-null  object \n",
      " 4   geolocation_state            1000163 non-null  object \n",
      "dtypes: float64(2), int64(1), object(2)\n",
      "memory usage: 38.2+ MB\n"
     ]
    }
   ],
   "source": [
    "df_geolocation.info()"
   ]
  },
  {
   "cell_type": "code",
   "execution_count": 14,
   "metadata": {},
   "outputs": [
    {
     "data": {
      "text/html": [
       "<div>\n",
       "<style scoped>\n",
       "    .dataframe tbody tr th:only-of-type {\n",
       "        vertical-align: middle;\n",
       "    }\n",
       "\n",
       "    .dataframe tbody tr th {\n",
       "        vertical-align: top;\n",
       "    }\n",
       "\n",
       "    .dataframe thead th {\n",
       "        text-align: right;\n",
       "    }\n",
       "</style>\n",
       "<table border=\"1\" class=\"dataframe\">\n",
       "  <thead>\n",
       "    <tr style=\"text-align: right;\">\n",
       "      <th></th>\n",
       "      <th>geolocation_zip_code_prefix</th>\n",
       "      <th>geolocation_lat</th>\n",
       "      <th>geolocation_lng</th>\n",
       "      <th>geolocation_city</th>\n",
       "      <th>geolocation_state</th>\n",
       "    </tr>\n",
       "  </thead>\n",
       "  <tbody>\n",
       "    <tr>\n",
       "      <th>808609</th>\n",
       "      <td>75909</td>\n",
       "      <td>-17.793199</td>\n",
       "      <td>-50.951940</td>\n",
       "      <td>rio verde</td>\n",
       "      <td>GO</td>\n",
       "    </tr>\n",
       "    <tr>\n",
       "      <th>344728</th>\n",
       "      <td>14940</td>\n",
       "      <td>-21.748148</td>\n",
       "      <td>-48.835235</td>\n",
       "      <td>ibitinga</td>\n",
       "      <td>SP</td>\n",
       "    </tr>\n",
       "  </tbody>\n",
       "</table>\n",
       "</div>"
      ],
      "text/plain": [
       "        geolocation_zip_code_prefix  geolocation_lat  geolocation_lng  \\\n",
       "808609                        75909       -17.793199       -50.951940   \n",
       "344728                        14940       -21.748148       -48.835235   \n",
       "\n",
       "       geolocation_city geolocation_state  \n",
       "808609        rio verde                GO  \n",
       "344728         ibitinga                SP  "
      ]
     },
     "execution_count": 14,
     "metadata": {},
     "output_type": "execute_result"
    }
   ],
   "source": [
    "df_geolocation.sample(2)"
   ]
  },
  {
   "cell_type": "code",
   "execution_count": 15,
   "metadata": {},
   "outputs": [
    {
     "data": {
      "text/plain": [
       "geolocation_zip_code_prefix    0.0\n",
       "geolocation_lat                0.0\n",
       "geolocation_lng                0.0\n",
       "geolocation_city               0.0\n",
       "geolocation_state              0.0\n",
       "dtype: float64"
      ]
     },
     "execution_count": 15,
     "metadata": {},
     "output_type": "execute_result"
    }
   ],
   "source": [
    "df_geolocation.isna().mean()"
   ]
  },
  {
   "cell_type": "markdown",
   "metadata": {},
   "source": [
    "### **1.3 order_items**"
   ]
  },
  {
   "cell_type": "markdown",
   "metadata": {},
   "source": [
    "Cet ensemble de données comprend des informations sur les articles achetés lors de chaque commande."
   ]
  },
  {
   "cell_type": "code",
   "execution_count": 16,
   "metadata": {},
   "outputs": [
    {
     "name": "stdout",
     "output_type": "stream",
     "text": [
      "<class 'pandas.core.frame.DataFrame'>\n",
      "RangeIndex: 112650 entries, 0 to 112649\n",
      "Data columns (total 7 columns):\n",
      " #   Column               Non-Null Count   Dtype  \n",
      "---  ------               --------------   -----  \n",
      " 0   order_id             112650 non-null  object \n",
      " 1   order_item_id        112650 non-null  int64  \n",
      " 2   product_id           112650 non-null  object \n",
      " 3   seller_id            112650 non-null  object \n",
      " 4   shipping_limit_date  112650 non-null  object \n",
      " 5   price                112650 non-null  float64\n",
      " 6   freight_value        112650 non-null  float64\n",
      "dtypes: float64(2), int64(1), object(4)\n",
      "memory usage: 6.0+ MB\n"
     ]
    }
   ],
   "source": [
    "df_order_items.info()"
   ]
  },
  {
   "cell_type": "code",
   "execution_count": 17,
   "metadata": {},
   "outputs": [
    {
     "data": {
      "text/html": [
       "<div>\n",
       "<style scoped>\n",
       "    .dataframe tbody tr th:only-of-type {\n",
       "        vertical-align: middle;\n",
       "    }\n",
       "\n",
       "    .dataframe tbody tr th {\n",
       "        vertical-align: top;\n",
       "    }\n",
       "\n",
       "    .dataframe thead th {\n",
       "        text-align: right;\n",
       "    }\n",
       "</style>\n",
       "<table border=\"1\" class=\"dataframe\">\n",
       "  <thead>\n",
       "    <tr style=\"text-align: right;\">\n",
       "      <th></th>\n",
       "      <th>order_item_id</th>\n",
       "      <th>price</th>\n",
       "      <th>freight_value</th>\n",
       "    </tr>\n",
       "  </thead>\n",
       "  <tbody>\n",
       "    <tr>\n",
       "      <th>count</th>\n",
       "      <td>112650.000000</td>\n",
       "      <td>112650.000000</td>\n",
       "      <td>112650.000000</td>\n",
       "    </tr>\n",
       "    <tr>\n",
       "      <th>mean</th>\n",
       "      <td>1.197834</td>\n",
       "      <td>120.653739</td>\n",
       "      <td>19.990320</td>\n",
       "    </tr>\n",
       "    <tr>\n",
       "      <th>std</th>\n",
       "      <td>0.705124</td>\n",
       "      <td>183.633928</td>\n",
       "      <td>15.806405</td>\n",
       "    </tr>\n",
       "    <tr>\n",
       "      <th>min</th>\n",
       "      <td>1.000000</td>\n",
       "      <td>0.850000</td>\n",
       "      <td>0.000000</td>\n",
       "    </tr>\n",
       "    <tr>\n",
       "      <th>25%</th>\n",
       "      <td>1.000000</td>\n",
       "      <td>39.900000</td>\n",
       "      <td>13.080000</td>\n",
       "    </tr>\n",
       "    <tr>\n",
       "      <th>50%</th>\n",
       "      <td>1.000000</td>\n",
       "      <td>74.990000</td>\n",
       "      <td>16.260000</td>\n",
       "    </tr>\n",
       "    <tr>\n",
       "      <th>75%</th>\n",
       "      <td>1.000000</td>\n",
       "      <td>134.900000</td>\n",
       "      <td>21.150000</td>\n",
       "    </tr>\n",
       "    <tr>\n",
       "      <th>max</th>\n",
       "      <td>21.000000</td>\n",
       "      <td>6735.000000</td>\n",
       "      <td>409.680000</td>\n",
       "    </tr>\n",
       "  </tbody>\n",
       "</table>\n",
       "</div>"
      ],
      "text/plain": [
       "       order_item_id          price  freight_value\n",
       "count  112650.000000  112650.000000  112650.000000\n",
       "mean        1.197834     120.653739      19.990320\n",
       "std         0.705124     183.633928      15.806405\n",
       "min         1.000000       0.850000       0.000000\n",
       "25%         1.000000      39.900000      13.080000\n",
       "50%         1.000000      74.990000      16.260000\n",
       "75%         1.000000     134.900000      21.150000\n",
       "max        21.000000    6735.000000     409.680000"
      ]
     },
     "execution_count": 17,
     "metadata": {},
     "output_type": "execute_result"
    }
   ],
   "source": [
    "df_order_items.describe()"
   ]
  },
  {
   "cell_type": "code",
   "execution_count": 18,
   "metadata": {},
   "outputs": [
    {
     "data": {
      "text/html": [
       "<div>\n",
       "<style scoped>\n",
       "    .dataframe tbody tr th:only-of-type {\n",
       "        vertical-align: middle;\n",
       "    }\n",
       "\n",
       "    .dataframe tbody tr th {\n",
       "        vertical-align: top;\n",
       "    }\n",
       "\n",
       "    .dataframe thead th {\n",
       "        text-align: right;\n",
       "    }\n",
       "</style>\n",
       "<table border=\"1\" class=\"dataframe\">\n",
       "  <thead>\n",
       "    <tr style=\"text-align: right;\">\n",
       "      <th></th>\n",
       "      <th>order_id</th>\n",
       "      <th>order_item_id</th>\n",
       "      <th>product_id</th>\n",
       "      <th>seller_id</th>\n",
       "      <th>shipping_limit_date</th>\n",
       "      <th>price</th>\n",
       "      <th>freight_value</th>\n",
       "    </tr>\n",
       "  </thead>\n",
       "  <tbody>\n",
       "    <tr>\n",
       "      <th>61737</th>\n",
       "      <td>8cda3e06e93016da7b1b99e24398d19f</td>\n",
       "      <td>1</td>\n",
       "      <td>5a4491fb73ef5c6689be17bfb30642eb</td>\n",
       "      <td>4371b634e0efc0e22b09b52907d9d469</td>\n",
       "      <td>2018-05-02 15:12:16</td>\n",
       "      <td>200.0</td>\n",
       "      <td>16.28</td>\n",
       "    </tr>\n",
       "    <tr>\n",
       "      <th>48350</th>\n",
       "      <td>6def446d620c67c66889bf68e0552870</td>\n",
       "      <td>1</td>\n",
       "      <td>42697582a754e573f9e3e9e78752252c</td>\n",
       "      <td>87142160b41353c4e5fca2360caf6f92</td>\n",
       "      <td>2018-06-14 16:55:10</td>\n",
       "      <td>69.0</td>\n",
       "      <td>23.06</td>\n",
       "    </tr>\n",
       "  </tbody>\n",
       "</table>\n",
       "</div>"
      ],
      "text/plain": [
       "                               order_id  order_item_id  \\\n",
       "61737  8cda3e06e93016da7b1b99e24398d19f              1   \n",
       "48350  6def446d620c67c66889bf68e0552870              1   \n",
       "\n",
       "                             product_id                         seller_id  \\\n",
       "61737  5a4491fb73ef5c6689be17bfb30642eb  4371b634e0efc0e22b09b52907d9d469   \n",
       "48350  42697582a754e573f9e3e9e78752252c  87142160b41353c4e5fca2360caf6f92   \n",
       "\n",
       "       shipping_limit_date  price  freight_value  \n",
       "61737  2018-05-02 15:12:16  200.0          16.28  \n",
       "48350  2018-06-14 16:55:10   69.0          23.06  "
      ]
     },
     "execution_count": 18,
     "metadata": {},
     "output_type": "execute_result"
    }
   ],
   "source": [
    "df_order_items.sample(2)"
   ]
  },
  {
   "cell_type": "code",
   "execution_count": 19,
   "metadata": {},
   "outputs": [
    {
     "data": {
      "text/plain": [
       "order_id               0.0\n",
       "order_item_id          0.0\n",
       "product_id             0.0\n",
       "seller_id              0.0\n",
       "shipping_limit_date    0.0\n",
       "price                  0.0\n",
       "freight_value          0.0\n",
       "dtype: float64"
      ]
     },
     "execution_count": 19,
     "metadata": {},
     "output_type": "execute_result"
    }
   ],
   "source": [
    "df_order_items.isna().mean()"
   ]
  },
  {
   "cell_type": "markdown",
   "metadata": {},
   "source": [
    "### **1.4 order_payments**"
   ]
  },
  {
   "cell_type": "markdown",
   "metadata": {},
   "source": [
    "Cet ensemble de données comprend des données sur les options de paiement des commandes."
   ]
  },
  {
   "cell_type": "code",
   "execution_count": 20,
   "metadata": {},
   "outputs": [
    {
     "name": "stdout",
     "output_type": "stream",
     "text": [
      "<class 'pandas.core.frame.DataFrame'>\n",
      "RangeIndex: 103886 entries, 0 to 103885\n",
      "Data columns (total 5 columns):\n",
      " #   Column                Non-Null Count   Dtype  \n",
      "---  ------                --------------   -----  \n",
      " 0   order_id              103886 non-null  object \n",
      " 1   payment_sequential    103886 non-null  int64  \n",
      " 2   payment_type          103886 non-null  object \n",
      " 3   payment_installments  103886 non-null  int64  \n",
      " 4   payment_value         103886 non-null  float64\n",
      "dtypes: float64(1), int64(2), object(2)\n",
      "memory usage: 4.0+ MB\n"
     ]
    }
   ],
   "source": [
    "df_order_payments.info()"
   ]
  },
  {
   "cell_type": "code",
   "execution_count": 21,
   "metadata": {},
   "outputs": [
    {
     "data": {
      "text/html": [
       "<div>\n",
       "<style scoped>\n",
       "    .dataframe tbody tr th:only-of-type {\n",
       "        vertical-align: middle;\n",
       "    }\n",
       "\n",
       "    .dataframe tbody tr th {\n",
       "        vertical-align: top;\n",
       "    }\n",
       "\n",
       "    .dataframe thead th {\n",
       "        text-align: right;\n",
       "    }\n",
       "</style>\n",
       "<table border=\"1\" class=\"dataframe\">\n",
       "  <thead>\n",
       "    <tr style=\"text-align: right;\">\n",
       "      <th></th>\n",
       "      <th>payment_sequential</th>\n",
       "      <th>payment_installments</th>\n",
       "      <th>payment_value</th>\n",
       "    </tr>\n",
       "  </thead>\n",
       "  <tbody>\n",
       "    <tr>\n",
       "      <th>count</th>\n",
       "      <td>103886.000000</td>\n",
       "      <td>103886.000000</td>\n",
       "      <td>103886.000000</td>\n",
       "    </tr>\n",
       "    <tr>\n",
       "      <th>mean</th>\n",
       "      <td>1.092679</td>\n",
       "      <td>2.853349</td>\n",
       "      <td>154.100380</td>\n",
       "    </tr>\n",
       "    <tr>\n",
       "      <th>std</th>\n",
       "      <td>0.706584</td>\n",
       "      <td>2.687051</td>\n",
       "      <td>217.494064</td>\n",
       "    </tr>\n",
       "    <tr>\n",
       "      <th>min</th>\n",
       "      <td>1.000000</td>\n",
       "      <td>0.000000</td>\n",
       "      <td>0.000000</td>\n",
       "    </tr>\n",
       "    <tr>\n",
       "      <th>25%</th>\n",
       "      <td>1.000000</td>\n",
       "      <td>1.000000</td>\n",
       "      <td>56.790000</td>\n",
       "    </tr>\n",
       "    <tr>\n",
       "      <th>50%</th>\n",
       "      <td>1.000000</td>\n",
       "      <td>1.000000</td>\n",
       "      <td>100.000000</td>\n",
       "    </tr>\n",
       "    <tr>\n",
       "      <th>75%</th>\n",
       "      <td>1.000000</td>\n",
       "      <td>4.000000</td>\n",
       "      <td>171.837500</td>\n",
       "    </tr>\n",
       "    <tr>\n",
       "      <th>max</th>\n",
       "      <td>29.000000</td>\n",
       "      <td>24.000000</td>\n",
       "      <td>13664.080000</td>\n",
       "    </tr>\n",
       "  </tbody>\n",
       "</table>\n",
       "</div>"
      ],
      "text/plain": [
       "       payment_sequential  payment_installments  payment_value\n",
       "count       103886.000000         103886.000000  103886.000000\n",
       "mean             1.092679              2.853349     154.100380\n",
       "std              0.706584              2.687051     217.494064\n",
       "min              1.000000              0.000000       0.000000\n",
       "25%              1.000000              1.000000      56.790000\n",
       "50%              1.000000              1.000000     100.000000\n",
       "75%              1.000000              4.000000     171.837500\n",
       "max             29.000000             24.000000   13664.080000"
      ]
     },
     "execution_count": 21,
     "metadata": {},
     "output_type": "execute_result"
    }
   ],
   "source": [
    "df_order_payments.describe()"
   ]
  },
  {
   "cell_type": "code",
   "execution_count": 22,
   "metadata": {},
   "outputs": [
    {
     "data": {
      "text/html": [
       "<div>\n",
       "<style scoped>\n",
       "    .dataframe tbody tr th:only-of-type {\n",
       "        vertical-align: middle;\n",
       "    }\n",
       "\n",
       "    .dataframe tbody tr th {\n",
       "        vertical-align: top;\n",
       "    }\n",
       "\n",
       "    .dataframe thead th {\n",
       "        text-align: right;\n",
       "    }\n",
       "</style>\n",
       "<table border=\"1\" class=\"dataframe\">\n",
       "  <thead>\n",
       "    <tr style=\"text-align: right;\">\n",
       "      <th></th>\n",
       "      <th>order_id</th>\n",
       "      <th>payment_sequential</th>\n",
       "      <th>payment_type</th>\n",
       "      <th>payment_installments</th>\n",
       "      <th>payment_value</th>\n",
       "    </tr>\n",
       "  </thead>\n",
       "  <tbody>\n",
       "    <tr>\n",
       "      <th>7070</th>\n",
       "      <td>ae44f114faaadcc8fdbcdda840ffee18</td>\n",
       "      <td>1</td>\n",
       "      <td>credit_card</td>\n",
       "      <td>1</td>\n",
       "      <td>160.54</td>\n",
       "    </tr>\n",
       "    <tr>\n",
       "      <th>17571</th>\n",
       "      <td>0a511bcdd22a725ca670b0102ac0be73</td>\n",
       "      <td>1</td>\n",
       "      <td>boleto</td>\n",
       "      <td>1</td>\n",
       "      <td>133.48</td>\n",
       "    </tr>\n",
       "  </tbody>\n",
       "</table>\n",
       "</div>"
      ],
      "text/plain": [
       "                               order_id  payment_sequential payment_type  \\\n",
       "7070   ae44f114faaadcc8fdbcdda840ffee18                   1  credit_card   \n",
       "17571  0a511bcdd22a725ca670b0102ac0be73                   1       boleto   \n",
       "\n",
       "       payment_installments  payment_value  \n",
       "7070                      1         160.54  \n",
       "17571                     1         133.48  "
      ]
     },
     "execution_count": 22,
     "metadata": {},
     "output_type": "execute_result"
    }
   ],
   "source": [
    "df_order_payments.sample(2)"
   ]
  },
  {
   "cell_type": "code",
   "execution_count": 23,
   "metadata": {},
   "outputs": [
    {
     "data": {
      "text/plain": [
       "order_id                0.0\n",
       "payment_sequential      0.0\n",
       "payment_type            0.0\n",
       "payment_installments    0.0\n",
       "payment_value           0.0\n",
       "dtype: float64"
      ]
     },
     "execution_count": 23,
     "metadata": {},
     "output_type": "execute_result"
    }
   ],
   "source": [
    "df_order_payments.isna().mean()"
   ]
  },
  {
   "cell_type": "markdown",
   "metadata": {},
   "source": [
    "### **1.5 order_reviews**"
   ]
  },
  {
   "cell_type": "markdown",
   "metadata": {},
   "source": [
    "Cet ensemble de données comprend des données sur les avis émis par les clients. Une fois que le client a reçu le produit il reçoit par courrier électronique une enquête de satisfaction dans laquelle il peut donner une note sur son expérience d'achat et écrire quelques commentaires."
   ]
  },
  {
   "cell_type": "code",
   "execution_count": 24,
   "metadata": {},
   "outputs": [
    {
     "name": "stdout",
     "output_type": "stream",
     "text": [
      "<class 'pandas.core.frame.DataFrame'>\n",
      "RangeIndex: 99224 entries, 0 to 99223\n",
      "Data columns (total 7 columns):\n",
      " #   Column                   Non-Null Count  Dtype \n",
      "---  ------                   --------------  ----- \n",
      " 0   review_id                99224 non-null  object\n",
      " 1   order_id                 99224 non-null  object\n",
      " 2   review_score             99224 non-null  int64 \n",
      " 3   review_comment_title     11568 non-null  object\n",
      " 4   review_comment_message   40977 non-null  object\n",
      " 5   review_creation_date     99224 non-null  object\n",
      " 6   review_answer_timestamp  99224 non-null  object\n",
      "dtypes: int64(1), object(6)\n",
      "memory usage: 5.3+ MB\n"
     ]
    }
   ],
   "source": [
    "df_order_reviews.info()"
   ]
  },
  {
   "cell_type": "code",
   "execution_count": 25,
   "metadata": {},
   "outputs": [
    {
     "data": {
      "text/html": [
       "<div>\n",
       "<style scoped>\n",
       "    .dataframe tbody tr th:only-of-type {\n",
       "        vertical-align: middle;\n",
       "    }\n",
       "\n",
       "    .dataframe tbody tr th {\n",
       "        vertical-align: top;\n",
       "    }\n",
       "\n",
       "    .dataframe thead th {\n",
       "        text-align: right;\n",
       "    }\n",
       "</style>\n",
       "<table border=\"1\" class=\"dataframe\">\n",
       "  <thead>\n",
       "    <tr style=\"text-align: right;\">\n",
       "      <th></th>\n",
       "      <th>review_score</th>\n",
       "    </tr>\n",
       "  </thead>\n",
       "  <tbody>\n",
       "    <tr>\n",
       "      <th>count</th>\n",
       "      <td>99224.000000</td>\n",
       "    </tr>\n",
       "    <tr>\n",
       "      <th>mean</th>\n",
       "      <td>4.086421</td>\n",
       "    </tr>\n",
       "    <tr>\n",
       "      <th>std</th>\n",
       "      <td>1.347579</td>\n",
       "    </tr>\n",
       "    <tr>\n",
       "      <th>min</th>\n",
       "      <td>1.000000</td>\n",
       "    </tr>\n",
       "    <tr>\n",
       "      <th>25%</th>\n",
       "      <td>4.000000</td>\n",
       "    </tr>\n",
       "    <tr>\n",
       "      <th>50%</th>\n",
       "      <td>5.000000</td>\n",
       "    </tr>\n",
       "    <tr>\n",
       "      <th>75%</th>\n",
       "      <td>5.000000</td>\n",
       "    </tr>\n",
       "    <tr>\n",
       "      <th>max</th>\n",
       "      <td>5.000000</td>\n",
       "    </tr>\n",
       "  </tbody>\n",
       "</table>\n",
       "</div>"
      ],
      "text/plain": [
       "       review_score\n",
       "count  99224.000000\n",
       "mean       4.086421\n",
       "std        1.347579\n",
       "min        1.000000\n",
       "25%        4.000000\n",
       "50%        5.000000\n",
       "75%        5.000000\n",
       "max        5.000000"
      ]
     },
     "execution_count": 25,
     "metadata": {},
     "output_type": "execute_result"
    }
   ],
   "source": [
    "df_order_reviews.describe()"
   ]
  },
  {
   "cell_type": "code",
   "execution_count": 26,
   "metadata": {},
   "outputs": [
    {
     "data": {
      "text/html": [
       "<div>\n",
       "<style scoped>\n",
       "    .dataframe tbody tr th:only-of-type {\n",
       "        vertical-align: middle;\n",
       "    }\n",
       "\n",
       "    .dataframe tbody tr th {\n",
       "        vertical-align: top;\n",
       "    }\n",
       "\n",
       "    .dataframe thead th {\n",
       "        text-align: right;\n",
       "    }\n",
       "</style>\n",
       "<table border=\"1\" class=\"dataframe\">\n",
       "  <thead>\n",
       "    <tr style=\"text-align: right;\">\n",
       "      <th></th>\n",
       "      <th>review_id</th>\n",
       "      <th>order_id</th>\n",
       "      <th>review_score</th>\n",
       "      <th>review_comment_title</th>\n",
       "      <th>review_comment_message</th>\n",
       "      <th>review_creation_date</th>\n",
       "      <th>review_answer_timestamp</th>\n",
       "    </tr>\n",
       "  </thead>\n",
       "  <tbody>\n",
       "    <tr>\n",
       "      <th>11924</th>\n",
       "      <td>26f5ca6c18637079526ad5fd2bb25066</td>\n",
       "      <td>29403a103be3d8cb0c34a1cd6a90aaaa</td>\n",
       "      <td>2</td>\n",
       "      <td>NaN</td>\n",
       "      <td>NaN</td>\n",
       "      <td>2017-04-21 00:00:00</td>\n",
       "      <td>2017-04-21 22:37:04</td>\n",
       "    </tr>\n",
       "    <tr>\n",
       "      <th>4303</th>\n",
       "      <td>139f28bb2ea75ecc056be3b6600719e1</td>\n",
       "      <td>31a8fcbeaa65f2a7dec1abee188ffcc9</td>\n",
       "      <td>4</td>\n",
       "      <td>NaN</td>\n",
       "      <td>NaN</td>\n",
       "      <td>2017-09-28 00:00:00</td>\n",
       "      <td>2017-09-29 22:51:24</td>\n",
       "    </tr>\n",
       "  </tbody>\n",
       "</table>\n",
       "</div>"
      ],
      "text/plain": [
       "                              review_id                          order_id  \\\n",
       "11924  26f5ca6c18637079526ad5fd2bb25066  29403a103be3d8cb0c34a1cd6a90aaaa   \n",
       "4303   139f28bb2ea75ecc056be3b6600719e1  31a8fcbeaa65f2a7dec1abee188ffcc9   \n",
       "\n",
       "       review_score review_comment_title review_comment_message  \\\n",
       "11924             2                  NaN                    NaN   \n",
       "4303              4                  NaN                    NaN   \n",
       "\n",
       "      review_creation_date review_answer_timestamp  \n",
       "11924  2017-04-21 00:00:00     2017-04-21 22:37:04  \n",
       "4303   2017-09-28 00:00:00     2017-09-29 22:51:24  "
      ]
     },
     "execution_count": 26,
     "metadata": {},
     "output_type": "execute_result"
    }
   ],
   "source": [
    "df_order_reviews.sample(2)"
   ]
  },
  {
   "cell_type": "code",
   "execution_count": 27,
   "metadata": {},
   "outputs": [
    {
     "data": {
      "text/plain": [
       "review_id                  0.000000\n",
       "order_id                   0.000000\n",
       "review_score               0.000000\n",
       "review_comment_title       0.883415\n",
       "review_comment_message     0.587025\n",
       "review_creation_date       0.000000\n",
       "review_answer_timestamp    0.000000\n",
       "dtype: float64"
      ]
     },
     "execution_count": 27,
     "metadata": {},
     "output_type": "execute_result"
    }
   ],
   "source": [
    "df_order_reviews.isna().mean()"
   ]
  },
  {
   "cell_type": "code",
   "execution_count": 28,
   "metadata": {},
   "outputs": [
    {
     "data": {
      "text/plain": [
       "<Axes: >"
      ]
     },
     "execution_count": 28,
     "metadata": {},
     "output_type": "execute_result"
    },
    {
     "data": {
      "image/png": "[encoded data removed]",
      "text/plain": [
       "<Figure size 640x480 with 2 Axes>"
      ]
     },
     "metadata": {},
     "output_type": "display_data"
    }
   ],
   "source": [
    "sns.heatmap(df_order_reviews.isna())"
   ]
  },
  {
   "cell_type": "markdown",
   "metadata": {},
   "source": [
    "### **1.6 orders**"
   ]
  },
  {
   "cell_type": "markdown",
   "metadata": {},
   "source": [
    "Il s'agit de l'ensemble de données de base sur chacune des commandes."
   ]
  },
  {
   "cell_type": "code",
   "execution_count": 29,
   "metadata": {},
   "outputs": [
    {
     "name": "stdout",
     "output_type": "stream",
     "text": [
      "<class 'pandas.core.frame.DataFrame'>\n",
      "RangeIndex: 99441 entries, 0 to 99440\n",
      "Data columns (total 8 columns):\n",
      " #   Column                         Non-Null Count  Dtype \n",
      "---  ------                         --------------  ----- \n",
      " 0   order_id                       99441 non-null  object\n",
      " 1   customer_id                    99441 non-null  object\n",
      " 2   order_status                   99441 non-null  object\n",
      " 3   order_purchase_timestamp       99441 non-null  object\n",
      " 4   order_approved_at              99281 non-null  object\n",
      " 5   order_delivered_carrier_date   97658 non-null  object\n",
      " 6   order_delivered_customer_date  96476 non-null  object\n",
      " 7   order_estimated_delivery_date  99441 non-null  object\n",
      "dtypes: object(8)\n",
      "memory usage: 6.1+ MB\n"
     ]
    }
   ],
   "source": [
    "df_orders.info()"
   ]
  },
  {
   "cell_type": "code",
   "execution_count": 30,
   "metadata": {},
   "outputs": [
    {
     "data": {
      "text/html": [
       "<div>\n",
       "<style scoped>\n",
       "    .dataframe tbody tr th:only-of-type {\n",
       "        vertical-align: middle;\n",
       "    }\n",
       "\n",
       "    .dataframe tbody tr th {\n",
       "        vertical-align: top;\n",
       "    }\n",
       "\n",
       "    .dataframe thead th {\n",
       "        text-align: right;\n",
       "    }\n",
       "</style>\n",
       "<table border=\"1\" class=\"dataframe\">\n",
       "  <thead>\n",
       "    <tr style=\"text-align: right;\">\n",
       "      <th></th>\n",
       "      <th>order_id</th>\n",
       "      <th>customer_id</th>\n",
       "      <th>order_status</th>\n",
       "      <th>order_purchase_timestamp</th>\n",
       "      <th>order_approved_at</th>\n",
       "      <th>order_delivered_carrier_date</th>\n",
       "      <th>order_delivered_customer_date</th>\n",
       "      <th>order_estimated_delivery_date</th>\n",
       "    </tr>\n",
       "  </thead>\n",
       "  <tbody>\n",
       "    <tr>\n",
       "      <th>19171</th>\n",
       "      <td>e4f0fb907ebf79c450a8646d85c36d62</td>\n",
       "      <td>974f9c5c29d6eedcbe11b1b76ef43553</td>\n",
       "      <td>delivered</td>\n",
       "      <td>2018-02-01 16:37:28</td>\n",
       "      <td>2018-02-02 16:00:44</td>\n",
       "      <td>2018-02-06 18:37:02</td>\n",
       "      <td>2018-03-19 21:46:51</td>\n",
       "      <td>2018-02-26 00:00:00</td>\n",
       "    </tr>\n",
       "    <tr>\n",
       "      <th>3359</th>\n",
       "      <td>ec67500767e46c56db2d046d13e46296</td>\n",
       "      <td>6f33f93011237ac8e47e0652b5da71de</td>\n",
       "      <td>delivered</td>\n",
       "      <td>2018-02-28 09:40:36</td>\n",
       "      <td>2018-02-28 10:40:35</td>\n",
       "      <td>2018-02-28 19:56:46</td>\n",
       "      <td>2018-03-08 18:46:42</td>\n",
       "      <td>2018-03-20 00:00:00</td>\n",
       "    </tr>\n",
       "  </tbody>\n",
       "</table>\n",
       "</div>"
      ],
      "text/plain": [
       "                               order_id                       customer_id  \\\n",
       "19171  e4f0fb907ebf79c450a8646d85c36d62  974f9c5c29d6eedcbe11b1b76ef43553   \n",
       "3359   ec67500767e46c56db2d046d13e46296  6f33f93011237ac8e47e0652b5da71de   \n",
       "\n",
       "      order_status order_purchase_timestamp    order_approved_at  \\\n",
       "19171    delivered      2018-02-01 16:37:28  2018-02-02 16:00:44   \n",
       "3359     delivered      2018-02-28 09:40:36  2018-02-28 10:40:35   \n",
       "\n",
       "      order_delivered_carrier_date order_delivered_customer_date  \\\n",
       "19171          2018-02-06 18:37:02           2018-03-19 21:46:51   \n",
       "3359           2018-02-28 19:56:46           2018-03-08 18:46:42   \n",
       "\n",
       "      order_estimated_delivery_date  \n",
       "19171           2018-02-26 00:00:00  \n",
       "3359            2018-03-20 00:00:00  "
      ]
     },
     "execution_count": 30,
     "metadata": {},
     "output_type": "execute_result"
    }
   ],
   "source": [
    "df_orders.sample(2)"
   ]
  },
  {
   "cell_type": "code",
   "execution_count": 31,
   "metadata": {},
   "outputs": [
    {
     "data": {
      "text/plain": [
       "order_id                         0.000000\n",
       "customer_id                      0.000000\n",
       "order_status                     0.000000\n",
       "order_purchase_timestamp         0.000000\n",
       "order_approved_at                0.001609\n",
       "order_delivered_carrier_date     0.017930\n",
       "order_delivered_customer_date    0.029817\n",
       "order_estimated_delivery_date    0.000000\n",
       "dtype: float64"
      ]
     },
     "execution_count": 31,
     "metadata": {},
     "output_type": "execute_result"
    }
   ],
   "source": [
    "df_orders.isna().mean()"
   ]
  },
  {
   "cell_type": "code",
   "execution_count": 32,
   "metadata": {},
   "outputs": [
    {
     "data": {
      "image/png": "[encoded data removed]",
      "text/plain": [
       "<Figure size 640x480 with 2 Axes>"
      ]
     },
     "metadata": {},
     "output_type": "display_data"
    }
   ],
   "source": [
    "sns.heatmap(df_orders.isna(), cmap=heatmap_color)\n",
    "# Set title on pie chart\n",
    "plt.title(f\"Analyse des données manquantes avant traitement\\ndescription: {df_orders.shape}\\n\")\n",
    "plt.show()"
   ]
  },
  {
   "cell_type": "markdown",
   "metadata": {},
   "source": [
    "### **1.7 products**"
   ]
  },
  {
   "cell_type": "markdown",
   "metadata": {},
   "source": [
    "Cet ensemble de données comprend des données sur les produits vendus par Olist."
   ]
  },
  {
   "cell_type": "code",
   "execution_count": 33,
   "metadata": {},
   "outputs": [
    {
     "name": "stdout",
     "output_type": "stream",
     "text": [
      "<class 'pandas.core.frame.DataFrame'>\n",
      "RangeIndex: 32951 entries, 0 to 32950\n",
      "Data columns (total 9 columns):\n",
      " #   Column                      Non-Null Count  Dtype  \n",
      "---  ------                      --------------  -----  \n",
      " 0   product_id                  32951 non-null  object \n",
      " 1   product_category_name       32341 non-null  object \n",
      " 2   product_name_lenght         32341 non-null  float64\n",
      " 3   product_description_lenght  32341 non-null  float64\n",
      " 4   product_photos_qty          32341 non-null  float64\n",
      " 5   product_weight_g            32949 non-null  float64\n",
      " 6   product_length_cm           32949 non-null  float64\n",
      " 7   product_height_cm           32949 non-null  float64\n",
      " 8   product_width_cm            32949 non-null  float64\n",
      "dtypes: float64(7), object(2)\n",
      "memory usage: 2.3+ MB\n"
     ]
    }
   ],
   "source": [
    "df_products.info()"
   ]
  },
  {
   "cell_type": "code",
   "execution_count": 34,
   "metadata": {},
   "outputs": [
    {
     "data": {
      "text/html": [
       "<div>\n",
       "<style scoped>\n",
       "    .dataframe tbody tr th:only-of-type {\n",
       "        vertical-align: middle;\n",
       "    }\n",
       "\n",
       "    .dataframe tbody tr th {\n",
       "        vertical-align: top;\n",
       "    }\n",
       "\n",
       "    .dataframe thead th {\n",
       "        text-align: right;\n",
       "    }\n",
       "</style>\n",
       "<table border=\"1\" class=\"dataframe\">\n",
       "  <thead>\n",
       "    <tr style=\"text-align: right;\">\n",
       "      <th></th>\n",
       "      <th>product_name_lenght</th>\n",
       "      <th>product_description_lenght</th>\n",
       "      <th>product_photos_qty</th>\n",
       "      <th>product_weight_g</th>\n",
       "      <th>product_length_cm</th>\n",
       "      <th>product_height_cm</th>\n",
       "      <th>product_width_cm</th>\n",
       "    </tr>\n",
       "  </thead>\n",
       "  <tbody>\n",
       "    <tr>\n",
       "      <th>count</th>\n",
       "      <td>32341.000000</td>\n",
       "      <td>32341.000000</td>\n",
       "      <td>32341.000000</td>\n",
       "      <td>32949.000000</td>\n",
       "      <td>32949.000000</td>\n",
       "      <td>32949.000000</td>\n",
       "      <td>32949.000000</td>\n",
       "    </tr>\n",
       "    <tr>\n",
       "      <th>mean</th>\n",
       "      <td>48.476949</td>\n",
       "      <td>771.495285</td>\n",
       "      <td>2.188986</td>\n",
       "      <td>2276.472488</td>\n",
       "      <td>30.815078</td>\n",
       "      <td>16.937661</td>\n",
       "      <td>23.196728</td>\n",
       "    </tr>\n",
       "    <tr>\n",
       "      <th>std</th>\n",
       "      <td>10.245741</td>\n",
       "      <td>635.115225</td>\n",
       "      <td>1.736766</td>\n",
       "      <td>4282.038731</td>\n",
       "      <td>16.914458</td>\n",
       "      <td>13.637554</td>\n",
       "      <td>12.079047</td>\n",
       "    </tr>\n",
       "    <tr>\n",
       "      <th>min</th>\n",
       "      <td>5.000000</td>\n",
       "      <td>4.000000</td>\n",
       "      <td>1.000000</td>\n",
       "      <td>0.000000</td>\n",
       "      <td>7.000000</td>\n",
       "      <td>2.000000</td>\n",
       "      <td>6.000000</td>\n",
       "    </tr>\n",
       "    <tr>\n",
       "      <th>25%</th>\n",
       "      <td>42.000000</td>\n",
       "      <td>339.000000</td>\n",
       "      <td>1.000000</td>\n",
       "      <td>300.000000</td>\n",
       "      <td>18.000000</td>\n",
       "      <td>8.000000</td>\n",
       "      <td>15.000000</td>\n",
       "    </tr>\n",
       "    <tr>\n",
       "      <th>50%</th>\n",
       "      <td>51.000000</td>\n",
       "      <td>595.000000</td>\n",
       "      <td>1.000000</td>\n",
       "      <td>700.000000</td>\n",
       "      <td>25.000000</td>\n",
       "      <td>13.000000</td>\n",
       "      <td>20.000000</td>\n",
       "    </tr>\n",
       "    <tr>\n",
       "      <th>75%</th>\n",
       "      <td>57.000000</td>\n",
       "      <td>972.000000</td>\n",
       "      <td>3.000000</td>\n",
       "      <td>1900.000000</td>\n",
       "      <td>38.000000</td>\n",
       "      <td>21.000000</td>\n",
       "      <td>30.000000</td>\n",
       "    </tr>\n",
       "    <tr>\n",
       "      <th>max</th>\n",
       "      <td>76.000000</td>\n",
       "      <td>3992.000000</td>\n",
       "      <td>20.000000</td>\n",
       "      <td>40425.000000</td>\n",
       "      <td>105.000000</td>\n",
       "      <td>105.000000</td>\n",
       "      <td>118.000000</td>\n",
       "    </tr>\n",
       "  </tbody>\n",
       "</table>\n",
       "</div>"
      ],
      "text/plain": [
       "       product_name_lenght  product_description_lenght  product_photos_qty  \\\n",
       "count         32341.000000                32341.000000        32341.000000   \n",
       "mean             48.476949                  771.495285            2.188986   \n",
       "std              10.245741                  635.115225            1.736766   \n",
       "min               5.000000                    4.000000            1.000000   \n",
       "25%              42.000000                  339.000000            1.000000   \n",
       "50%              51.000000                  595.000000            1.000000   \n",
       "75%              57.000000                  972.000000            3.000000   \n",
       "max              76.000000                 3992.000000           20.000000   \n",
       "\n",
       "       product_weight_g  product_length_cm  product_height_cm  \\\n",
       "count      32949.000000       32949.000000       32949.000000   \n",
       "mean        2276.472488          30.815078          16.937661   \n",
       "std         4282.038731          16.914458          13.637554   \n",
       "min            0.000000           7.000000           2.000000   \n",
       "25%          300.000000          18.000000           8.000000   \n",
       "50%          700.000000          25.000000          13.000000   \n",
       "75%         1900.000000          38.000000          21.000000   \n",
       "max        40425.000000         105.000000         105.000000   \n",
       "\n",
       "       product_width_cm  \n",
       "count      32949.000000  \n",
       "mean          23.196728  \n",
       "std           12.079047  \n",
       "min            6.000000  \n",
       "25%           15.000000  \n",
       "50%           20.000000  \n",
       "75%           30.000000  \n",
       "max          118.000000  "
      ]
     },
     "execution_count": 34,
     "metadata": {},
     "output_type": "execute_result"
    }
   ],
   "source": [
    "df_products.describe()"
   ]
  },
  {
   "cell_type": "code",
   "execution_count": 35,
   "metadata": {},
   "outputs": [
    {
     "data": {
      "text/html": [
       "<div>\n",
       "<style scoped>\n",
       "    .dataframe tbody tr th:only-of-type {\n",
       "        vertical-align: middle;\n",
       "    }\n",
       "\n",
       "    .dataframe tbody tr th {\n",
       "        vertical-align: top;\n",
       "    }\n",
       "\n",
       "    .dataframe thead th {\n",
       "        text-align: right;\n",
       "    }\n",
       "</style>\n",
       "<table border=\"1\" class=\"dataframe\">\n",
       "  <thead>\n",
       "    <tr style=\"text-align: right;\">\n",
       "      <th></th>\n",
       "      <th>product_id</th>\n",
       "      <th>product_category_name</th>\n",
       "      <th>product_name_lenght</th>\n",
       "      <th>product_description_lenght</th>\n",
       "      <th>product_photos_qty</th>\n",
       "      <th>product_weight_g</th>\n",
       "      <th>product_length_cm</th>\n",
       "      <th>product_height_cm</th>\n",
       "      <th>product_width_cm</th>\n",
       "    </tr>\n",
       "  </thead>\n",
       "  <tbody>\n",
       "    <tr>\n",
       "      <th>31220</th>\n",
       "      <td>a04a2402a7774ba53d10ed2ce29715e3</td>\n",
       "      <td>cama_mesa_banho</td>\n",
       "      <td>58.0</td>\n",
       "      <td>589.0</td>\n",
       "      <td>1.0</td>\n",
       "      <td>3000.0</td>\n",
       "      <td>16.0</td>\n",
       "      <td>50.0</td>\n",
       "      <td>40.0</td>\n",
       "    </tr>\n",
       "    <tr>\n",
       "      <th>3327</th>\n",
       "      <td>38651ca5be7f992345b0ea57bdf25719</td>\n",
       "      <td>perfumaria</td>\n",
       "      <td>41.0</td>\n",
       "      <td>634.0</td>\n",
       "      <td>1.0</td>\n",
       "      <td>113.0</td>\n",
       "      <td>16.0</td>\n",
       "      <td>4.0</td>\n",
       "      <td>19.0</td>\n",
       "    </tr>\n",
       "  </tbody>\n",
       "</table>\n",
       "</div>"
      ],
      "text/plain": [
       "                             product_id product_category_name  \\\n",
       "31220  a04a2402a7774ba53d10ed2ce29715e3       cama_mesa_banho   \n",
       "3327   38651ca5be7f992345b0ea57bdf25719            perfumaria   \n",
       "\n",
       "       product_name_lenght  product_description_lenght  product_photos_qty  \\\n",
       "31220                 58.0                       589.0                 1.0   \n",
       "3327                  41.0                       634.0                 1.0   \n",
       "\n",
       "       product_weight_g  product_length_cm  product_height_cm  \\\n",
       "31220            3000.0               16.0               50.0   \n",
       "3327              113.0               16.0                4.0   \n",
       "\n",
       "       product_width_cm  \n",
       "31220              40.0  \n",
       "3327               19.0  "
      ]
     },
     "execution_count": 35,
     "metadata": {},
     "output_type": "execute_result"
    }
   ],
   "source": [
    "df_products.sample(2)"
   ]
  },
  {
   "cell_type": "code",
   "execution_count": 36,
   "metadata": {},
   "outputs": [
    {
     "data": {
      "text/plain": [
       "product_id                    0.000000\n",
       "product_category_name         0.018512\n",
       "product_name_lenght           0.018512\n",
       "product_description_lenght    0.018512\n",
       "product_photos_qty            0.018512\n",
       "product_weight_g              0.000061\n",
       "product_length_cm             0.000061\n",
       "product_height_cm             0.000061\n",
       "product_width_cm              0.000061\n",
       "dtype: float64"
      ]
     },
     "execution_count": 36,
     "metadata": {},
     "output_type": "execute_result"
    }
   ],
   "source": [
    "df_products.isna().mean()"
   ]
  },
  {
   "cell_type": "code",
   "execution_count": 37,
   "metadata": {},
   "outputs": [
    {
     "data": {
      "image/png": "[encoded data removed]",
      "text/plain": [
       "<Figure size 640x480 with 2 Axes>"
      ]
     },
     "metadata": {},
     "output_type": "display_data"
    }
   ],
   "source": [
    "sns.heatmap(df_products.isna(), cmap=heatmap_color)\n",
    "# Set title on pie chart\n",
    "plt.title(f\"Analyse des données manquantes avant traitement\\ndescription: {df_products.shape}\\n\")\n",
    "plt.show()"
   ]
  },
  {
   "cell_type": "markdown",
   "metadata": {},
   "source": [
    "### **1.8 sellers**"
   ]
  },
  {
   "cell_type": "markdown",
   "metadata": {},
   "source": [
    "Cet ensemble de données comprend des données sur les vendeurs qui ont honoré les commandes passées sur Olist."
   ]
  },
  {
   "cell_type": "code",
   "execution_count": 38,
   "metadata": {},
   "outputs": [
    {
     "name": "stdout",
     "output_type": "stream",
     "text": [
      "<class 'pandas.core.frame.DataFrame'>\n",
      "RangeIndex: 3095 entries, 0 to 3094\n",
      "Data columns (total 4 columns):\n",
      " #   Column                  Non-Null Count  Dtype \n",
      "---  ------                  --------------  ----- \n",
      " 0   seller_id               3095 non-null   object\n",
      " 1   seller_zip_code_prefix  3095 non-null   int64 \n",
      " 2   seller_city             3095 non-null   object\n",
      " 3   seller_state            3095 non-null   object\n",
      "dtypes: int64(1), object(3)\n",
      "memory usage: 96.8+ KB\n"
     ]
    }
   ],
   "source": [
    "df_sellers.info()"
   ]
  },
  {
   "cell_type": "code",
   "execution_count": 39,
   "metadata": {},
   "outputs": [
    {
     "data": {
      "text/html": [
       "<div>\n",
       "<style scoped>\n",
       "    .dataframe tbody tr th:only-of-type {\n",
       "        vertical-align: middle;\n",
       "    }\n",
       "\n",
       "    .dataframe tbody tr th {\n",
       "        vertical-align: top;\n",
       "    }\n",
       "\n",
       "    .dataframe thead th {\n",
       "        text-align: right;\n",
       "    }\n",
       "</style>\n",
       "<table border=\"1\" class=\"dataframe\">\n",
       "  <thead>\n",
       "    <tr style=\"text-align: right;\">\n",
       "      <th></th>\n",
       "      <th>seller_id</th>\n",
       "      <th>seller_zip_code_prefix</th>\n",
       "      <th>seller_city</th>\n",
       "      <th>seller_state</th>\n",
       "    </tr>\n",
       "  </thead>\n",
       "  <tbody>\n",
       "    <tr>\n",
       "      <th>1012</th>\n",
       "      <td>a8739afb32aaa45e01815ca76f76f54b</td>\n",
       "      <td>9850</td>\n",
       "      <td>sao bernardo do campo</td>\n",
       "      <td>SP</td>\n",
       "    </tr>\n",
       "    <tr>\n",
       "      <th>2834</th>\n",
       "      <td>4867209cb29b56b92893d7bde3ce8012</td>\n",
       "      <td>17209</td>\n",
       "      <td>jau</td>\n",
       "      <td>SP</td>\n",
       "    </tr>\n",
       "  </tbody>\n",
       "</table>\n",
       "</div>"
      ],
      "text/plain": [
       "                             seller_id  seller_zip_code_prefix  \\\n",
       "1012  a8739afb32aaa45e01815ca76f76f54b                    9850   \n",
       "2834  4867209cb29b56b92893d7bde3ce8012                   17209   \n",
       "\n",
       "                seller_city seller_state  \n",
       "1012  sao bernardo do campo           SP  \n",
       "2834                    jau           SP  "
      ]
     },
     "execution_count": 39,
     "metadata": {},
     "output_type": "execute_result"
    }
   ],
   "source": [
    "df_sellers.sample(2)"
   ]
  },
  {
   "cell_type": "code",
   "execution_count": 40,
   "metadata": {},
   "outputs": [
    {
     "data": {
      "text/plain": [
       "seller_id                 0.0\n",
       "seller_zip_code_prefix    0.0\n",
       "seller_city               0.0\n",
       "seller_state              0.0\n",
       "dtype: float64"
      ]
     },
     "execution_count": 40,
     "metadata": {},
     "output_type": "execute_result"
    }
   ],
   "source": [
    "df_sellers.isna().mean()"
   ]
  },
  {
   "cell_type": "markdown",
   "metadata": {},
   "source": [
    "### **1.9 product_category_name_translation**"
   ]
  },
  {
   "cell_type": "markdown",
   "metadata": {},
   "source": [
    "Traduit le nom de la catégorie de produit en anglais."
   ]
  },
  {
   "cell_type": "code",
   "execution_count": 41,
   "metadata": {},
   "outputs": [
    {
     "name": "stdout",
     "output_type": "stream",
     "text": [
      "<class 'pandas.core.frame.DataFrame'>\n",
      "RangeIndex: 71 entries, 0 to 70\n",
      "Data columns (total 2 columns):\n",
      " #   Column                         Non-Null Count  Dtype \n",
      "---  ------                         --------------  ----- \n",
      " 0   product_category_name          71 non-null     object\n",
      " 1   product_category_name_english  71 non-null     object\n",
      "dtypes: object(2)\n",
      "memory usage: 1.2+ KB\n"
     ]
    }
   ],
   "source": [
    "df_product_category_name_translation.info()"
   ]
  },
  {
   "cell_type": "code",
   "execution_count": 42,
   "metadata": {},
   "outputs": [
    {
     "data": {
      "text/html": [
       "<div>\n",
       "<style scoped>\n",
       "    .dataframe tbody tr th:only-of-type {\n",
       "        vertical-align: middle;\n",
       "    }\n",
       "\n",
       "    .dataframe tbody tr th {\n",
       "        vertical-align: top;\n",
       "    }\n",
       "\n",
       "    .dataframe thead th {\n",
       "        text-align: right;\n",
       "    }\n",
       "</style>\n",
       "<table border=\"1\" class=\"dataframe\">\n",
       "  <thead>\n",
       "    <tr style=\"text-align: right;\">\n",
       "      <th></th>\n",
       "      <th>product_category_name</th>\n",
       "      <th>product_category_name_english</th>\n",
       "    </tr>\n",
       "  </thead>\n",
       "  <tbody>\n",
       "    <tr>\n",
       "      <th>27</th>\n",
       "      <td>construcao_ferramentas_jardim</td>\n",
       "      <td>costruction_tools_garden</td>\n",
       "    </tr>\n",
       "    <tr>\n",
       "      <th>66</th>\n",
       "      <td>flores</td>\n",
       "      <td>flowers</td>\n",
       "    </tr>\n",
       "  </tbody>\n",
       "</table>\n",
       "</div>"
      ],
      "text/plain": [
       "            product_category_name product_category_name_english\n",
       "27  construcao_ferramentas_jardim      costruction_tools_garden\n",
       "66                         flores                       flowers"
      ]
     },
     "execution_count": 42,
     "metadata": {},
     "output_type": "execute_result"
    }
   ],
   "source": [
    "df_product_category_name_translation.sample(2)"
   ]
  },
  {
   "cell_type": "code",
   "execution_count": 43,
   "metadata": {},
   "outputs": [
    {
     "data": {
      "text/plain": [
       "product_category_name            0.0\n",
       "product_category_name_english    0.0\n",
       "dtype: float64"
      ]
     },
     "execution_count": 43,
     "metadata": {},
     "output_type": "execute_result"
    }
   ],
   "source": [
    "df_product_category_name_translation.isna().mean()"
   ]
  },
  {
   "cell_type": "markdown",
   "metadata": {},
   "source": [
    "## **2. Fusion & Nettoyage des data set**\n",
    "***"
   ]
  },
  {
   "cell_type": "markdown",
   "metadata": {},
   "source": [
    "Etant données que la segmentation des clients est l'objectif de la mission, il est nécessaire de rassembler toutes les données pertinentes pour construire une base de données clients. Ainsi, les caractéritiques en liens avec les informations clients sont nettoyées et rassemblées.\n",
    "\n",
    "Pour commencer, les informations clients et les informations globales de commandes sont rassemblées par l'identifiant client unique de chaque commande `customer_id`."
   ]
  },
  {
   "cell_type": "code",
   "execution_count": 44,
   "metadata": {},
   "outputs": [],
   "source": [
    "df = pd.merge(df_orders, df_customers, on=\"customer_id\", how=\"inner\", indicator=True)"
   ]
  },
  {
   "cell_type": "markdown",
   "metadata": {},
   "source": [
    "Les variables qui n'apportent pas d'informations sur les clients sont supprimées."
   ]
  },
  {
   "cell_type": "code",
   "execution_count": 45,
   "metadata": {},
   "outputs": [],
   "source": [
    "df.drop(columns=[\"order_status\",\"order_approved_at\",\"order_delivered_carrier_date\",\n",
    "                 \"order_estimated_delivery_date\",\"customer_state\",\"_merge\"], inplace=True)"
   ]
  },
  {
   "cell_type": "markdown",
   "metadata": {},
   "source": [
    "### **2.1 order_reviews**"
   ]
  },
  {
   "cell_type": "markdown",
   "metadata": {},
   "source": [
    "Certaines commandes semblent avoir reçus plusieurs commentaires."
   ]
  },
  {
   "cell_type": "code",
   "execution_count": 46,
   "metadata": {},
   "outputs": [
    {
     "data": {
      "text/plain": [
       "551"
      ]
     },
     "execution_count": 46,
     "metadata": {},
     "output_type": "execute_result"
    }
   ],
   "source": [
    "df_order_reviews[\"order_id\"].duplicated().sum()"
   ]
  },
  {
   "cell_type": "markdown",
   "metadata": {},
   "source": [
    "Deux d'entre elles sont séléctionnées au hasard pour vérification. L'ensemble des doublons d'une commande est ensuite analysée pour une meilleure compréhension."
   ]
  },
  {
   "cell_type": "code",
   "execution_count": 47,
   "metadata": {},
   "outputs": [
    {
     "data": {
      "text/html": [
       "<div>\n",
       "<style scoped>\n",
       "    .dataframe tbody tr th:only-of-type {\n",
       "        vertical-align: middle;\n",
       "    }\n",
       "\n",
       "    .dataframe tbody tr th {\n",
       "        vertical-align: top;\n",
       "    }\n",
       "\n",
       "    .dataframe thead th {\n",
       "        text-align: right;\n",
       "    }\n",
       "</style>\n",
       "<table border=\"1\" class=\"dataframe\">\n",
       "  <thead>\n",
       "    <tr style=\"text-align: right;\">\n",
       "      <th></th>\n",
       "      <th>review_id</th>\n",
       "      <th>order_id</th>\n",
       "      <th>review_score</th>\n",
       "      <th>review_comment_title</th>\n",
       "      <th>review_comment_message</th>\n",
       "      <th>review_creation_date</th>\n",
       "      <th>review_answer_timestamp</th>\n",
       "    </tr>\n",
       "  </thead>\n",
       "  <tbody>\n",
       "    <tr>\n",
       "      <th>98989</th>\n",
       "      <td>dfb3db02188d809d5cd199496b6da87e</td>\n",
       "      <td>c0db7d31ace61fc360a3eaa34dd3457c</td>\n",
       "      <td>5</td>\n",
       "      <td>NaN</td>\n",
       "      <td>NaN</td>\n",
       "      <td>2018-02-17 00:00:00</td>\n",
       "      <td>2018-02-19 19:29:19</td>\n",
       "    </tr>\n",
       "    <tr>\n",
       "      <th>40170</th>\n",
       "      <td>d5d919cf0a4c48cf04f21bfa902c13aa</td>\n",
       "      <td>0b4aab4ef70208498663141571f68116</td>\n",
       "      <td>1</td>\n",
       "      <td>NaN</td>\n",
       "      <td>Comprei dia 8/3/18 e a entrega era até o dia 1...</td>\n",
       "      <td>2018-04-19 00:00:00</td>\n",
       "      <td>2018-04-19 22:52:26</td>\n",
       "    </tr>\n",
       "  </tbody>\n",
       "</table>\n",
       "</div>"
      ],
      "text/plain": [
       "                              review_id                          order_id  \\\n",
       "98989  dfb3db02188d809d5cd199496b6da87e  c0db7d31ace61fc360a3eaa34dd3457c   \n",
       "40170  d5d919cf0a4c48cf04f21bfa902c13aa  0b4aab4ef70208498663141571f68116   \n",
       "\n",
       "       review_score review_comment_title  \\\n",
       "98989             5                  NaN   \n",
       "40170             1                  NaN   \n",
       "\n",
       "                                  review_comment_message review_creation_date  \\\n",
       "98989                                                NaN  2018-02-17 00:00:00   \n",
       "40170  Comprei dia 8/3/18 e a entrega era até o dia 1...  2018-04-19 00:00:00   \n",
       "\n",
       "      review_answer_timestamp  \n",
       "98989     2018-02-19 19:29:19  \n",
       "40170     2018-04-19 22:52:26  "
      ]
     },
     "execution_count": 47,
     "metadata": {},
     "output_type": "execute_result"
    }
   ],
   "source": [
    "df_order_reviews[df_order_reviews[\"order_id\"].duplicated()].sample(2, random_state=42)"
   ]
  },
  {
   "cell_type": "code",
   "execution_count": 48,
   "metadata": {},
   "outputs": [
    {
     "data": {
      "text/html": [
       "<div>\n",
       "<style scoped>\n",
       "    .dataframe tbody tr th:only-of-type {\n",
       "        vertical-align: middle;\n",
       "    }\n",
       "\n",
       "    .dataframe tbody tr th {\n",
       "        vertical-align: top;\n",
       "    }\n",
       "\n",
       "    .dataframe thead th {\n",
       "        text-align: right;\n",
       "    }\n",
       "</style>\n",
       "<table border=\"1\" class=\"dataframe\">\n",
       "  <thead>\n",
       "    <tr style=\"text-align: right;\">\n",
       "      <th></th>\n",
       "      <th>review_id</th>\n",
       "      <th>order_id</th>\n",
       "      <th>review_score</th>\n",
       "      <th>review_comment_title</th>\n",
       "      <th>review_comment_message</th>\n",
       "      <th>review_creation_date</th>\n",
       "      <th>review_answer_timestamp</th>\n",
       "    </tr>\n",
       "  </thead>\n",
       "  <tbody>\n",
       "    <tr>\n",
       "      <th>15665</th>\n",
       "      <td>e38dd6db11598bcf498fed2c52026fe8</td>\n",
       "      <td>0b4aab4ef70208498663141571f68116</td>\n",
       "      <td>1</td>\n",
       "      <td>NaN</td>\n",
       "      <td>A compra feita dia 8/3 com previsao de entrega...</td>\n",
       "      <td>2018-04-18 00:00:00</td>\n",
       "      <td>2018-04-20 10:19:17</td>\n",
       "    </tr>\n",
       "    <tr>\n",
       "      <th>40170</th>\n",
       "      <td>d5d919cf0a4c48cf04f21bfa902c13aa</td>\n",
       "      <td>0b4aab4ef70208498663141571f68116</td>\n",
       "      <td>1</td>\n",
       "      <td>NaN</td>\n",
       "      <td>Comprei dia 8/3/18 e a entrega era até o dia 1...</td>\n",
       "      <td>2018-04-19 00:00:00</td>\n",
       "      <td>2018-04-19 22:52:26</td>\n",
       "    </tr>\n",
       "  </tbody>\n",
       "</table>\n",
       "</div>"
      ],
      "text/plain": [
       "                              review_id                          order_id  \\\n",
       "15665  e38dd6db11598bcf498fed2c52026fe8  0b4aab4ef70208498663141571f68116   \n",
       "40170  d5d919cf0a4c48cf04f21bfa902c13aa  0b4aab4ef70208498663141571f68116   \n",
       "\n",
       "       review_score review_comment_title  \\\n",
       "15665             1                  NaN   \n",
       "40170             1                  NaN   \n",
       "\n",
       "                                  review_comment_message review_creation_date  \\\n",
       "15665  A compra feita dia 8/3 com previsao de entrega...  2018-04-18 00:00:00   \n",
       "40170  Comprei dia 8/3/18 e a entrega era até o dia 1...  2018-04-19 00:00:00   \n",
       "\n",
       "      review_answer_timestamp  \n",
       "15665     2018-04-20 10:19:17  \n",
       "40170     2018-04-19 22:52:26  "
      ]
     },
     "execution_count": 48,
     "metadata": {},
     "output_type": "execute_result"
    }
   ],
   "source": [
    "df_order_reviews[df_order_reviews[\"order_id\"] == \"0b4aab4ef70208498663141571f68116\"]"
   ]
  },
  {
   "cell_type": "markdown",
   "metadata": {},
   "source": [
    "Il semble qu'une commande peut faire l'objet de plusieurs envois, ce qui expliquerai la présence de plusieurs commentaires effectués à des dates différentes.\n",
    "\n",
    "Seule l'information `review_score` est pertinente dans ce jeu de donnée, ainsi les commandes ayant fait l'objet de plusieurs notations sont fusionnées afin d'obtenir une note moyenne par commande. "
   ]
  },
  {
   "cell_type": "code",
   "execution_count": 49,
   "metadata": {},
   "outputs": [],
   "source": [
    "df_order_reviews = df_order_reviews[[\"order_id\",\"review_score\"]].groupby(by=\"order_id\").mean().reset_index()"
   ]
  },
  {
   "cell_type": "markdown",
   "metadata": {},
   "source": [
    "Les données sont ensuite ajoutées au data set global."
   ]
  },
  {
   "cell_type": "code",
   "execution_count": 50,
   "metadata": {},
   "outputs": [],
   "source": [
    "df = df.merge(df_order_reviews, on=\"order_id\", how=\"inner\")"
   ]
  },
  {
   "cell_type": "markdown",
   "metadata": {},
   "source": [
    "### **2.2 order_payments**"
   ]
  },
  {
   "cell_type": "markdown",
   "metadata": {},
   "source": [
    "Une commande semble pouvoir contenir différentes informations de paiements."
   ]
  },
  {
   "cell_type": "code",
   "execution_count": 51,
   "metadata": {},
   "outputs": [
    {
     "data": {
      "text/plain": [
       "4446"
      ]
     },
     "execution_count": 51,
     "metadata": {},
     "output_type": "execute_result"
    }
   ],
   "source": [
    "df_order_payments[\"order_id\"].duplicated().sum()"
   ]
  },
  {
   "cell_type": "markdown",
   "metadata": {},
   "source": [
    "Cinq d'entre elles sont séléctionnées au hasard pour vérification. L'ensemble des doublons d'une commande est ensuite analysée pour une meilleure compréhension."
   ]
  },
  {
   "cell_type": "code",
   "execution_count": 52,
   "metadata": {},
   "outputs": [
    {
     "data": {
      "text/html": [
       "<div>\n",
       "<style scoped>\n",
       "    .dataframe tbody tr th:only-of-type {\n",
       "        vertical-align: middle;\n",
       "    }\n",
       "\n",
       "    .dataframe tbody tr th {\n",
       "        vertical-align: top;\n",
       "    }\n",
       "\n",
       "    .dataframe thead th {\n",
       "        text-align: right;\n",
       "    }\n",
       "</style>\n",
       "<table border=\"1\" class=\"dataframe\">\n",
       "  <thead>\n",
       "    <tr style=\"text-align: right;\">\n",
       "      <th></th>\n",
       "      <th>order_id</th>\n",
       "      <th>payment_sequential</th>\n",
       "      <th>payment_type</th>\n",
       "      <th>payment_installments</th>\n",
       "      <th>payment_value</th>\n",
       "    </tr>\n",
       "  </thead>\n",
       "  <tbody>\n",
       "    <tr>\n",
       "      <th>84511</th>\n",
       "      <td>bdc19e734eab622dbbd2162a226278de</td>\n",
       "      <td>2</td>\n",
       "      <td>voucher</td>\n",
       "      <td>1</td>\n",
       "      <td>45.00</td>\n",
       "    </tr>\n",
       "    <tr>\n",
       "      <th>73316</th>\n",
       "      <td>a37e63f75db3f7601cd0e95a5b63c083</td>\n",
       "      <td>2</td>\n",
       "      <td>voucher</td>\n",
       "      <td>1</td>\n",
       "      <td>60.00</td>\n",
       "    </tr>\n",
       "    <tr>\n",
       "      <th>33294</th>\n",
       "      <td>50501e525eae308e75363c0606adb973</td>\n",
       "      <td>4</td>\n",
       "      <td>voucher</td>\n",
       "      <td>1</td>\n",
       "      <td>23.70</td>\n",
       "    </tr>\n",
       "    <tr>\n",
       "      <th>40629</th>\n",
       "      <td>3c75044db750a89606612ed286713eb8</td>\n",
       "      <td>1</td>\n",
       "      <td>credit_card</td>\n",
       "      <td>7</td>\n",
       "      <td>74.07</td>\n",
       "    </tr>\n",
       "    <tr>\n",
       "      <th>93714</th>\n",
       "      <td>d03665e5fcb519e311e5609b2d0d2282</td>\n",
       "      <td>1</td>\n",
       "      <td>credit_card</td>\n",
       "      <td>1</td>\n",
       "      <td>20.75</td>\n",
       "    </tr>\n",
       "  </tbody>\n",
       "</table>\n",
       "</div>"
      ],
      "text/plain": [
       "                               order_id  payment_sequential payment_type  \\\n",
       "84511  bdc19e734eab622dbbd2162a226278de                   2      voucher   \n",
       "73316  a37e63f75db3f7601cd0e95a5b63c083                   2      voucher   \n",
       "33294  50501e525eae308e75363c0606adb973                   4      voucher   \n",
       "40629  3c75044db750a89606612ed286713eb8                   1  credit_card   \n",
       "93714  d03665e5fcb519e311e5609b2d0d2282                   1  credit_card   \n",
       "\n",
       "       payment_installments  payment_value  \n",
       "84511                     1          45.00  \n",
       "73316                     1          60.00  \n",
       "33294                     1          23.70  \n",
       "40629                     7          74.07  \n",
       "93714                     1          20.75  "
      ]
     },
     "execution_count": 52,
     "metadata": {},
     "output_type": "execute_result"
    }
   ],
   "source": [
    "df_order_payments[df_order_payments[\"order_id\"].duplicated()].sample(5, random_state=40)"
   ]
  },
  {
   "cell_type": "code",
   "execution_count": 53,
   "metadata": {},
   "outputs": [
    {
     "data": {
      "text/html": [
       "<div>\n",
       "<style scoped>\n",
       "    .dataframe tbody tr th:only-of-type {\n",
       "        vertical-align: middle;\n",
       "    }\n",
       "\n",
       "    .dataframe tbody tr th {\n",
       "        vertical-align: top;\n",
       "    }\n",
       "\n",
       "    .dataframe thead th {\n",
       "        text-align: right;\n",
       "    }\n",
       "</style>\n",
       "<table border=\"1\" class=\"dataframe\">\n",
       "  <thead>\n",
       "    <tr style=\"text-align: right;\">\n",
       "      <th></th>\n",
       "      <th>order_id</th>\n",
       "      <th>payment_sequential</th>\n",
       "      <th>payment_type</th>\n",
       "      <th>payment_installments</th>\n",
       "      <th>payment_value</th>\n",
       "    </tr>\n",
       "  </thead>\n",
       "  <tbody>\n",
       "    <tr>\n",
       "      <th>33603</th>\n",
       "      <td>3c75044db750a89606612ed286713eb8</td>\n",
       "      <td>2</td>\n",
       "      <td>voucher</td>\n",
       "      <td>1</td>\n",
       "      <td>100.00</td>\n",
       "    </tr>\n",
       "    <tr>\n",
       "      <th>40629</th>\n",
       "      <td>3c75044db750a89606612ed286713eb8</td>\n",
       "      <td>1</td>\n",
       "      <td>credit_card</td>\n",
       "      <td>7</td>\n",
       "      <td>74.07</td>\n",
       "    </tr>\n",
       "  </tbody>\n",
       "</table>\n",
       "</div>"
      ],
      "text/plain": [
       "                               order_id  payment_sequential payment_type  \\\n",
       "33603  3c75044db750a89606612ed286713eb8                   2      voucher   \n",
       "40629  3c75044db750a89606612ed286713eb8                   1  credit_card   \n",
       "\n",
       "       payment_installments  payment_value  \n",
       "33603                     1         100.00  \n",
       "40629                     7          74.07  "
      ]
     },
     "execution_count": 53,
     "metadata": {},
     "output_type": "execute_result"
    }
   ],
   "source": [
    "df_order_payments[df_order_payments[\"order_id\"] == \"3c75044db750a89606612ed286713eb8\"]"
   ]
  },
  {
   "cell_type": "markdown",
   "metadata": {},
   "source": [
    "L'analyse montre qu'une commande peut faire l'objet d'un paiement en plusieurs fois et que plusieurs moyens de paiement peuvent être utilisés.\n",
    "\n",
    "Seule les variables `payment_installments` et `payment_sequential` sont pertinentes dans ce jeu de donnée. Ces données sont fusionnées afin d'obtenir le nombre total de moyen de paiement utilisés pour payer une commande ainsi que le nombre de mensualité total."
   ]
  },
  {
   "cell_type": "code",
   "execution_count": 54,
   "metadata": {},
   "outputs": [],
   "source": [
    "df_payment_installments = df_order_payments.groupby(by=\"order_id\").sum()[[\"payment_installments\"]].reset_index()\n",
    "df_payment_sequential = df_order_payments.groupby(by=\"order_id\").count()[[\"payment_sequential\"]].reset_index()"
   ]
  },
  {
   "cell_type": "code",
   "execution_count": 55,
   "metadata": {},
   "outputs": [],
   "source": [
    "df_order_payments = pd.merge(df_payment_installments,df_payment_sequential, on=\"order_id\", how=\"inner\")"
   ]
  },
  {
   "cell_type": "markdown",
   "metadata": {},
   "source": [
    "Les données sont ensuite ajoutées au data set global."
   ]
  },
  {
   "cell_type": "code",
   "execution_count": 56,
   "metadata": {},
   "outputs": [],
   "source": [
    "df = df.merge(df_order_payments, on=\"order_id\", how=\"inner\")"
   ]
  },
  {
   "cell_type": "markdown",
   "metadata": {},
   "source": [
    "### **2.3 order_items & products**"
   ]
  },
  {
   "cell_type": "markdown",
   "metadata": {},
   "source": [
    "Les commandes peuvent contenir plusieurs produits."
   ]
  },
  {
   "cell_type": "code",
   "execution_count": 57,
   "metadata": {},
   "outputs": [
    {
     "data": {
      "text/plain": [
       "13984"
      ]
     },
     "execution_count": 57,
     "metadata": {},
     "output_type": "execute_result"
    }
   ],
   "source": [
    "df_order_items[\"order_id\"].duplicated().sum()"
   ]
  },
  {
   "cell_type": "markdown",
   "metadata": {},
   "source": [
    "Les données sont regroupées afin d'obtenir le nombre de produits par commande."
   ]
  },
  {
   "cell_type": "code",
   "execution_count": 58,
   "metadata": {},
   "outputs": [],
   "source": [
    "df_count_number_product = df_order_items[[\"order_id\",\"product_id\"]].groupby(by=\"order_id\").count().reset_index()"
   ]
  },
  {
   "cell_type": "markdown",
   "metadata": {},
   "source": [
    "Afin d'obtenir des informations plus détaillées sur les commandes, la moyenne des données produits va être ajoutée à chaque commande.\n",
    "\n",
    "Pour cela il est nécessaire de fusionner les données de ventes et les données produits dans un premier temps."
   ]
  },
  {
   "cell_type": "code",
   "execution_count": 59,
   "metadata": {},
   "outputs": [],
   "source": [
    "df_items_products = pd.merge(df_order_items, df_products, on=\"product_id\", how=\"inner\")"
   ]
  },
  {
   "cell_type": "markdown",
   "metadata": {},
   "source": [
    "Ayant les dimensions de `Largeur`, de `longueur` et la `Hauteur` de chaque produits, ces informations sont condensées dans une colonne `product_volume_cm3` afin d'obtenir le volume des produits."
   ]
  },
  {
   "cell_type": "code",
   "execution_count": 60,
   "metadata": {},
   "outputs": [],
   "source": [
    "df_items_products[\"product_volume_cm3\"] = df_items_products[\"product_length_cm\"]*df_items_products[\"product_height_cm\"]*df_items_products[\"product_width_cm\"]"
   ]
  },
  {
   "cell_type": "markdown",
   "metadata": {},
   "source": [
    "Les données produits sont ensuite regroupées par commandes de manière à obtenir la moyenne des prix, de poids et de volume pour chaque commande."
   ]
  },
  {
   "cell_type": "code",
   "execution_count": 61,
   "metadata": {},
   "outputs": [],
   "source": [
    "df_items_products = df_items_products[[\"order_id\",\"price\",\"freight_value\",\"product_weight_g\",\"product_volume_cm3\"]].groupby(by=\"order_id\").mean().reset_index()"
   ]
  },
  {
   "cell_type": "markdown",
   "metadata": {},
   "source": [
    "Puis, le nombre de produit par commande précédemment calculé est ajouté au data set. Les colonnes sont ensuite renommées pour une meilleure lisibilité."
   ]
  },
  {
   "cell_type": "code",
   "execution_count": 62,
   "metadata": {},
   "outputs": [],
   "source": [
    "df_items_products = df_items_products.merge(df_count_number_product, on=\"order_id\", how=\"inner\")"
   ]
  },
  {
   "cell_type": "code",
   "execution_count": 63,
   "metadata": {},
   "outputs": [],
   "source": [
    "df_items_products.rename(columns={\"price\":\"average_price\",\n",
    "                                  \"freight_value\":\"average_freight_value\",\n",
    "                                  \"product_weight_g\":\"average_product_weight_g\",\n",
    "                                  \"product_id\":\"nb_product_per_order\",}, inplace=True)"
   ]
  },
  {
   "cell_type": "markdown",
   "metadata": {},
   "source": [
    "Les données sont ensuite ajoutées au data set global."
   ]
  },
  {
   "cell_type": "code",
   "execution_count": 64,
   "metadata": {},
   "outputs": [],
   "source": [
    "df = df.merge(df_items_products, on=\"order_id\", how=\"left\", indicator=True)"
   ]
  },
  {
   "cell_type": "markdown",
   "metadata": {},
   "source": [
    "Vérification de la qualité des jointures."
   ]
  },
  {
   "cell_type": "code",
   "execution_count": 65,
   "metadata": {},
   "outputs": [
    {
     "data": {
      "text/plain": [
       "_merge\n",
       "both          97916\n",
       "left_only       756\n",
       "right_only        0\n",
       "Name: count, dtype: int64"
      ]
     },
     "execution_count": 65,
     "metadata": {},
     "output_type": "execute_result"
    }
   ],
   "source": [
    "df[\"_merge\"].value_counts()"
   ]
  },
  {
   "cell_type": "markdown",
   "metadata": {},
   "source": [
    "Il semble que certaines commandes du data set global ne soient pas référencées dans les informations produits. Il est également intéressant de noter que ces commandes n'ont pas d'informations `order_delivered_customer_date`."
   ]
  },
  {
   "cell_type": "code",
   "execution_count": 66,
   "metadata": {},
   "outputs": [
    {
     "data": {
      "text/html": [
       "<div>\n",
       "<style scoped>\n",
       "    .dataframe tbody tr th:only-of-type {\n",
       "        vertical-align: middle;\n",
       "    }\n",
       "\n",
       "    .dataframe tbody tr th {\n",
       "        vertical-align: top;\n",
       "    }\n",
       "\n",
       "    .dataframe thead th {\n",
       "        text-align: right;\n",
       "    }\n",
       "</style>\n",
       "<table border=\"1\" class=\"dataframe\">\n",
       "  <thead>\n",
       "    <tr style=\"text-align: right;\">\n",
       "      <th></th>\n",
       "      <th>order_id</th>\n",
       "      <th>customer_id</th>\n",
       "      <th>order_purchase_timestamp</th>\n",
       "      <th>order_delivered_customer_date</th>\n",
       "      <th>customer_unique_id</th>\n",
       "      <th>customer_zip_code_prefix</th>\n",
       "      <th>customer_city</th>\n",
       "      <th>review_score</th>\n",
       "      <th>payment_installments</th>\n",
       "      <th>payment_sequential</th>\n",
       "      <th>average_price</th>\n",
       "      <th>average_freight_value</th>\n",
       "      <th>average_product_weight_g</th>\n",
       "      <th>product_volume_cm3</th>\n",
       "      <th>nb_product_per_order</th>\n",
       "      <th>_merge</th>\n",
       "    </tr>\n",
       "  </thead>\n",
       "  <tbody>\n",
       "    <tr>\n",
       "      <th>264</th>\n",
       "      <td>8e24261a7e58791d10cb1bf9da94df5c</td>\n",
       "      <td>64a254d30eed42cd0e6c36dddb88adf0</td>\n",
       "      <td>2017-11-16 15:09:28</td>\n",
       "      <td>NaN</td>\n",
       "      <td>41fc647b8c6bd979b1b6364b60471b50</td>\n",
       "      <td>89288</td>\n",
       "      <td>sao bento do sul</td>\n",
       "      <td>1.0</td>\n",
       "      <td>5</td>\n",
       "      <td>1</td>\n",
       "      <td>NaN</td>\n",
       "      <td>NaN</td>\n",
       "      <td>NaN</td>\n",
       "      <td>NaN</td>\n",
       "      <td>NaN</td>\n",
       "      <td>left_only</td>\n",
       "    </tr>\n",
       "    <tr>\n",
       "      <th>579</th>\n",
       "      <td>c272bcd21c287498b4883c7512019702</td>\n",
       "      <td>9582c5bbecc65eb568e2c1d839b5cba1</td>\n",
       "      <td>2018-01-31 11:31:37</td>\n",
       "      <td>NaN</td>\n",
       "      <td>0e634b16e4c585acbd7b2e8276ce6677</td>\n",
       "      <td>11701</td>\n",
       "      <td>praia grande</td>\n",
       "      <td>3.0</td>\n",
       "      <td>1</td>\n",
       "      <td>1</td>\n",
       "      <td>NaN</td>\n",
       "      <td>NaN</td>\n",
       "      <td>NaN</td>\n",
       "      <td>NaN</td>\n",
       "      <td>NaN</td>\n",
       "      <td>left_only</td>\n",
       "    </tr>\n",
       "    <tr>\n",
       "      <th>680</th>\n",
       "      <td>37553832a3a89c9b2db59701c357ca67</td>\n",
       "      <td>7607cd563696c27ede287e515812d528</td>\n",
       "      <td>2017-08-14 17:38:02</td>\n",
       "      <td>NaN</td>\n",
       "      <td>596ed6d7a35890b3fbac54ec01f69685</td>\n",
       "      <td>2318</td>\n",
       "      <td>sao paulo</td>\n",
       "      <td>1.0</td>\n",
       "      <td>1</td>\n",
       "      <td>1</td>\n",
       "      <td>NaN</td>\n",
       "      <td>NaN</td>\n",
       "      <td>NaN</td>\n",
       "      <td>NaN</td>\n",
       "      <td>NaN</td>\n",
       "      <td>left_only</td>\n",
       "    </tr>\n",
       "    <tr>\n",
       "      <th>730</th>\n",
       "      <td>d57e15fb07fd180f06ab3926b39edcd2</td>\n",
       "      <td>470b93b3f1cde85550fc74cd3a476c78</td>\n",
       "      <td>2018-01-08 19:39:03</td>\n",
       "      <td>NaN</td>\n",
       "      <td>2349bbb558908e0955e98d47dacb7adb</td>\n",
       "      <td>48607</td>\n",
       "      <td>paulo afonso</td>\n",
       "      <td>1.0</td>\n",
       "      <td>1</td>\n",
       "      <td>1</td>\n",
       "      <td>NaN</td>\n",
       "      <td>NaN</td>\n",
       "      <td>NaN</td>\n",
       "      <td>NaN</td>\n",
       "      <td>NaN</td>\n",
       "      <td>left_only</td>\n",
       "    </tr>\n",
       "    <tr>\n",
       "      <th>1119</th>\n",
       "      <td>00b1cb0320190ca0daa2c88b35206009</td>\n",
       "      <td>3532ba38a3fd242259a514ac2b6ae6b6</td>\n",
       "      <td>2018-08-28 15:26:39</td>\n",
       "      <td>NaN</td>\n",
       "      <td>4fa4365000c7090fcb8cad5713c6d3db</td>\n",
       "      <td>1151</td>\n",
       "      <td>sao paulo</td>\n",
       "      <td>1.0</td>\n",
       "      <td>1</td>\n",
       "      <td>1</td>\n",
       "      <td>NaN</td>\n",
       "      <td>NaN</td>\n",
       "      <td>NaN</td>\n",
       "      <td>NaN</td>\n",
       "      <td>NaN</td>\n",
       "      <td>left_only</td>\n",
       "    </tr>\n",
       "    <tr>\n",
       "      <th>...</th>\n",
       "      <td>...</td>\n",
       "      <td>...</td>\n",
       "      <td>...</td>\n",
       "      <td>...</td>\n",
       "      <td>...</td>\n",
       "      <td>...</td>\n",
       "      <td>...</td>\n",
       "      <td>...</td>\n",
       "      <td>...</td>\n",
       "      <td>...</td>\n",
       "      <td>...</td>\n",
       "      <td>...</td>\n",
       "      <td>...</td>\n",
       "      <td>...</td>\n",
       "      <td>...</td>\n",
       "      <td>...</td>\n",
       "    </tr>\n",
       "    <tr>\n",
       "      <th>98483</th>\n",
       "      <td>aaab15da689073f8f9aa978a390a69d1</td>\n",
       "      <td>df20748206e4b865b2f14a5eabbfcf34</td>\n",
       "      <td>2018-01-16 14:27:59</td>\n",
       "      <td>NaN</td>\n",
       "      <td>a33e0969408919ba06779f497ead93ec</td>\n",
       "      <td>7025</td>\n",
       "      <td>guarulhos</td>\n",
       "      <td>1.0</td>\n",
       "      <td>1</td>\n",
       "      <td>1</td>\n",
       "      <td>NaN</td>\n",
       "      <td>NaN</td>\n",
       "      <td>NaN</td>\n",
       "      <td>NaN</td>\n",
       "      <td>NaN</td>\n",
       "      <td>left_only</td>\n",
       "    </tr>\n",
       "    <tr>\n",
       "      <th>98514</th>\n",
       "      <td>3a3cddda5a7c27851bd96c3313412840</td>\n",
       "      <td>0b0d6095c5555fe083844281f6b093bb</td>\n",
       "      <td>2018-08-31 16:13:44</td>\n",
       "      <td>NaN</td>\n",
       "      <td>e90598185d2427a35e32ef241a5c04aa</td>\n",
       "      <td>11075</td>\n",
       "      <td>santos</td>\n",
       "      <td>5.0</td>\n",
       "      <td>1</td>\n",
       "      <td>1</td>\n",
       "      <td>NaN</td>\n",
       "      <td>NaN</td>\n",
       "      <td>NaN</td>\n",
       "      <td>NaN</td>\n",
       "      <td>NaN</td>\n",
       "      <td>left_only</td>\n",
       "    </tr>\n",
       "    <tr>\n",
       "      <th>98578</th>\n",
       "      <td>a89abace0dcc01eeb267a9660b5ac126</td>\n",
       "      <td>2f0524a7b1b3845a1a57fcf3910c4333</td>\n",
       "      <td>2018-09-06 18:45:47</td>\n",
       "      <td>NaN</td>\n",
       "      <td>d05c44a138277ad325d915c6b7ccbcdf</td>\n",
       "      <td>5344</td>\n",
       "      <td>sao paulo</td>\n",
       "      <td>4.0</td>\n",
       "      <td>1</td>\n",
       "      <td>1</td>\n",
       "      <td>NaN</td>\n",
       "      <td>NaN</td>\n",
       "      <td>NaN</td>\n",
       "      <td>NaN</td>\n",
       "      <td>NaN</td>\n",
       "      <td>left_only</td>\n",
       "    </tr>\n",
       "    <tr>\n",
       "      <th>98579</th>\n",
       "      <td>a69ba794cc7deb415c3e15a0a3877e69</td>\n",
       "      <td>726f0894b5becdf952ea537d5266e543</td>\n",
       "      <td>2017-08-23 16:28:04</td>\n",
       "      <td>NaN</td>\n",
       "      <td>e72a90a2b29fe1a8795b284aaaa3246f</td>\n",
       "      <td>22723</td>\n",
       "      <td>rio de janeiro</td>\n",
       "      <td>1.0</td>\n",
       "      <td>2</td>\n",
       "      <td>1</td>\n",
       "      <td>NaN</td>\n",
       "      <td>NaN</td>\n",
       "      <td>NaN</td>\n",
       "      <td>NaN</td>\n",
       "      <td>NaN</td>\n",
       "      <td>left_only</td>\n",
       "    </tr>\n",
       "    <tr>\n",
       "      <th>98646</th>\n",
       "      <td>5fabc81b6322c8443648e1b21a6fef21</td>\n",
       "      <td>32c9df889d41b0ee8309a5efb6855dcb</td>\n",
       "      <td>2017-10-10 10:50:03</td>\n",
       "      <td>NaN</td>\n",
       "      <td>393d95c05b04db26ac084374094b3a52</td>\n",
       "      <td>18040</td>\n",
       "      <td>sorocaba</td>\n",
       "      <td>1.0</td>\n",
       "      <td>1</td>\n",
       "      <td>1</td>\n",
       "      <td>NaN</td>\n",
       "      <td>NaN</td>\n",
       "      <td>NaN</td>\n",
       "      <td>NaN</td>\n",
       "      <td>NaN</td>\n",
       "      <td>left_only</td>\n",
       "    </tr>\n",
       "  </tbody>\n",
       "</table>\n",
       "<p>756 rows × 16 columns</p>\n",
       "</div>"
      ],
      "text/plain": [
       "                               order_id                       customer_id  \\\n",
       "264    8e24261a7e58791d10cb1bf9da94df5c  64a254d30eed42cd0e6c36dddb88adf0   \n",
       "579    c272bcd21c287498b4883c7512019702  9582c5bbecc65eb568e2c1d839b5cba1   \n",
       "680    37553832a3a89c9b2db59701c357ca67  7607cd563696c27ede287e515812d528   \n",
       "730    d57e15fb07fd180f06ab3926b39edcd2  470b93b3f1cde85550fc74cd3a476c78   \n",
       "1119   00b1cb0320190ca0daa2c88b35206009  3532ba38a3fd242259a514ac2b6ae6b6   \n",
       "...                                 ...                               ...   \n",
       "98483  aaab15da689073f8f9aa978a390a69d1  df20748206e4b865b2f14a5eabbfcf34   \n",
       "98514  3a3cddda5a7c27851bd96c3313412840  0b0d6095c5555fe083844281f6b093bb   \n",
       "98578  a89abace0dcc01eeb267a9660b5ac126  2f0524a7b1b3845a1a57fcf3910c4333   \n",
       "98579  a69ba794cc7deb415c3e15a0a3877e69  726f0894b5becdf952ea537d5266e543   \n",
       "98646  5fabc81b6322c8443648e1b21a6fef21  32c9df889d41b0ee8309a5efb6855dcb   \n",
       "\n",
       "      order_purchase_timestamp order_delivered_customer_date  \\\n",
       "264        2017-11-16 15:09:28                           NaN   \n",
       "579        2018-01-31 11:31:37                           NaN   \n",
       "680        2017-08-14 17:38:02                           NaN   \n",
       "730        2018-01-08 19:39:03                           NaN   \n",
       "1119       2018-08-28 15:26:39                           NaN   \n",
       "...                        ...                           ...   \n",
       "98483      2018-01-16 14:27:59                           NaN   \n",
       "98514      2018-08-31 16:13:44                           NaN   \n",
       "98578      2018-09-06 18:45:47                           NaN   \n",
       "98579      2017-08-23 16:28:04                           NaN   \n",
       "98646      2017-10-10 10:50:03                           NaN   \n",
       "\n",
       "                     customer_unique_id  customer_zip_code_prefix  \\\n",
       "264    41fc647b8c6bd979b1b6364b60471b50                     89288   \n",
       "579    0e634b16e4c585acbd7b2e8276ce6677                     11701   \n",
       "680    596ed6d7a35890b3fbac54ec01f69685                      2318   \n",
       "730    2349bbb558908e0955e98d47dacb7adb                     48607   \n",
       "1119   4fa4365000c7090fcb8cad5713c6d3db                      1151   \n",
       "...                                 ...                       ...   \n",
       "98483  a33e0969408919ba06779f497ead93ec                      7025   \n",
       "98514  e90598185d2427a35e32ef241a5c04aa                     11075   \n",
       "98578  d05c44a138277ad325d915c6b7ccbcdf                      5344   \n",
       "98579  e72a90a2b29fe1a8795b284aaaa3246f                     22723   \n",
       "98646  393d95c05b04db26ac084374094b3a52                     18040   \n",
       "\n",
       "          customer_city  review_score  payment_installments  \\\n",
       "264    sao bento do sul           1.0                     5   \n",
       "579        praia grande           3.0                     1   \n",
       "680           sao paulo           1.0                     1   \n",
       "730        paulo afonso           1.0                     1   \n",
       "1119          sao paulo           1.0                     1   \n",
       "...                 ...           ...                   ...   \n",
       "98483         guarulhos           1.0                     1   \n",
       "98514            santos           5.0                     1   \n",
       "98578         sao paulo           4.0                     1   \n",
       "98579    rio de janeiro           1.0                     2   \n",
       "98646          sorocaba           1.0                     1   \n",
       "\n",
       "       payment_sequential  average_price  average_freight_value  \\\n",
       "264                     1            NaN                    NaN   \n",
       "579                     1            NaN                    NaN   \n",
       "680                     1            NaN                    NaN   \n",
       "730                     1            NaN                    NaN   \n",
       "1119                    1            NaN                    NaN   \n",
       "...                   ...            ...                    ...   \n",
       "98483                   1            NaN                    NaN   \n",
       "98514                   1            NaN                    NaN   \n",
       "98578                   1            NaN                    NaN   \n",
       "98579                   1            NaN                    NaN   \n",
       "98646                   1            NaN                    NaN   \n",
       "\n",
       "       average_product_weight_g  product_volume_cm3  nb_product_per_order  \\\n",
       "264                         NaN                 NaN                   NaN   \n",
       "579                         NaN                 NaN                   NaN   \n",
       "680                         NaN                 NaN                   NaN   \n",
       "730                         NaN                 NaN                   NaN   \n",
       "1119                        NaN                 NaN                   NaN   \n",
       "...                         ...                 ...                   ...   \n",
       "98483                       NaN                 NaN                   NaN   \n",
       "98514                       NaN                 NaN                   NaN   \n",
       "98578                       NaN                 NaN                   NaN   \n",
       "98579                       NaN                 NaN                   NaN   \n",
       "98646                       NaN                 NaN                   NaN   \n",
       "\n",
       "          _merge  \n",
       "264    left_only  \n",
       "579    left_only  \n",
       "680    left_only  \n",
       "730    left_only  \n",
       "1119   left_only  \n",
       "...          ...  \n",
       "98483  left_only  \n",
       "98514  left_only  \n",
       "98578  left_only  \n",
       "98579  left_only  \n",
       "98646  left_only  \n",
       "\n",
       "[756 rows x 16 columns]"
      ]
     },
     "execution_count": 66,
     "metadata": {},
     "output_type": "execute_result"
    }
   ],
   "source": [
    "df.loc[df[\"_merge\"] == \"left_only\"]"
   ]
  },
  {
   "cell_type": "markdown",
   "metadata": {},
   "source": [
    "Ces commandes sont donc excluent du data set global et les colonnnes inutiles sont supprimées."
   ]
  },
  {
   "cell_type": "code",
   "execution_count": 67,
   "metadata": {},
   "outputs": [],
   "source": [
    "df = df.loc[df[\"_merge\"] == \"both\"]"
   ]
  },
  {
   "cell_type": "code",
   "execution_count": 68,
   "metadata": {},
   "outputs": [],
   "source": [
    "df = df.drop(columns=[\"customer_id\",\"_merge\"])"
   ]
  },
  {
   "cell_type": "markdown",
   "metadata": {},
   "source": [
    "### **2.4 order_purchase_timestamp & order_delivered_customer_date**"
   ]
  },
  {
   "cell_type": "markdown",
   "metadata": {},
   "source": [
    "Afin d'obtenir la Récence (segmentation RFM), il est nécessaire d'adapter le type des colonnes qui contiennent une date. "
   ]
  },
  {
   "cell_type": "code",
   "execution_count": 69,
   "metadata": {},
   "outputs": [],
   "source": [
    "df['order_purchase_timestamp'] = pd.to_datetime(df['order_purchase_timestamp'])\n",
    "df['order_delivered_customer_date'] = pd.to_datetime(df['order_delivered_customer_date'])"
   ]
  },
  {
   "cell_type": "code",
   "execution_count": 103,
   "metadata": {},
   "outputs": [
    {
     "name": "stdout",
     "output_type": "stream",
     "text": [
      "Date de la 1ère commande: 2018-09-03\n",
      "Date de la dernière commande: 2016-09-04\n"
     ]
    }
   ],
   "source": [
    "# Instantiation of first and last order dates\n",
    "date_first_order = df[\"order_purchase_timestamp\"].max().date()\n",
    "date_last_order = df[\"order_purchase_timestamp\"].min().date()\n",
    "# Display dates\n",
    "print(f\"Date de la 1ère commande: {date_first_order}\")\n",
    "print(f\"Date de la dernière commande: {date_last_order}\")"
   ]
  },
  {
   "cell_type": "markdown",
   "metadata": {},
   "source": [
    "La colonne `days_since_last_order` est ensuite crée pour contenir la Récence (en nombre de jours) de chaque commande."
   ]
  },
  {
   "cell_type": "code",
   "execution_count": 118,
   "metadata": {},
   "outputs": [],
   "source": [
    "# Calculate the number of days elapsed\n",
    "df['days_since_last_order'] = (df[\"order_purchase_timestamp\"].max() - df['order_purchase_timestamp']).dt.days"
   ]
  },
  {
   "cell_type": "markdown",
   "metadata": {},
   "source": [
    "### **2.5 Customers data set**"
   ]
  },
  {
   "cell_type": "markdown",
   "metadata": {},
   "source": [
    "Les données sont maintenant traitées de manières à obtenir une informations par client et non plus par commande.\n",
    "\n",
    "Dans un premier temps, le nombre de commande par client est calculé, la colonne correspondante est renommée et le type est modifié pour correspondre aux données."
   ]
  },
  {
   "cell_type": "code",
   "execution_count": null,
   "metadata": {},
   "outputs": [],
   "source": [
    "df_nb_orders_per_customer = df.groupby(by=\"customer_unique_id\").count()[[\"order_id\"]].reset_index()\n",
    "df_nb_orders_per_customer.rename(columns={\"order_id\":\"nb_orders_per_customer\"}, inplace=True)"
   ]
  },
  {
   "cell_type": "code",
   "execution_count": null,
   "metadata": {},
   "outputs": [],
   "source": [
    "df_nb_orders_per_customer[\"nb_orders_per_customer\"] = df_nb_orders_per_customer[\"nb_orders_per_customer\"].astype(float)"
   ]
  },
  {
   "cell_type": "markdown",
   "metadata": {},
   "source": [
    "Une copie du data set est effectuée pour l'utilisation ultérieure des données de géolocalisation. Ces données sont ensuite supprimées pour finaliser la construction du jeu de données client. "
   ]
  },
  {
   "cell_type": "code",
   "execution_count": null,
   "metadata": {},
   "outputs": [],
   "source": [
    "# Instanciation du jeu de données de géolocalisation\n",
    "df_geo = df.copy()"
   ]
  },
  {
   "cell_type": "code",
   "execution_count": null,
   "metadata": {},
   "outputs": [],
   "source": [
    "df.drop(columns=[\"order_purchase_timestamp\",\"order_delivered_customer_date\",\"customer_zip_code_prefix\",\"customer_city\"], inplace=True)"
   ]
  },
  {
   "cell_type": "markdown",
   "metadata": {},
   "source": [
    "Enfin, les commandes sont aggrégées par la moyenne pour chaque client et l'information du nombre de commandes par client est ajoutée au data set."
   ]
  },
  {
   "cell_type": "code",
   "execution_count": null,
   "metadata": {},
   "outputs": [],
   "source": [
    "df = df.drop(columns=\"order_id\").groupby(by=\"customer_unique_id\").mean().reset_index()"
   ]
  },
  {
   "cell_type": "code",
   "execution_count": null,
   "metadata": {},
   "outputs": [],
   "source": [
    "df = df.merge(df_nb_orders_per_customer, on=\"customer_unique_id\", how=\"left\")"
   ]
  },
  {
   "cell_type": "markdown",
   "metadata": {},
   "source": [
    "Vérification de la proportion de client ayant effectué plusieurs commandes."
   ]
  },
  {
   "cell_type": "code",
   "execution_count": null,
   "metadata": {},
   "outputs": [],
   "source": [
    "# Calculation of the average percentage of missing values\n",
    "more_than_one_order = (len(df[df[\"nb_orders_per_customer\"] > 1]))\n",
    "# Calculation of the proportion of non-missing values\n",
    "one_order = len(df) - more_than_one_order\n",
    "\n",
    "# Data for pie chart\n",
    "data = [one_order, more_than_one_order]\n",
    "labels = [\"Client = 1 commandes\", \"Client > 1 commandes\"]\n",
    "# Define color code\n",
    "colors = [\"#0B28D0\",'#EDAD01']\n",
    "\n",
    "# Create pie chart\n",
    "plt.figure(figsize=(8, 8))\n",
    "patches, texts, autotexts = plt.pie(\n",
    "    data, labels=labels,\n",
    "    startangle=90, colors=colors, autopct=\"%1.1f%%\",\n",
    "    wedgeprops = {\"linewidth\": 2, \"edgecolor\": \"white\"})\n",
    "# Set title on pie chart\n",
    "plt.title(f\"Proportion de clients par nombre de commande\\ndescription: {df.shape}\")\n",
    "# Customise label colours and sizes\n",
    "plt.setp(texts + autotexts, color=\"#333\", fontsize=10)\n",
    "plt.setp(autotexts, color=\"white\")\n",
    "# Pie chart display\n",
    "plt.axis(\"equal\")\n",
    "plt.show()"
   ]
  },
  {
   "cell_type": "markdown",
   "metadata": {},
   "source": [
    "### **2.6 Données manquantes**"
   ]
  },
  {
   "cell_type": "markdown",
   "metadata": {},
   "source": [
    "Analyse des données manquantes."
   ]
  },
  {
   "cell_type": "code",
   "execution_count": null,
   "metadata": {},
   "outputs": [],
   "source": [
    "df.isna().mean()"
   ]
  },
  {
   "cell_type": "markdown",
   "metadata": {},
   "source": [
    "Analyse de la répartition des données manquantes."
   ]
  },
  {
   "cell_type": "code",
   "execution_count": null,
   "metadata": {},
   "outputs": [],
   "source": [
    "plt.figure(figsize=(12,8))\n",
    "sns.heatmap(df.isna(), cmap=heatmap_color)\n",
    "# Set title on pie chart\n",
    "plt.title(f\"Analyse des données manquantes avant traitement\\ndescription: {df_products.shape}\\n\")\n",
    "plt.show()"
   ]
  },
  {
   "cell_type": "markdown",
   "metadata": {},
   "source": [
    "Seul les individus contenants des valeurs manquantes sont supprimées."
   ]
  },
  {
   "cell_type": "code",
   "execution_count": null,
   "metadata": {},
   "outputs": [],
   "source": [
    "df_customers = df.dropna()"
   ]
  },
  {
   "cell_type": "markdown",
   "metadata": {},
   "source": [
    "## **3. Fusion & Nettoyage des données de géolocalistion**\n",
    "***"
   ]
  },
  {
   "cell_type": "markdown",
   "metadata": {},
   "source": [
    "L'ajout des données de geolocalisation augmente considérablement la taille du data set. Cela est dû à la présence de différentes `geolocation_lat` et `geolocation_lng` pour un même code postale, ce qui est normal puisqu'il existe plusieurs lieux dans une même zone geographique.\n",
    "\n",
    "Ce référencement précis n'est pas pertinent pour la mission. Ainsi, une seule information de `geolocation_lat` et `geolocation_lng` est sélectionnée aléatoirement par `geolocation_zip_code_prefix`."
   ]
  },
  {
   "cell_type": "code",
   "execution_count": null,
   "metadata": {},
   "outputs": [],
   "source": [
    "df_geolocation = df_geolocation.groupby('geolocation_zip_code_prefix').sample(n=1)"
   ]
  },
  {
   "cell_type": "markdown",
   "metadata": {},
   "source": [
    "La même démarche est effectuée avec la ville puisque la démarche de nettoyage révèle que certains codes postaux ne se trouvent pas dans le data set client, alors que certaines villes s'y trouvent. Cette démarche sert donc à optimer la qualité des jointures et donc à minimiser la perte d'information."
   ]
  },
  {
   "cell_type": "code",
   "execution_count": null,
   "metadata": {},
   "outputs": [],
   "source": [
    "df_city = df_geolocation.groupby('geolocation_city').sample(n=1)"
   ]
  },
  {
   "cell_type": "markdown",
   "metadata": {},
   "source": [
    "Les données de géolocalisation du `df_geo` sont isolées puis fusionnées au `df_city`."
   ]
  },
  {
   "cell_type": "code",
   "execution_count": null,
   "metadata": {},
   "outputs": [],
   "source": [
    "df_geo = df_geo[[\"customer_unique_id\",\"customer_zip_code_prefix\",\"customer_city\"]]"
   ]
  },
  {
   "cell_type": "code",
   "execution_count": null,
   "metadata": {},
   "outputs": [],
   "source": [
    "df_geo = df_geo.merge(df_city, left_on=[\"customer_city\"], right_on=[\"geolocation_city\"], how=\"left\", indicator=True)"
   ]
  },
  {
   "cell_type": "code",
   "execution_count": null,
   "metadata": {},
   "outputs": [],
   "source": [
    "df_geo[\"_merge\"].value_counts()"
   ]
  },
  {
   "cell_type": "markdown",
   "metadata": {},
   "source": [
    "Une part des individus contient des noms de villes qui ne figurent pas dans le data set de géolocalisation. Ils sont isolés dans `df_geo_left` afin de trouver une correspondance avec le code postal. "
   ]
  },
  {
   "cell_type": "code",
   "execution_count": null,
   "metadata": {},
   "outputs": [],
   "source": [
    "df_geo_left = df_geo[df_geo[\"_merge\"] == \"left_only\"].drop(columns=[\"geolocation_zip_code_prefix\",\"geolocation_lat\",\"geolocation_lng\",\"geolocation_city\",\"geolocation_state\",\"_merge\"])"
   ]
  },
  {
   "cell_type": "markdown",
   "metadata": {},
   "source": [
    "Les données correctement jointent sont elles aussi isolées dans le data set de géolocalisation final (`df_geo`) et les colonnes inutiles sont supprimées."
   ]
  },
  {
   "cell_type": "code",
   "execution_count": null,
   "metadata": {},
   "outputs": [],
   "source": [
    "df_geo = df_geo[df_geo[\"_merge\"] == \"both\"].drop(columns=[\"geolocation_zip_code_prefix\",\"geolocation_city\",\"geolocation_state\",\"_merge\"])"
   ]
  },
  {
   "cell_type": "markdown",
   "metadata": {},
   "source": [
    "Les données `df_geo_left` sont maintenant jointent au données de géolocalisation via le code poastal."
   ]
  },
  {
   "cell_type": "code",
   "execution_count": null,
   "metadata": {},
   "outputs": [],
   "source": [
    "df_geo_left = df_geo_left.merge(df_geolocation, left_on=\"customer_zip_code_prefix\", right_on=\"geolocation_zip_code_prefix\", how=\"left\", indicator=True)"
   ]
  },
  {
   "cell_type": "markdown",
   "metadata": {},
   "source": [
    "La qualité des jointures montre que l'information de geolocalisation a trouvé une correspondance pour 1179 individus, ce qui diminue significativement la perte d'information de géolocalisation à propos des clients. "
   ]
  },
  {
   "cell_type": "code",
   "execution_count": null,
   "metadata": {},
   "outputs": [],
   "source": [
    "df_geo_left[\"_merge\"].value_counts()"
   ]
  },
  {
   "cell_type": "markdown",
   "metadata": {},
   "source": [
    "Les colonnes inutiles sont maintenant supprimées du `df_geo_left`."
   ]
  },
  {
   "cell_type": "code",
   "execution_count": null,
   "metadata": {},
   "outputs": [],
   "source": [
    "df_geo_left.drop(columns=[\"geolocation_zip_code_prefix\",\"geolocation_city\",\"geolocation_state\",\"_merge\"], inplace=True)"
   ]
  },
  {
   "cell_type": "markdown",
   "metadata": {},
   "source": [
    "Les data sets sont maintenant concatener pour ne former qu'un data set `df_geo` qui contient l'ensemble des informations de géolocalisation des clients. Les 49 individus n'ayant pas trouver de correspondance sont ensuite supprimés"
   ]
  },
  {
   "cell_type": "code",
   "execution_count": null,
   "metadata": {},
   "outputs": [],
   "source": [
    "df_geo = pd.concat([df_geo, df_geo_left])"
   ]
  },
  {
   "cell_type": "code",
   "execution_count": null,
   "metadata": {},
   "outputs": [],
   "source": [
    "df_geo.dropna(inplace=True)"
   ]
  },
  {
   "cell_type": "markdown",
   "metadata": {},
   "source": [
    "## **4. Analyse des données**\n",
    "***"
   ]
  },
  {
   "cell_type": "markdown",
   "metadata": {},
   "source": [
    "### **4.1 Géolocalisation des clients**"
   ]
  },
  {
   "cell_type": "code",
   "execution_count": null,
   "metadata": {},
   "outputs": [],
   "source": [
    "import pandas as pd\n",
    "from mpl_toolkits.basemap import Basemap\n",
    "import matplotlib.pyplot as plt\n",
    "\n",
    "map = Basemap(projection='merc', llcrnrlat=-80, urcrnrlat=80, llcrnrlon=-180, urcrnrlon=180, resolution='i')"
   ]
  },
  {
   "cell_type": "code",
   "execution_count": null,
   "metadata": {},
   "outputs": [],
   "source": [
    "plt.figure(figsize=(14,10))\n",
    "map.scatter(df_geo['geolocation_lng'], df_geo['geolocation_lat'], latlon=True, color='red')\n",
    "map.drawcoastlines()\n",
    "map.drawcountries()\n",
    "plt.show()"
   ]
  },
  {
   "cell_type": "code",
   "execution_count": null,
   "metadata": {},
   "outputs": [],
   "source": [
    "import matplotlib.pyplot as plt\n",
    "import cartopy.crs as ccrs\n",
    "\n",
    "fig = plt.figure(figsize=(14, 8))\n",
    "ax = fig.add_subplot(1, 1, 1, projection=ccrs.PlateCarree())\n",
    "ax.coastlines()\n",
    "ax.scatter(df_geo['geolocation_lng'], df_geo['geolocation_lat'], transform=ccrs.PlateCarree())\n",
    "plt.show()\n"
   ]
  },
  {
   "cell_type": "code",
   "execution_count": null,
   "metadata": {},
   "outputs": [],
   "source": [
    "import pandas as pd\n",
    "import altair as alt\n",
    "\n",
    "# Prepare DataFrame\n",
    "df = pd.DataFrame({\n",
    "    'zip_code': df_geo['customer_zip_code_prefix'],\n",
    "    'latitude': df_geo['geolocation_lat'],\n",
    "    'longitude': df_geo['geolocation_lng']\n",
    "})\n",
    "\n",
    "# Create chart\n",
    "alt.data_transformers.disable_max_rows()\n",
    "\n",
    "chart = alt.Chart(df).transform_calculate(\n",
    "    \"leading digit\", alt.expr.substring(alt.datum.zip_code, 0, 1)\n",
    ").mark_circle(size=3).encode(\n",
    "    longitude='longitude:Q',\n",
    "    latitude='latitude:Q',\n",
    "    color='leading digit:N',\n",
    "    tooltip='zip_code:N'\n",
    ").project(\n",
    "    type='identity'\n",
    ").properties(\n",
    "    width=650,\n",
    "    height=400\n",
    ")\n",
    "\n",
    "chart.display()"
   ]
  },
  {
   "cell_type": "markdown",
   "metadata": {},
   "source": [
    "### **4.2 Données clients**"
   ]
  },
  {
   "cell_type": "markdown",
   "metadata": {},
   "source": [
    "#### **4.2.1 Information globale**"
   ]
  },
  {
   "cell_type": "code",
   "execution_count": null,
   "metadata": {},
   "outputs": [],
   "source": [
    "df_customers.info()"
   ]
  },
  {
   "cell_type": "markdown",
   "metadata": {},
   "source": [
    "#### **4.2.2 Mesures de tendance centrale et de dispersion**"
   ]
  },
  {
   "cell_type": "code",
   "execution_count": null,
   "metadata": {},
   "outputs": [],
   "source": [
    "df_customers.describe()"
   ]
  },
  {
   "cell_type": "markdown",
   "metadata": {},
   "source": [
    "#### **4.2.3 Mesures de concentration**"
   ]
  },
  {
   "cell_type": "markdown",
   "metadata": {},
   "source": [
    "A FAIRE"
   ]
  },
  {
   "cell_type": "markdown",
   "metadata": {},
   "source": [
    "#### **4.2.4 Analyse des distributions + Mesures de forme**"
   ]
  },
  {
   "cell_type": "code",
   "execution_count": null,
   "metadata": {},
   "outputs": [],
   "source": [
    "# Generates graphs by variable\n",
    "for col in df_customers.select_dtypes(\"float\"):\n",
    "    fig, axs = plt.subplots(1, 3, figsize=(16,4))\n",
    "\n",
    "    # Calculate skewness and kurtosis\n",
    "    skewness = round(df_customers[col].skew(), 2)\n",
    "    kurtosis = round(df_customers[col].kurtosis(), 2)\n",
    "\n",
    "    # Display histogram\n",
    "    sns.histplot(data=df_customers, x=df_customers[col], kde=\"kind\", color=\"#0b28d0\", ax=axs[0])\n",
    "    # Add skewness and average to legend\n",
    "    axs[0].legend([f\"Skewness: {skewness}\", f\"Kurtosis: {kurtosis}\"], fontsize=\"10\", handlelength=0, handletextpad=0)\n",
    "    # Create a boxplot\n",
    "    sns.boxplot(data=df_customers, x=df_customers[col], orient=\"h\", color=\"#0b28d0\", ax=axs[1])\n",
    "    # Create a violinplot\n",
    "    sns.violinplot(data=df_customers, x=df_customers[col], orient=\"h\", color=\"#0b28d0\", ax=axs[2])\n",
    "    \n",
    "    # Add a unique title for each target\n",
    "    plt.suptitle(f\"Distribution de {col}\", color=\"#000\")\n",
    "    plt.tight_layout()"
   ]
  },
  {
   "cell_type": "markdown",
   "metadata": {},
   "source": [
    "#### **4.2.5 Analyse bivariée**"
   ]
  },
  {
   "cell_type": "code",
   "execution_count": null,
   "metadata": {},
   "outputs": [],
   "source": [
    "sns.pairplot(df_customers, corner=True, plot_kws={'s': 6, 'color': '#0b28d0'}, diag_kws= {'color': '#0b28d0'})\n",
    "plt.show()"
   ]
  },
  {
   "cell_type": "markdown",
   "metadata": {},
   "source": [
    "#### **4.2.6 Recherche des corrélations**"
   ]
  },
  {
   "cell_type": "code",
   "execution_count": null,
   "metadata": {},
   "outputs": [],
   "source": [
    "# Digital DF for correlation analysis\n",
    "df_corr = df_customers.select_dtypes(include=['float64', 'int64'])\n",
    "\n",
    "# Analysis of correlations between variables\n",
    "plt.figure(figsize=(12,4))\n",
    "sns.heatmap(df_corr.corr(method=\"spearman\"), center=0, cmap=heatmap_color, annot=True, annot_kws={'size': 9})\n",
    "plt.title('Analyse de corrélation entre les indicateurs numériques\\n(r de Spearman)')\n",
    "plt.show()"
   ]
  },
  {
   "cell_type": "markdown",
   "metadata": {},
   "source": [
    "### **4.3 ACP**"
   ]
  },
  {
   "cell_type": "markdown",
   "metadata": {},
   "source": [
    "Suppression de la colonne non numérique et description du data set avant l'ACP."
   ]
  },
  {
   "cell_type": "code",
   "execution_count": null,
   "metadata": {},
   "outputs": [],
   "source": [
    "df_acp = df_customers.drop(columns=\"customer_unique_id\")"
   ]
  },
  {
   "cell_type": "code",
   "execution_count": null,
   "metadata": {},
   "outputs": [],
   "source": [
    "print(df_acp.shape)\n",
    "# Number of observations (tuples/country)\n",
    "n = df_acp.shape[0]\n",
    "# Number of variables (columns)\n",
    "p = df_acp.shape[1]"
   ]
  },
  {
   "cell_type": "markdown",
   "metadata": {},
   "source": [
    "#### **4.3.1 Normalisation des données**"
   ]
  },
  {
   "cell_type": "markdown",
   "metadata": {},
   "source": [
    "Les données sont centrées et réduites (moyenne=0; Ecart-type=1)."
   ]
  },
  {
   "cell_type": "code",
   "execution_count": null,
   "metadata": {},
   "outputs": [],
   "source": [
    "# Instanciation\n",
    "sc = StandardScaler()\n",
    "# Transformation - Scaling \n",
    "X = sc.fit_transform(df_acp)"
   ]
  },
  {
   "cell_type": "markdown",
   "metadata": {},
   "source": [
    "Les composantes principales sont calculées et instanciées dans la variables `coord`. Le nombre de composante est affiché."
   ]
  },
  {
   "cell_type": "code",
   "execution_count": null,
   "metadata": {},
   "outputs": [],
   "source": [
    "# Instanciation\n",
    "acp = PCA(svd_solver='full')\n",
    "#Calculs des composantes principales + renvoie en sortie les coordonnées factorielles\n",
    "coord = acp.fit_transform(X)\n",
    "#Nombre de composantes calculées\n",
    "print(acp.n_components_)"
   ]
  },
  {
   "cell_type": "markdown",
   "metadata": {},
   "source": [
    "#### **3.3   Eboulis des valeurs propres**"
   ]
  },
  {
   "cell_type": "markdown",
   "metadata": {},
   "source": [
    "##### **3.3-1   Calcul des valeurs propres**"
   ]
  },
  {
   "cell_type": "markdown",
   "metadata": {},
   "source": [
    "Affiche la variance expliquée pour chaque composante principale."
   ]
  },
  {
   "cell_type": "code",
   "execution_count": null,
   "metadata": {},
   "outputs": [],
   "source": [
    "print(acp.explained_variance_)"
   ]
  },
  {
   "cell_type": "markdown",
   "metadata": {},
   "source": [
    "Calcule la valeur propre corrigée pour chaque composante principale. Cette valeur s'obtient en divisant la variance expliquée par chaque composante par les degrés de liberté.\n",
    "\n",
    "La valeur propre corrigée est une mesure de la variance expliquée pour chaque composante, qui est adaptée pour les degrés de liberté. Elle permet de comprendre la distribution de la variance expliquée et à déterminer combien de composantes principales sont nécessaires pour expliquer une proportion significative de la variance."
   ]
  },
  {
   "cell_type": "code",
   "execution_count": null,
   "metadata": {},
   "outputs": [],
   "source": [
    "eigval = (n-1)/n*acp.explained_variance_\n",
    "print(eigval)"
   ]
  },
  {
   "cell_type": "markdown",
   "metadata": {},
   "source": [
    "Calcule la racine carrée de la valeur propre corrigée afin de comprendre la distribution de la variance expliquée et à déterminer combien de composantes principales sont nécessaires pour expliquer une proportion significative de la variance."
   ]
  },
  {
   "cell_type": "code",
   "execution_count": null,
   "metadata": {},
   "outputs": [],
   "source": [
    "sqrt_eigval = np.sqrt(eigval)\n",
    "print(sqrt_eigval)"
   ]
  },
  {
   "cell_type": "markdown",
   "metadata": {},
   "source": [
    "Calcule la corrélation de chaque variable avec chaque composante principale. Cela permet de comprendre comment les variables originales sont liées aux composantes principales et à déterminer les relations entre les variables."
   ]
  },
  {
   "cell_type": "code",
   "execution_count": null,
   "metadata": {},
   "outputs": [],
   "source": [
    "# Correlation of variables with axes\n",
    "corvar = np.zeros((p,p))\n",
    "for k in range(p):\n",
    " corvar[:,k] = acp.components_[k,:] * sqrt_eigval[k]\n",
    "\n",
    "#Displays the variable x factor correlation matrix\n",
    "print(corvar)"
   ]
  },
  {
   "cell_type": "markdown",
   "metadata": {},
   "source": [
    "##### **3.3-2   Eboulis des valeurs**"
   ]
  },
  {
   "cell_type": "markdown",
   "metadata": {},
   "source": [
    "Déclaration de la fonction pour l'éboulis des valeurs propres et analyse des résultats."
   ]
  },
  {
   "cell_type": "code",
   "execution_count": null,
   "metadata": {},
   "outputs": [],
   "source": [
    "def display_scree_plot(pca):\n",
    "    scree = pca.explained_variance_ratio_*100\n",
    "    plt.bar(np.arange(len(scree))+1, scree, color='#0b28d0')\n",
    "    plt.plot(np.arange(len(scree))+1, scree.cumsum(),c=\"#edad01\",marker='o')\n",
    "    plt.title(\"Eboulis des valeurs propres\\n\", fontsize=18, color='#0b28d0')\n",
    "    plt.xlabel(\"Rang de l'axe d'inertie\", color='#edad01')\n",
    "    plt.ylabel(\"% d'inertie\", color='#edad01')\n",
    "    plt.xticks(color='#333')\n",
    "    plt.yticks(color='#333')\n",
    "    plt.show(block=False)"
   ]
  },
  {
   "cell_type": "code",
   "execution_count": null,
   "metadata": {},
   "outputs": [],
   "source": [
    "#Eboulis des valeurs propres\n",
    "plt.figure(figsize=(14,4))\n",
    "display_scree_plot(acp)"
   ]
  },
  {
   "cell_type": "markdown",
   "metadata": {},
   "source": [
    "Les résultats montrent que `review_score` est l'information qui contribue le plus à l'inertie totale. \n",
    "\n",
    "Les 8 premières composantes suffisent à expliquer près de 90% de l'information."
   ]
  },
  {
   "cell_type": "code",
   "execution_count": null,
   "metadata": {},
   "outputs": [],
   "source": [
    "print(pd.DataFrame({'Ratio':acp.explained_variance_ratio_*100,'Composante Principale':df_acp.columns}))"
   ]
  },
  {
   "cell_type": "markdown",
   "metadata": {},
   "source": [
    "#### **3.4   Représentation des individus - 1er Plan Factoriel**"
   ]
  },
  {
   "cell_type": "code",
   "execution_count": null,
   "metadata": {},
   "outputs": [],
   "source": [
    "import matplotlib.pyplot as plt\n",
    "import seaborn as sns\n",
    "\n",
    "fig, axs = plt.subplots(2, 2, figsize=(14,10))\n",
    "\n",
    "# 1er plan factoriel\n",
    "scatter1 = axs[0, 0].scatter(x=coord[:, 0], y=coord[:, 1], c=df_customers.nb_orders_per_customer, s=6)\n",
    "axs[0, 0].set_title(\"1er plan factoriel\")\n",
    "fig.colorbar(scatter1, ax=axs[0, 0])\n",
    "\n",
    "# 2e plan factoriel\n",
    "scatter2 = axs[0, 1].scatter(x=coord[:, 2], y=coord[:, 3], c=df_customers.nb_orders_per_customer, s=6)\n",
    "axs[0, 1].set_title(\"2e plan factoriel\")\n",
    "fig.colorbar(scatter2, ax=axs[0, 1])\n",
    "\n",
    "# 3e plan factoriel\n",
    "scatter3 = axs[1, 0].scatter(x=coord[:, 4], y=coord[:, 5], c=df_customers.nb_orders_per_customer, s=6)\n",
    "axs[1, 0].set_title(\"3e plan factoriel\")\n",
    "fig.colorbar(scatter3, ax=axs[1, 0])\n",
    "\n",
    "# 4e plan factoriel\n",
    "scatter4 = axs[1, 1].scatter(x=coord[:, 6], y=coord[:, 7], c=df_customers.nb_orders_per_customer, s=6)\n",
    "axs[1, 1].set_title(\"4e plan factoriel\")\n",
    "fig.colorbar(scatter4, ax=axs[1, 1])\n",
    "\n",
    "plt.tight_layout()\n",
    "plt.show()"
   ]
  },
  {
   "cell_type": "markdown",
   "metadata": {},
   "source": [
    "#### **3.5   Cercle des corrélations**"
   ]
  },
  {
   "cell_type": "code",
   "execution_count": null,
   "metadata": {},
   "outputs": [],
   "source": [
    "fig, axs = plt.subplots(2, 2, figsize=(16,16)) # Création de la grille de 2x2\n",
    "\n",
    "# Liste des axes\n",
    "axes = [axs[0,0], axs[0,1], axs[1,0], axs[1,1]]\n",
    "\n",
    "for i, ax in enumerate(axes):\n",
    "    ax.set_xlim(-1,1)\n",
    "    ax.set_ylim(-1,1)\n",
    "    \n",
    "    # Affichage des étiquettes (noms des variables)\n",
    "    for j in range(p):\n",
    "        ax.annotate(df_acp.columns[j],(corvar[j,2*i]+0.03,corvar[j,2*i+1]+0.03), size=\"10\", color=\"#333\")\n",
    "        ax.arrow(0,0, corvar[j,2*i],corvar[j,2*i+1], head_width=0.02, color='#edad01')\n",
    "        \n",
    "    # Ajout des axes\n",
    "    ax.plot([-1,1],[0,0],color='silver',linestyle='-',linewidth=1)\n",
    "    ax.plot([0,0],[-1,1],color='silver',linestyle='-',linewidth=1)\n",
    "\n",
    "    ax.set_title(f\"Composante principale {2*i} et {2*i+1}\")\n",
    "    \n",
    "    # Ajout du cercle\n",
    "    cercle = plt.Circle((0,0),1,color='#0b28d0',fill=False)\n",
    "    ax.add_artist(cercle)\n",
    "\n",
    "# Affichage\n",
    "plt.show()"
   ]
  },
  {
   "cell_type": "code",
   "execution_count": null,
   "metadata": {},
   "outputs": [],
   "source": [
    "pcs = acp.components_\n",
    "\n",
    "plt.figure(figsize=(10,8))\n",
    "\n",
    "for i, (x, y) in enumerate(zip(pcs[0, :], pcs[1, :])):\n",
    "    # Afficher un segment de l'origine au point (x, y)\n",
    "    plt.plot([0, x], [0, y], color='#edad01')\n",
    "    # Afficher le nom (data.columns[i]) de la performance\n",
    "    plt.text(x, y, df_customers.columns[i], fontsize='10', color=\"#333\")\n",
    "\n",
    "\n",
    "# Afficher une ligne horizontale y=0\n",
    "plt.plot([-0.2, 0.7], [0, 0], color='grey', ls='--')\n",
    "\n",
    "# Afficher une ligne verticale x=0\n",
    "plt.plot([0, 0], [-0.7, 0.7], color='grey', ls='--')\n",
    "\n",
    "plt.xlim([-0.2, 0.7])\n",
    "plt.ylim([-0.7, 0.7])\n",
    "\n",
    "plt.show()"
   ]
  },
  {
   "cell_type": "code",
   "execution_count": null,
   "metadata": {},
   "outputs": [],
   "source": [
    "path_customers = \"C:/Users/remid/Documents/_OC_ParcoursDataScientist/P5_Segmentez_Des_Clients_Dun_Site_e_commerce/df_final.csv\"\n",
    "df_customers.to_csv(path_customers, sep=\",\", index=False)"
   ]
  },
  {
   "cell_type": "markdown",
   "metadata": {},
   "source": [
    "---\n",
    "\n",
    "\n",
    "* OK - Ajouter recense (mesurer depuis quand le client n'a pas commander)\n",
    "* OK - RFM (Recense/Frequence d'achat/Monnaie Value)\n",
    "* OK - ACP (Observer l'ensemble des plans)\n",
    "* Kmeans (description métier des cluster, boxplot, scatter), cluster 1 client qui dépensent beaucoup, cluster 2 les petits achetrys. \n",
    "* CAH\n",
    "* DBSCAN\n",
    "\n",
    "\n",
    "Appliquer powertransformer ou quantiletransformer \n",
    "\n",
    "Utiliser silouhette et comparer avec davies bouldin\n",
    "\n",
    "Tester un nombre de cluster supérieur pour la curiosité"
   ]
  }
 ],
 "metadata": {
  "kernelspec": {
   "display_name": "Python 3",
   "language": "python",
   "name": "python3"
  },
  "language_info": {
   "codemirror_mode": {
    "name": "ipython",
    "version": 3
   },
   "file_extension": ".py",
   "mimetype": "text/x-python",
   "name": "python",
   "nbconvert_exporter": "python",
   "pygments_lexer": "ipython3",
   "version": "3.11.3"
  }
 },
 "nbformat": 4,
 "nbformat_minor": 2
}
