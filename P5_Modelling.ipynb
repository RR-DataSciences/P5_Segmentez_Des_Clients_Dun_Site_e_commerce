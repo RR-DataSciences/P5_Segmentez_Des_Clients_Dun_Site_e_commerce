{
 "cells": [
  {
   "cell_type": "markdown",
   "metadata": {},
   "source": [
    "# **Projet 5 - <span style=\"color:#0B28D0\">Segmentez les clients d'un site e-commerce</span>**\n",
    "---"
   ]
  },
  {
   "cell_type": "markdown",
   "metadata": {},
   "source": [
    "**<span style=\"color:#0B28D0\">Objectif de la mission:</span>**\n",
    "* Fournir une **segmentation des clients** afin d'apporter des informations supplémentaires aux équipes pour leurs campagnes de communication.\n",
    "* **Comprendre les différents types d’utilisateurs** grâce à leur comportement et à leurs données personnelles.\n",
    "* Fournir une **description actionable de la segmentation** et de sa logique sous-jacente pour une utilisation optimale.\n",
    "* Proposition de **contrat de maintenance basée sur une analyse de la stabilité** des segments au cours du temps.."
   ]
  },
  {
   "cell_type": "markdown",
   "metadata": {},
   "source": [
    "## **0. Importation des librairies et des données**\n",
    "---"
   ]
  },
  {
   "cell_type": "code",
   "execution_count": 187,
   "metadata": {},
   "outputs": [],
   "source": [
    "# Importing libraries\n",
    "import pandas as pd\n",
    "import numpy as np\n",
    "import seaborn as sns\n",
    "import matplotlib.pyplot as plt\n",
    "import matplotlib.colors as mcolors\n",
    "import matplotlib as mpl\n",
    "import plotly.graph_objects as go\n",
    "# ---\n",
    "#scikit-learn\n",
    "from sklearn.preprocessing import StandardScaler, PowerTransformer, QuantileTransformer\n",
    "#classe pour l'ACP\n",
    "from sklearn.cluster import KMeans\n",
    "from sklearn import decomposition\n",
    "from sklearn.metrics import davies_bouldin_score, silhouette_score\n",
    "from sklearn.cluster import AgglomerativeClustering, DBSCAN\n",
    "#Classes pour le clustering\n",
    "from scipy.cluster import hierarchy\n",
    "from scipy.cluster.hierarchy import dendrogram, linkage, fcluster\n",
    "from sklearn.decomposition import PCA"
   ]
  },
  {
   "cell_type": "code",
   "execution_count": 2,
   "metadata": {},
   "outputs": [],
   "source": [
    "path_customers = \"C:/Users/remid/Documents/_OC_ParcoursDataScientist/P5_Segmentez_Des_Clients_Dun_Site_e_commerce/df_final.csv\"\n",
    "df_customers = pd.read_csv(path_customers, sep=\",\")\n",
    "df = df_customers.copy()"
   ]
  },
  {
   "cell_type": "markdown",
   "metadata": {},
   "source": [
    "### **0.1 - Définition de la charte graphique**"
   ]
  },
  {
   "cell_type": "code",
   "execution_count": 3,
   "metadata": {},
   "outputs": [
    {
     "data": {
      "text/plain": [
       "['#0B28D0', '#A2A2D5', '#FFF', '#333', '#EDAD01']"
      ]
     },
     "execution_count": 3,
     "metadata": {},
     "output_type": "execute_result"
    }
   ],
   "source": [
    "[\"#0B28D0\",\"#A2A2D5\",\"#FFF\",\"#333\",\"#EDAD01\"]"
   ]
  },
  {
   "cell_type": "code",
   "execution_count": 4,
   "metadata": {},
   "outputs": [
    {
     "data": {
      "image/png": "[encoded data removed]",
      "text/html": [
       "<div style=\"vertical-align: middle;\"><strong>custom_colormap</strong> </div><div class=\"cmap\"><img alt=\"custom_colormap colormap\" title=\"custom_colormap\" style=\"border: 1px solid #555;\" src=\"data:image/png;base64,iVBORw0KGgoAAAANSUhEUgAAAgAAAABACAYAAABsv8+/AAAAHnRFWHRUaXRsZQBjdXN0b21fY29sb3JtYXAgY29sb3JtYXB5JmvcAAAAJHRFWHREZXNjcmlwdGlvbgBjdXN0b21fY29sb3JtYXAgY29sb3JtYXCzmoKzAAAAMHRFWHRBdXRob3IATWF0cGxvdGxpYiB2My43LjEsIGh0dHBzOi8vbWF0cGxvdGxpYi5vcmcqr/hNAAAAMnRFWHRTb2Z0d2FyZQBNYXRwbG90bGliIHYzLjcuMSwgaHR0cHM6Ly9tYXRwbG90bGliLm9yZwQJZ2oAAAIbSURBVHic7dZBboMwFEVRw7Qb6f5X0hXFHQCNY2xKI3X0zpGqFkJ+DE6lu3x8ftVSSlmW509/vO4n59csZR2873nd9vpo9tLMHl+z/JxbJ7Pb43Uy+5g/m91eM5vdvt7PPl9znv26hvNsz/vG815nz3u8J69reG9P1sns1zWMZ/9lT8bP+/6ejL8T5z1pZ2/q/vtRSq378X6u1u18qfvf5fl6fXTHdTKrNK8/BnOOzyiDOcfn9Gtq3tOuuTaffzlrO65Xs27df39/x/uaNQ/XdGfOu2vqn+18f2s76/QsR7P65zjYk+H+9vc/35Pr/b1Y09V37jT7uP/RPv3Hnky+J7/9z926/9Gs/v4Hs0opawEA4ggAAAgkAAAgkAAAgEACAAACCQAACCQAACCQAACAQAIAAAIJAAAIJAAAIJAAAIBAAgAAAgkAAAgkAAAgkAAAgEACAAACCQAACCQAACCQAACAQAIAAAIJAAAIJAAAIJAAAIBAAgAAAgkAAAgkAAAgkAAAgEACAAACCQAACCQAACCQAACAQAIAAAIJAAAIJAAAIJAAAIBAAgAAAgkAAAgkAAAgkAAAgEACAAACCQAACCQAACCQAACAQAIAAAIJAAAIJAAAIJAAAIBAAgAAAgkAAAgkAAAgkAAAgEACAAACCQAACCQAACCQAACAQAIAAAIJAAAIJAAAIJAAAIBAAgAAAgkAAAgkAAAg0DePBRApFnW8dgAAAABJRU5ErkJggg==\"></div><div style=\"vertical-align: middle; max-width: 514px; display: flex; justify-content: space-between;\"><div style=\"float: left;\"><div title=\"#0b28d0ff\" style=\"display: inline-block; width: 1em; height: 1em; margin: 0; vertical-align: middle; border: 1px solid #555; background-color: #0b28d0ff;\"></div> under</div><div style=\"margin: 0 auto; display: inline-block;\">bad <div title=\"#00000000\" style=\"display: inline-block; width: 1em; height: 1em; margin: 0; vertical-align: middle; border: 1px solid #555; background-color: #00000000;\"></div></div><div style=\"float: right;\">over <div title=\"#edad01ff\" style=\"display: inline-block; width: 1em; height: 1em; margin: 0; vertical-align: middle; border: 1px solid #555; background-color: #edad01ff;\"></div></div>"
      ],
      "text/plain": [
       "<matplotlib.colors.LinearSegmentedColormap at 0x1f74410a950>"
      ]
     },
     "execution_count": 4,
     "metadata": {},
     "output_type": "execute_result"
    }
   ],
   "source": [
    "# Define the heatmap color\n",
    "first_color = \"#0B28D0\"\n",
    "under_color = \"#F1F1F1\"\n",
    "over_color = \"#EDAD01\"\n",
    "# Create a personal color map \n",
    "colors = [first_color,under_color, over_color]\n",
    "n_bins = 400\n",
    "cmap_name = 'custom_colormap'\n",
    "heatmap_color = mcolors.LinearSegmentedColormap.from_list(cmap_name, colors, N=n_bins)\n",
    "heatmap_color"
   ]
  },
  {
   "cell_type": "code",
   "execution_count": 5,
   "metadata": {},
   "outputs": [
    {
     "data": {
      "image/png": "[encoded data removed]",
      "text/html": [
       "<div style=\"vertical-align: middle;\"><strong>blend</strong> </div><div class=\"cmap\"><img alt=\"blend colormap\" title=\"blend\" style=\"border: 1px solid #555;\" src=\"data:image/png;base64,iVBORw0KGgoAAAANSUhEUgAAAgAAAABACAYAAABsv8+/AAAAFHRFWHRUaXRsZQBibGVuZCBjb2xvcm1hcKH0gPAAAAAadEVYdERlc2NyaXB0aW9uAGJsZW5kIGNvbG9ybWFwX6spFgAAADB0RVh0QXV0aG9yAE1hdHBsb3RsaWIgdjMuNy4xLCBodHRwczovL21hdHBsb3RsaWIub3JnKq/4TQAAADJ0RVh0U29mdHdhcmUATWF0cGxvdGxpYiB2My43LjEsIGh0dHBzOi8vbWF0cGxvdGxpYi5vcmcECWdqAAABl0lEQVR4nO3WS26DMABAQdNtLtL7n6Q3oosoGxQUgquW6s1sEIiPwYn1ltvn1zrGGGO9b8Z4bMdmf+/48/OWyeu3x5fJ67fH9+937v2XH3rP/e83N87j83Fs/O9/v8fuq/mY/X5H7/e3v+f/P8/nnvNr/7uX69nz51xv3Tp6v3PPufq6dXycs/N8cpzrxdbXN+f5YwAAOQIAAIIEAAAECQAACBIAABAkAAAgSAAAQJAAAIAgAQAAQQIAAIIEAAAECQAACBIAABAkAAAgSAAAQJAAAIAgAQAAQQIAAIIEAAAECQAACBIAABAkAAAgSAAAQJAAAIAgAQAAQQIAAIIEAAAECQAACBIAABAkAAAgSAAAQJAAAIAgAQAAQQIAAIIEAAAECQAACBIAABAkAAAgSAAAQJAAAIAgAQAAQQIAAIIEAAAECQAACBIAABAkAAAgSAAAQJAAAIAgAQAAQQIAAIIEAAAECQAACBIAABAkAAAgSAAAQJAAAIAgAQAAQQIAAIIEAAAECQAACBIAABAkAAAgSAAAQNA3kIek+Ceji1kAAAAASUVORK5CYII=\"></div><div style=\"vertical-align: middle; max-width: 514px; display: flex; justify-content: space-between;\"><div style=\"float: left;\"><div title=\"#0b28d0ff\" style=\"display: inline-block; width: 1em; height: 1em; margin: 0; vertical-align: middle; border: 1px solid #555; background-color: #0b28d0ff;\"></div> under</div><div style=\"margin: 0 auto; display: inline-block;\">bad <div title=\"#00000000\" style=\"display: inline-block; width: 1em; height: 1em; margin: 0; vertical-align: middle; border: 1px solid #555; background-color: #00000000;\"></div></div><div style=\"float: right;\">over <div title=\"#242531ff\" style=\"display: inline-block; width: 1em; height: 1em; margin: 0; vertical-align: middle; border: 1px solid #555; background-color: #242531ff;\"></div></div>"
      ],
      "text/plain": [
       "<matplotlib.colors.LinearSegmentedColormap at 0x1f744951a90>"
      ]
     },
     "execution_count": 5,
     "metadata": {},
     "output_type": "execute_result"
    }
   ],
   "source": [
    "palette_b = sns.dark_palette(\"#0B28D0\", reverse=True, as_cmap=True)\n",
    "palette_b"
   ]
  },
  {
   "cell_type": "code",
   "execution_count": 6,
   "metadata": {},
   "outputs": [
    {
     "data": {
      "text/html": [
       "<svg  width=\"550\" height=\"55\"><rect x=\"0\" y=\"0\" width=\"55\" height=\"55\" style=\"fill:#242531;stroke-width:2;stroke:rgb(255,255,255)\"/><rect x=\"55\" y=\"0\" width=\"55\" height=\"55\" style=\"fill:#212543;stroke-width:2;stroke:rgb(255,255,255)\"/><rect x=\"110\" y=\"0\" width=\"55\" height=\"55\" style=\"fill:#1f2554;stroke-width:2;stroke:rgb(255,255,255)\"/><rect x=\"165\" y=\"0\" width=\"55\" height=\"55\" style=\"fill:#1c2666;stroke-width:2;stroke:rgb(255,255,255)\"/><rect x=\"220\" y=\"0\" width=\"55\" height=\"55\" style=\"fill:#192678;stroke-width:2;stroke:rgb(255,255,255)\"/><rect x=\"275\" y=\"0\" width=\"55\" height=\"55\" style=\"fill:#16278a;stroke-width:2;stroke:rgb(255,255,255)\"/><rect x=\"330\" y=\"0\" width=\"55\" height=\"55\" style=\"fill:#13279b;stroke-width:2;stroke:rgb(255,255,255)\"/><rect x=\"385\" y=\"0\" width=\"55\" height=\"55\" style=\"fill:#1127ad;stroke-width:2;stroke:rgb(255,255,255)\"/><rect x=\"440\" y=\"0\" width=\"55\" height=\"55\" style=\"fill:#0e28bf;stroke-width:2;stroke:rgb(255,255,255)\"/><rect x=\"495\" y=\"0\" width=\"55\" height=\"55\" style=\"fill:#0b28d0;stroke-width:2;stroke:rgb(255,255,255)\"/></svg>"
      ],
      "text/plain": [
       "[(0.14217064351973224, 0.14390410693260464, 0.19354284782618525),\n",
       " (0.13129638908327107, 0.14532701622135824, 0.26185663585419044),\n",
       " (0.12042213464680988, 0.14674992551011184, 0.33017042388219564),\n",
       " (0.10915951398047509, 0.1482236529877495, 0.4009239900540581),\n",
       " (0.0982852595440139, 0.1496465622765031, 0.4692377780820633),\n",
       " (0.08702263887767911, 0.15112028975414074, 0.5399913442539259),\n",
       " (0.07614838444121794, 0.15254319904289435, 0.6083051322819311),\n",
       " (0.06488576377488314, 0.154016926520532, 0.6790586984537935),\n",
       " (0.05401150933842197, 0.1554398358092856, 0.7473724864817987),\n",
       " (0.043137254901960784, 0.1568627450980392, 0.8156862745098039)]"
      ]
     },
     "execution_count": 6,
     "metadata": {},
     "output_type": "execute_result"
    }
   ],
   "source": [
    "# Colour palette for the various graphics\n",
    "n_colors = 10\n",
    "palette_map = sns.color_palette(\"dark:#0B28D0\", n_colors=n_colors,as_cmap=False)\n",
    "palette_map"
   ]
  },
  {
   "cell_type": "markdown",
   "metadata": {},
   "source": [
    "### **0.2 - Normalisation de l'affichage des graphiques**"
   ]
  },
  {
   "cell_type": "code",
   "execution_count": 7,
   "metadata": {},
   "outputs": [],
   "source": [
    "# Defines display options for rows and columns\n",
    "pd.set_option('display.max_row',100)\n",
    "pd.set_option('display.max_column',100)"
   ]
  },
  {
   "cell_type": "code",
   "execution_count": 8,
   "metadata": {},
   "outputs": [],
   "source": [
    "# Defines title formatting\n",
    "plt.rcParams['axes.titlesize'] = 16\n",
    "plt.rcParams['axes.titlecolor'] = '#000'\n",
    "plt.rcParams['axes.titlepad'] = 20\n",
    "# Defines axis formatting\n",
    "plt.rcParams['axes.labelsize'] = 10\n",
    "plt.rcParams['axes.labelcolor'] = '#EDAD01'\n",
    "#Defines scale formatting\n",
    "plt.rcParams['xtick.labelsize'] = 8\n",
    "plt.rcParams['ytick.labelsize'] = 8 \n",
    "plt.rcParams['xtick.color'] = '#333'\n",
    "plt.rcParams['ytick.color'] = '#333'"
   ]
  },
  {
   "cell_type": "code",
   "execution_count": 9,
   "metadata": {},
   "outputs": [],
   "source": [
    "sns.set_theme(style=\"whitegrid\", context=\"notebook\", font_scale=1.2,\n",
    "              rc={\"axes.titlesize\":16, \n",
    "                  \"axes.labelsize\":10, \n",
    "                  \"xtick.labelsize\":8, \n",
    "                  \"ytick.labelsize\":8, \n",
    "                  \"xtick.color\":\"#333\", \n",
    "                  \"ytick.color\":\"#333\", \n",
    "                  \"axes.titlecolor\":\"#000\", \n",
    "                  \"axes.labelcolor\":\"#EDAD01\"\n",
    "                  })"
   ]
  },
  {
   "cell_type": "markdown",
   "metadata": {},
   "source": [
    "## **1. Traitement des données**\n",
    "***"
   ]
  },
  {
   "cell_type": "code",
   "execution_count": 10,
   "metadata": {},
   "outputs": [
    {
     "data": {
      "text/html": [
       "<div>\n",
       "<style scoped>\n",
       "    .dataframe tbody tr th:only-of-type {\n",
       "        vertical-align: middle;\n",
       "    }\n",
       "\n",
       "    .dataframe tbody tr th {\n",
       "        vertical-align: top;\n",
       "    }\n",
       "\n",
       "    .dataframe thead th {\n",
       "        text-align: right;\n",
       "    }\n",
       "</style>\n",
       "<table border=\"1\" class=\"dataframe\">\n",
       "  <thead>\n",
       "    <tr style=\"text-align: right;\">\n",
       "      <th></th>\n",
       "      <th>customer_unique_id</th>\n",
       "      <th>review_score</th>\n",
       "      <th>payment_installments</th>\n",
       "      <th>payment_sequential</th>\n",
       "      <th>average_price</th>\n",
       "      <th>average_freight_value</th>\n",
       "      <th>average_product_weight_g</th>\n",
       "      <th>product_volume_cm3</th>\n",
       "      <th>nb_product_per_order</th>\n",
       "      <th>days_since_last_order</th>\n",
       "      <th>nb_orders_per_customer</th>\n",
       "    </tr>\n",
       "  </thead>\n",
       "  <tbody>\n",
       "    <tr>\n",
       "      <th>4717</th>\n",
       "      <td>0ca34b61e26e5432f38297c3d7bd57a5</td>\n",
       "      <td>4.0</td>\n",
       "      <td>3.0</td>\n",
       "      <td>1.0</td>\n",
       "      <td>29.9</td>\n",
       "      <td>9.34</td>\n",
       "      <td>450.0</td>\n",
       "      <td>2400.0</td>\n",
       "      <td>1.0</td>\n",
       "      <td>192.0</td>\n",
       "      <td>1.0</td>\n",
       "    </tr>\n",
       "  </tbody>\n",
       "</table>\n",
       "</div>"
      ],
      "text/plain": [
       "                    customer_unique_id  review_score  payment_installments  \\\n",
       "4717  0ca34b61e26e5432f38297c3d7bd57a5           4.0                   3.0   \n",
       "\n",
       "      payment_sequential  average_price  average_freight_value  \\\n",
       "4717                 1.0           29.9                   9.34   \n",
       "\n",
       "      average_product_weight_g  product_volume_cm3  nb_product_per_order  \\\n",
       "4717                     450.0              2400.0                   1.0   \n",
       "\n",
       "      days_since_last_order  nb_orders_per_customer  \n",
       "4717                  192.0                     1.0  "
      ]
     },
     "execution_count": 10,
     "metadata": {},
     "output_type": "execute_result"
    }
   ],
   "source": [
    "df.sample(1)"
   ]
  },
  {
   "cell_type": "markdown",
   "metadata": {},
   "source": [
    "La colonne `customer_unique_id` est supprimée pour le clustering."
   ]
  },
  {
   "cell_type": "code",
   "execution_count": 11,
   "metadata": {},
   "outputs": [],
   "source": [
    "df = df.drop(columns=\"customer_unique_id\")"
   ]
  },
  {
   "cell_type": "markdown",
   "metadata": {},
   "source": [
    "Les données sont normalisées à 2 chiffres après la virgule."
   ]
  },
  {
   "cell_type": "code",
   "execution_count": 12,
   "metadata": {},
   "outputs": [],
   "source": [
    "df = df.round(2)"
   ]
  },
  {
   "cell_type": "markdown",
   "metadata": {},
   "source": [
    "Et les types des données est vérifié avant le clustering."
   ]
  },
  {
   "cell_type": "code",
   "execution_count": 13,
   "metadata": {},
   "outputs": [
    {
     "data": {
      "text/plain": [
       "review_score                float64\n",
       "payment_installments        float64\n",
       "payment_sequential          float64\n",
       "average_price               float64\n",
       "average_freight_value       float64\n",
       "average_product_weight_g    float64\n",
       "product_volume_cm3          float64\n",
       "nb_product_per_order        float64\n",
       "days_since_last_order       float64\n",
       "nb_orders_per_customer      float64\n",
       "dtype: object"
      ]
     },
     "execution_count": 13,
     "metadata": {},
     "output_type": "execute_result"
    }
   ],
   "source": [
    "df.dtypes"
   ]
  },
  {
   "cell_type": "markdown",
   "metadata": {},
   "source": [
    "## **2. Clustering**\n",
    "***"
   ]
  },
  {
   "cell_type": "markdown",
   "metadata": {},
   "source": [
    "Le clustering est testé dans un premier temps à partir des données minimales d'une segmentation RFM (Récence,Fréquence,Montant) + `review_score`.\n",
    "\n",
    "Cette segmentation n'ayant pas permit une dichotomie des clients suffisamment pertinente, la variable `payment_installments` a été ajouté aux données."
   ]
  },
  {
   "cell_type": "code",
   "execution_count": 14,
   "metadata": {},
   "outputs": [],
   "source": [
    "df_cluster = df[[\"review_score\",\"payment_installments\",\"average_price\",\"days_since_last_order\",\"nb_orders_per_customer\"]]"
   ]
  },
  {
   "cell_type": "markdown",
   "metadata": {},
   "source": [
    "Il est interessant d'observer les associations entre les variables avant le clustering puisque qu'une forte corrélation signifie potentiellement que l'ont apporte une information similaire, ce qui peut être contre-productif pour la segmentation."
   ]
  },
  {
   "cell_type": "code",
   "execution_count": 15,
   "metadata": {},
   "outputs": [
    {
     "data": {
      "image/png": "[encoded data removed]",
      "text/plain": [
       "<Figure size 1200x400 with 2 Axes>"
      ]
     },
     "metadata": {},
     "output_type": "display_data"
    }
   ],
   "source": [
    "# Analysis of correlations between variables\n",
    "plt.figure(figsize=(12,4))\n",
    "sns.heatmap(df_cluster.corr(method=\"spearman\"), center=0.5, cmap=heatmap_color, annot=True, annot_kws={'size': 9})\n",
    "plt.title('Analyse de corrélation entre les indicateurs numériques\\n(r de Spearman)')\n",
    "plt.show()"
   ]
  },
  {
   "cell_type": "markdown",
   "metadata": {},
   "source": [
    "Globalement, les données ne présentent pas d'association à l'exception des variables `average_price` et `payment_installments` (peu significatif).\n",
    "\n",
    "Les données sont centrées et réduites (moyenne=0; Ecart-type=1) afin d'être utilisées pour les différentes méthodes de clustering."
   ]
  },
  {
   "cell_type": "code",
   "execution_count": 16,
   "metadata": {},
   "outputs": [],
   "source": [
    "sc = StandardScaler()\n",
    "X = sc.fit_transform(df_cluster)"
   ]
  },
  {
   "cell_type": "markdown",
   "metadata": {},
   "source": [
    "### **2.1   K-Means**"
   ]
  },
  {
   "cell_type": "markdown",
   "metadata": {},
   "source": [
    "La méthode des KMeans est testé dans un premier temps. \n",
    "\n",
    "Cette méthode consiste a sélectionner aléatoirement k points de données (k=nb de cluster) comme centroïdes et d'attribuer chaque point de données à l'un d'eux. Cela se fait en calculant la distance entre le point de données et chaque centroïde. Puis les positions des centroïdes K sont recalculés. Le nouveau centroïde d'un cluster est calculé en prenant la moyenne de tous les points de données dans le cluster."
   ]
  },
  {
   "cell_type": "markdown",
   "metadata": {},
   "source": [
    "#### **2.1-1   Mesure de Qualité**"
   ]
  },
  {
   "cell_type": "markdown",
   "metadata": {},
   "source": [
    "Les indices de Davies-Bouldin et de Silhouette sont utilisés pour mesurer la qualité des clusters. Ils permettent d'obtenir un indice de qualité qui détermine le nombre de cluster optimal d'un point de vue statistique. Cependant, le choix du nombre de cluster dépend aussi du contexte et des objectifs de l'analyse, qui est ici la segmentation des clients dans le but d'identifier leurs comportements. "
   ]
  },
  {
   "cell_type": "markdown",
   "metadata": {},
   "source": [
    "##### **Indice de Davies-Bouldin**"
   ]
  },
  {
   "cell_type": "markdown",
   "metadata": {},
   "source": [
    "Cet indice compare la moyenne des distances intra-cluster avec les distances entre les centroïdes des clusters (mesurant la séparation des clusters). Un indice de Davies-Bouldin plus faible indique un meilleur clustering, car il signifie que les clusters sont plus compacts et mieux séparés.\n",
    "\n",
    "L'indice de Davin-Bouldin est calculé pour un clusetering allant de 2 à 10 clusters. "
   ]
  },
  {
   "cell_type": "code",
   "execution_count": 17,
   "metadata": {},
   "outputs": [
    {
     "name": "stdout",
     "output_type": "stream",
     "text": [
      "[1.6110071982533045, 1.23163869541353, 1.1919636711000252, 1.0043660630951332, 0.8973376301983434, 1.0183787500665182, 1.1268192955028655, 1.1836261512153825]\n"
     ]
    }
   ],
   "source": [
    "score_bouldin = []\n",
    "\n",
    "for n_clust in range(2,10):\n",
    "    # K-means clustering with K-means++ initialization\n",
    "    km = KMeans(n_clusters=n_clust, n_init=\"auto\", random_state=42)\n",
    "    km.fit(X)\n",
    "    # Retrieve the clusters assigned to each individual\n",
    "    clusters = km.labels_\n",
    "    # Application of the Davies Bouldin measurement\n",
    "    score_bouldin.append(davies_bouldin_score(X, km.labels_))\n",
    "\n",
    "print(score_bouldin)"
   ]
  },
  {
   "cell_type": "markdown",
   "metadata": {},
   "source": [
    "Les résultats montrent qu'un nombre de 6 clusters serait optimal pour la segmentation des clients."
   ]
  },
  {
   "cell_type": "code",
   "execution_count": 18,
   "metadata": {},
   "outputs": [
    {
     "data": {
      "image/png": "[encoded data removed]",
      "text/plain": [
       "<Figure size 1200x300 with 1 Axes>"
      ]
     },
     "metadata": {},
     "output_type": "display_data"
    }
   ],
   "source": [
    "# Cluster analysis\n",
    "plt.figure(figsize=(12,3))\n",
    "plt.plot(range(2,10), score_bouldin)\n",
    "plt.title('KMeans\\nAnalyse de la qualité des partitions/clusters (davies bouldin)')\n",
    "plt.xlabel(\"Nombre de cluster\")\n",
    "plt.ylabel(\"Indice de Davies-Bouldin\")\n",
    "plt.show()"
   ]
  },
  {
   "cell_type": "markdown",
   "metadata": {},
   "source": [
    "##### **Indice de Silhouette**"
   ]
  },
  {
   "cell_type": "markdown",
   "metadata": {},
   "source": [
    "Pour chaque point de données, l'indice de Silhouette est la différence entre la distance moyenne avec les points du même cluster (cohésion) et la distance moyenne avec les points des autres clusters (séparation), divisée par la plus grande des deux distances. Une valeur proche de 1 indique que le point de données est bien assigné à son cluster, tandis qu'une valeur proche de -1 indique qu'il serait mieux assigné à un autre cluster.\n",
    "\n",
    "L'indice de Silhouette est calculé pour un clusetering allant de 2 à 10 clusters également. "
   ]
  },
  {
   "cell_type": "code",
   "execution_count": 19,
   "metadata": {},
   "outputs": [
    {
     "name": "stdout",
     "output_type": "stream",
     "text": [
      "Initialization complete\n",
      "Iteration 0, inertia 602066.8966087155.\n",
      "Iteration 1, inertia 396702.98149935796.\n",
      "Iteration 2, inertia 392837.04463496374.\n",
      "Iteration 3, inertia 391488.96333275427.\n",
      "Iteration 4, inertia 391138.5231546576.\n",
      "Iteration 5, inertia 391032.51756295667.\n",
      "Iteration 6, inertia 391007.4912143452.\n",
      "Iteration 7, inertia 391002.52639080724.\n",
      "Converged at iteration 7: center shift 3.070047689368268e-05 within tolerance 9.999999999999876e-05.\n",
      "silhouette terminé\n",
      "Initialization complete\n",
      "Iteration 0, inertia 523101.0346676531.\n",
      "Iteration 1, inertia 320402.86674736993.\n",
      "Iteration 2, inertia 316654.542842144.\n",
      "Iteration 3, inertia 315354.39581060666.\n",
      "Iteration 4, inertia 315009.2365134312.\n",
      "Iteration 5, inertia 314904.55487638095.\n",
      "Iteration 6, inertia 314879.7666162833.\n",
      "Iteration 7, inertia 314875.9620520891.\n",
      "Converged at iteration 7: center shift 2.603475422277991e-05 within tolerance 9.999999999999876e-05.\n",
      "silhouette terminé\n",
      "Initialization complete\n",
      "Iteration 0, inertia 385532.24404030107.\n",
      "Iteration 1, inertia 266256.09241781547.\n",
      "Iteration 2, inertia 261569.84608742152.\n",
      "Iteration 3, inertia 260456.49445232213.\n",
      "Iteration 4, inertia 260262.62817226487.\n",
      "Iteration 5, inertia 260229.68373544447.\n",
      "Iteration 6, inertia 260221.8552052209.\n",
      "Converged at iteration 6: center shift 5.5302125251810585e-05 within tolerance 9.999999999999876e-05.\n",
      "silhouette terminé\n",
      "Initialization complete\n",
      "Iteration 0, inertia 289301.8325507667.\n",
      "Iteration 1, inertia 219222.5355203467.\n",
      "Iteration 2, inertia 207249.0155629523.\n",
      "Iteration 3, inertia 204400.76529343726.\n",
      "Iteration 4, inertia 204068.0612278706.\n",
      "Iteration 5, inertia 203951.58678707076.\n",
      "Iteration 6, inertia 203910.10690856486.\n",
      "Iteration 7, inertia 203896.64496069873.\n",
      "Iteration 8, inertia 203892.44007317466.\n",
      "Converged at iteration 8: center shift 6.148732461661782e-05 within tolerance 9.999999999999876e-05.\n",
      "silhouette terminé\n",
      "Initialization complete\n",
      "Iteration 0, inertia 258918.08233210974.\n",
      "Iteration 1, inertia 185303.6327831458.\n",
      "Iteration 2, inertia 170998.31803622225.\n",
      "Iteration 3, inertia 167138.25528950113.\n",
      "Iteration 4, inertia 166270.7941049231.\n",
      "Iteration 5, inertia 165955.03413709422.\n",
      "Iteration 6, inertia 165792.54238804145.\n",
      "Iteration 7, inertia 165712.43150836672.\n",
      "Iteration 8, inertia 165686.42288457183.\n",
      "Iteration 9, inertia 165679.61974700808.\n",
      "Iteration 10, inertia 165676.06086663483.\n",
      "Iteration 11, inertia 165672.47715257513.\n",
      "Iteration 12, inertia 165671.74974666815.\n",
      "Converged at iteration 12: center shift 3.208509126047906e-05 within tolerance 9.999999999999876e-05.\n",
      "silhouette terminé\n",
      "Initialization complete\n",
      "Iteration 0, inertia 226996.6361883711.\n",
      "Iteration 1, inertia 167091.43242796636.\n",
      "Iteration 2, inertia 160296.8333887179.\n",
      "Iteration 3, inertia 158016.49222274747.\n",
      "Iteration 4, inertia 156575.4135079208.\n",
      "Iteration 5, inertia 155765.34951169253.\n",
      "Iteration 6, inertia 155303.25786452636.\n",
      "Iteration 7, inertia 155061.68681116207.\n",
      "Iteration 8, inertia 154948.39390543723.\n",
      "Iteration 9, inertia 154901.87932322724.\n",
      "Iteration 10, inertia 154878.81924957637.\n",
      "Iteration 11, inertia 154866.5080421757.\n",
      "Iteration 12, inertia 154858.8229207961.\n",
      "Iteration 13, inertia 154855.35803971367.\n",
      "Converged at iteration 13: center shift 7.95682986996081e-05 within tolerance 9.999999999999876e-05.\n",
      "silhouette terminé\n",
      "Initialization complete\n",
      "Iteration 0, inertia 198543.32412824064.\n",
      "Iteration 1, inertia 158977.65690951393.\n",
      "Iteration 2, inertia 153445.60208688825.\n",
      "Iteration 3, inertia 151171.2563425065.\n",
      "Iteration 4, inertia 149973.14079501946.\n",
      "Iteration 5, inertia 149300.0554880743.\n",
      "Iteration 6, inertia 148934.56590933233.\n",
      "Iteration 7, inertia 148795.03474185852.\n",
      "Iteration 8, inertia 148749.72058791417.\n",
      "Iteration 9, inertia 148730.5444675514.\n",
      "Iteration 10, inertia 148719.487402528.\n",
      "Iteration 11, inertia 148710.1053777705.\n",
      "Iteration 12, inertia 148698.99591087733.\n",
      "Iteration 13, inertia 148684.42724359702.\n",
      "Iteration 14, inertia 148657.291746996.\n",
      "Iteration 15, inertia 148584.92401850843.\n",
      "Iteration 16, inertia 148278.1077840888.\n",
      "Iteration 17, inertia 147429.0554932661.\n",
      "Iteration 18, inertia 147157.49865530062.\n",
      "Iteration 19, inertia 147087.41160849127.\n",
      "Iteration 20, inertia 147072.00610584085.\n",
      "Iteration 21, inertia 147067.52412347237.\n",
      "Iteration 22, inertia 147065.82205130445.\n",
      "Converged at iteration 22: center shift 6.978250573953103e-05 within tolerance 9.999999999999876e-05.\n",
      "silhouette terminé\n",
      "Initialization complete\n",
      "Iteration 0, inertia 183401.9658106863.\n",
      "Iteration 1, inertia 149333.03998225.\n",
      "Iteration 2, inertia 144198.68007722616.\n",
      "Iteration 3, inertia 142061.48760740247.\n",
      "Iteration 4, inertia 140518.55043174766.\n",
      "Iteration 5, inertia 139107.19681862651.\n",
      "Iteration 6, inertia 138032.69136914416.\n",
      "Iteration 7, inertia 137558.35566812276.\n",
      "Iteration 8, inertia 137443.47070471453.\n",
      "Iteration 9, inertia 137392.4607833766.\n",
      "Iteration 10, inertia 137369.3292511862.\n",
      "Iteration 11, inertia 137358.0539269025.\n",
      "Iteration 12, inertia 137351.1554740829.\n",
      "Iteration 13, inertia 137347.00327256406.\n",
      "Iteration 14, inertia 137344.39103498452.\n",
      "Converged at iteration 14: center shift 9.097459826359636e-05 within tolerance 9.999999999999876e-05.\n",
      "silhouette terminé\n",
      "[0.36260741938680047, 0.38554753659506885, 0.2734989393551901, 0.3304897767774712, 0.3466712873179136, 0.27037386188643986, 0.3162079457031349, 0.27006799379400476]\n"
     ]
    }
   ],
   "source": [
    "score_silhouette = []\n",
    "\n",
    "for n_clust in range(2,10):\n",
    " # Clustering par K-means avec initialisation K-means++\n",
    " km = KMeans(n_clusters=n_clust, init='k-means++', n_init='auto', random_state=42, verbose=1)\n",
    " km.fit(X)\n",
    " # Récupération des clusters attribués à chaque individu\n",
    " clusters = km.labels_\n",
    " # Application de la mesure Silhouette\n",
    " score_silhouette.append(silhouette_score(X, km.labels_))\n",
    " print(\"silhouette terminé\")\n",
    "\n",
    "print(score_silhouette)"
   ]
  },
  {
   "cell_type": "markdown",
   "metadata": {},
   "source": [
    "Les résultats montrent qu'un nombre de 7 ou 4 clusters serait optimal pour la segmentation des clients."
   ]
  },
  {
   "cell_type": "code",
   "execution_count": 20,
   "metadata": {},
   "outputs": [
    {
     "data": {
      "image/png": "[encoded data removed]",
      "text/plain": [
       "<Figure size 1200x300 with 1 Axes>"
      ]
     },
     "metadata": {},
     "output_type": "display_data"
    }
   ],
   "source": [
    "#Analyse des regroupements de clusters\n",
    "plt.figure(figsize=(12,3))\n",
    "plt.plot(range(2,10), score_silhouette)\n",
    "plt.title('KMeans\\nAnalyse de la qualité des partitions/clusters (silhouette)')\n",
    "plt.xlabel(\"Nombre de cluster\")\n",
    "plt.ylabel(\"Indice de Silhouette\")\n",
    "plt.show()"
   ]
  },
  {
   "cell_type": "markdown",
   "metadata": {},
   "source": [
    "#### **2.1-2   Clustering**"
   ]
  },
  {
   "cell_type": "markdown",
   "metadata": {},
   "source": [
    "Après plusieurs essais, il s'avère qu'une segmentation en 5 clusters soit la plus adaptée aux données. Le modèle KMeans est donc instancié avec ces paramètres puis appliqué aux données. "
   ]
  },
  {
   "cell_type": "code",
   "execution_count": 21,
   "metadata": {},
   "outputs": [
    {
     "data": {
      "text/html": [
       "<style>#sk-container-id-1 {color: black;background-color: white;}#sk-container-id-1 pre{padding: 0;}#sk-container-id-1 div.sk-toggleable {background-color: white;}#sk-container-id-1 label.sk-toggleable__label {cursor: pointer;display: block;width: 100%;margin-bottom: 0;padding: 0.3em;box-sizing: border-box;text-align: center;}#sk-container-id-1 label.sk-toggleable__label-arrow:before {content: \"▸\";float: left;margin-right: 0.25em;color: #696969;}#sk-container-id-1 label.sk-toggleable__label-arrow:hover:before {color: black;}#sk-container-id-1 div.sk-estimator:hover label.sk-toggleable__label-arrow:before {color: black;}#sk-container-id-1 div.sk-toggleable__content {max-height: 0;max-width: 0;overflow: hidden;text-align: left;background-color: #f0f8ff;}#sk-container-id-1 div.sk-toggleable__content pre {margin: 0.2em;color: black;border-radius: 0.25em;background-color: #f0f8ff;}#sk-container-id-1 input.sk-toggleable__control:checked~div.sk-toggleable__content {max-height: 200px;max-width: 100%;overflow: auto;}#sk-container-id-1 input.sk-toggleable__control:checked~label.sk-toggleable__label-arrow:before {content: \"▾\";}#sk-container-id-1 div.sk-estimator input.sk-toggleable__control:checked~label.sk-toggleable__label {background-color: #d4ebff;}#sk-container-id-1 div.sk-label input.sk-toggleable__control:checked~label.sk-toggleable__label {background-color: #d4ebff;}#sk-container-id-1 input.sk-hidden--visually {border: 0;clip: rect(1px 1px 1px 1px);clip: rect(1px, 1px, 1px, 1px);height: 1px;margin: -1px;overflow: hidden;padding: 0;position: absolute;width: 1px;}#sk-container-id-1 div.sk-estimator {font-family: monospace;background-color: #f0f8ff;border: 1px dotted black;border-radius: 0.25em;box-sizing: border-box;margin-bottom: 0.5em;}#sk-container-id-1 div.sk-estimator:hover {background-color: #d4ebff;}#sk-container-id-1 div.sk-parallel-item::after {content: \"\";width: 100%;border-bottom: 1px solid gray;flex-grow: 1;}#sk-container-id-1 div.sk-label:hover label.sk-toggleable__label {background-color: #d4ebff;}#sk-container-id-1 div.sk-serial::before {content: \"\";position: absolute;border-left: 1px solid gray;box-sizing: border-box;top: 0;bottom: 0;left: 50%;z-index: 0;}#sk-container-id-1 div.sk-serial {display: flex;flex-direction: column;align-items: center;background-color: white;padding-right: 0.2em;padding-left: 0.2em;position: relative;}#sk-container-id-1 div.sk-item {position: relative;z-index: 1;}#sk-container-id-1 div.sk-parallel {display: flex;align-items: stretch;justify-content: center;background-color: white;position: relative;}#sk-container-id-1 div.sk-item::before, #sk-container-id-1 div.sk-parallel-item::before {content: \"\";position: absolute;border-left: 1px solid gray;box-sizing: border-box;top: 0;bottom: 0;left: 50%;z-index: -1;}#sk-container-id-1 div.sk-parallel-item {display: flex;flex-direction: column;z-index: 1;position: relative;background-color: white;}#sk-container-id-1 div.sk-parallel-item:first-child::after {align-self: flex-end;width: 50%;}#sk-container-id-1 div.sk-parallel-item:last-child::after {align-self: flex-start;width: 50%;}#sk-container-id-1 div.sk-parallel-item:only-child::after {width: 0;}#sk-container-id-1 div.sk-dashed-wrapped {border: 1px dashed gray;margin: 0 0.4em 0.5em 0.4em;box-sizing: border-box;padding-bottom: 0.4em;background-color: white;}#sk-container-id-1 div.sk-label label {font-family: monospace;font-weight: bold;display: inline-block;line-height: 1.2em;}#sk-container-id-1 div.sk-label-container {text-align: center;}#sk-container-id-1 div.sk-container {/* jupyter's `normalize.less` sets `[hidden] { display: none; }` but bootstrap.min.css set `[hidden] { display: none !important; }` so we also need the `!important` here to be able to override the default hidden behavior on the sphinx rendered scikit-learn.org. See: https://github.com/scikit-learn/scikit-learn/issues/21755 */display: inline-block !important;position: relative;}#sk-container-id-1 div.sk-text-repr-fallback {display: none;}</style><div id=\"sk-container-id-1\" class=\"sk-top-container\"><div class=\"sk-text-repr-fallback\"><pre>KMeans(n_clusters=5, n_init=&#x27;auto&#x27;, random_state=42)</pre><b>In a Jupyter environment, please rerun this cell to show the HTML representation or trust the notebook. <br />On GitHub, the HTML representation is unable to render, please try loading this page with nbviewer.org.</b></div><div class=\"sk-container\" hidden><div class=\"sk-item\"><div class=\"sk-estimator sk-toggleable\"><input class=\"sk-toggleable__control sk-hidden--visually\" id=\"sk-estimator-id-1\" type=\"checkbox\" checked><label for=\"sk-estimator-id-1\" class=\"sk-toggleable__label sk-toggleable__label-arrow\">KMeans</label><div class=\"sk-toggleable__content\"><pre>KMeans(n_clusters=5, n_init=&#x27;auto&#x27;, random_state=42)</pre></div></div></div></div></div>"
      ],
      "text/plain": [
       "KMeans(n_clusters=5, n_init='auto', random_state=42)"
      ]
     },
     "execution_count": 21,
     "metadata": {},
     "output_type": "execute_result"
    }
   ],
   "source": [
    "n_clust = 5\n",
    "km = KMeans(n_clusters=n_clust, n_init=\"auto\", random_state=42)\n",
    "km.fit(X)"
   ]
  },
  {
   "cell_type": "markdown",
   "metadata": {},
   "source": [
    "Les résultats de labelisation de chacun des points de données est ensuite enregistré dans la variable `clusters`."
   ]
  },
  {
   "cell_type": "code",
   "execution_count": 22,
   "metadata": {},
   "outputs": [],
   "source": [
    "clusters = km.labels_"
   ]
  },
  {
   "cell_type": "markdown",
   "metadata": {},
   "source": [
    "La matrice des résultats du clustering est transformée en dataframe et les résultats de labelisation sont ajoutés à la colonne `clusters`."
   ]
  },
  {
   "cell_type": "code",
   "execution_count": 23,
   "metadata": {},
   "outputs": [],
   "source": [
    "df_kmean = pd.DataFrame(X, columns=df_cluster.columns)\n",
    "df_kmean['clusters'] = clusters"
   ]
  },
  {
   "cell_type": "markdown",
   "metadata": {},
   "source": [
    "#### **2.1-3   Analyse des clusters**"
   ]
  },
  {
   "cell_type": "markdown",
   "metadata": {},
   "source": [
    "##### **Analyse des centroïdes**"
   ]
  },
  {
   "cell_type": "markdown",
   "metadata": {},
   "source": [
    "Les centroïdes de chaque clusters sont obtenus en calculant la moyenne de chaque caractéristiques, le but étant d'analyser le comportements global des clients pour chacun des clusters."
   ]
  },
  {
   "cell_type": "code",
   "execution_count": 182,
   "metadata": {},
   "outputs": [],
   "source": [
    "centroide_kmean = df_kmean.groupby(by='clusters').mean()"
   ]
  },
  {
   "cell_type": "code",
   "execution_count": 183,
   "metadata": {},
   "outputs": [],
   "source": [
    "centroide_kmean.reset_index(inplace=True)"
   ]
  },
  {
   "cell_type": "markdown",
   "metadata": {},
   "source": [
    "Observation des valeurs moyennes par cluster pour chacun des indicateurs."
   ]
  },
  {
   "cell_type": "code",
   "execution_count": 184,
   "metadata": {},
   "outputs": [
    {
     "data": {
      "image/png": "[encoded data removed]",
      "text/plain": [
       "<Figure size 1400x300 with 2 Axes>"
      ]
     },
     "metadata": {},
     "output_type": "display_data"
    }
   ],
   "source": [
    "plt.figure(figsize=(14,3))\n",
    "sns.heatmap(centroide_kmean.set_index(\"clusters\"), center=1.5, cmap=heatmap_color, annot=True, annot_kws={'size': 9})\n",
    "plt.title('KMeans\\nSegmentation des clients\\nAnalyse des clusters selon les indicateurs (moyenne)')\n",
    "plt.ylabel('Clusters')\n",
    "plt.show()"
   ]
  },
  {
   "cell_type": "markdown",
   "metadata": {},
   "source": [
    "L'analyse des centroïdes permet de se faire une première interprétation des caractéristiques communes aux clients pour chacun des clusters:\n",
    "\n",
    "* **0** -> Regroupe les clients qui dépensent le plus et qui paient en plusieurs fois;\n",
    "* **1** -> Correspond aux clients les plus anciens; (plus le chiffre est bas, plus le client est récent)\n",
    "* **2** -> Contient les clients ayant effectués plusieurs commandes;\n",
    "* **3** -> Correspond aux clients les plus récents; (plus le chiffre est bas, plus le client est récent)\n",
    "* **4** -> Regroupe les clients mécontents.\n",
    "\n",
    "Les clusters sont ainsi renommés pour la suite des analyses."
   ]
  },
  {
   "cell_type": "code",
   "execution_count": 185,
   "metadata": {},
   "outputs": [],
   "source": [
    "centroide_kmean[\"clusters\"].replace({0:\"Clients dépensiers\",\n",
    "                                     1:\"Clients de longue date\",\n",
    "                                     2:\"Clients récurrents\",\n",
    "                                     3:\"Clients récents\",\n",
    "                                     4:\"Clients mécontent\"}, inplace=True)"
   ]
  },
  {
   "cell_type": "markdown",
   "metadata": {},
   "source": [
    "Observation des résultats afin d'expliquer le clustering au travers une représentation de type radarplot."
   ]
  },
  {
   "cell_type": "code",
   "execution_count": 190,
   "metadata": {},
   "outputs": [
    {
     "data": {
      "application/vnd.plotly.v1+json": {
       "config": {
        "plotlyServerURL": "https://plot.ly"
       },
       "data": [
        {
         "fill": "toself",
         "hovertemplate": "Moy_Cluster: %{r}",
         "marker": {
          "color": "#0B28D0"
         },
         "name": "Clients dépensiers",
         "r": [
          0.16479195807829095,
          2.00580877145443,
          1.2709009217838336,
          0.04455676597540486,
          -0.15819759770125277
         ],
         "theta": [
          "review_score",
          "payment_installments",
          "average_price",
          "days_since_last_order",
          "nb_orders_per_customer"
         ],
         "type": "scatterpolar"
        },
        {
         "fill": "toself",
         "hovertemplate": "Moy_Cluster: %{r}",
         "marker": {
          "color": "#A2A2D5"
         },
         "name": "Clients de longue date",
         "r": [
          0.3969028205536514,
          -0.27986347599627265,
          -0.1872978349619891,
          1.0179569148869954,
          -0.16028279244097143
         ],
         "theta": [
          "review_score",
          "payment_installments",
          "average_price",
          "days_since_last_order",
          "nb_orders_per_customer"
         ],
         "type": "scatterpolar"
        },
        {
         "fill": "toself",
         "hovertemplate": "Moy_Cluster: %{r}",
         "marker": {
          "color": "#FFF"
         },
         "name": "Clients récurrents",
         "r": [
          0.040361243915091445,
          0.14445478627363706,
          -0.11465455591987156,
          0.16766873342068514,
          5.131670469017269
         ],
         "theta": [
          "review_score",
          "payment_installments",
          "average_price",
          "days_since_last_order",
          "nb_orders_per_customer"
         ],
         "type": "scatterpolar"
        },
        {
         "fill": "toself",
         "hovertemplate": "Moy_Cluster: %{r}",
         "marker": {
          "color": "#333"
         },
         "name": "Clients récents",
         "r": [
          0.4267474506884529,
          -0.367214911209465,
          -0.18527083296448146,
          -0.7661851360481928,
          -0.16028279244097143
         ],
         "theta": [
          "review_score",
          "payment_installments",
          "average_price",
          "days_since_last_order",
          "nb_orders_per_customer"
         ],
         "type": "scatterpolar"
        },
        {
         "fill": "toself",
         "hovertemplate": "Moy_Cluster: %{r}",
         "marker": {
          "color": "#EDAD01"
         },
         "name": "Clients mécontent",
         "r": [
          -1.9065857940718436,
          -0.11220124248854119,
          -0.13166375440926445,
          -0.00922256700215173,
          -0.16028279244097143
         ],
         "theta": [
          "review_score",
          "payment_installments",
          "average_price",
          "days_since_last_order",
          "nb_orders_per_customer"
         ],
         "type": "scatterpolar"
        }
       ],
       "layout": {
        "height": 700,
        "polar": {
         "angularaxis": {
          "tickfont": {
           "color": "#333",
           "size": 14
          }
         },
         "bgcolor": "rgba(11, 40, 208, 0.3)",
         "radialaxis": {
          "range": [
           -0.5,
           2.1
          ],
          "visible": true
         }
        },
        "showlegend": true,
        "template": {
         "data": {
          "bar": [
           {
            "error_x": {
             "color": "#2a3f5f"
            },
            "error_y": {
             "color": "#2a3f5f"
            },
            "marker": {
             "line": {
              "color": "#E5ECF6",
              "width": 0.5
             },
             "pattern": {
              "fillmode": "overlay",
              "size": 10,
              "solidity": 0.2
             }
            },
            "type": "bar"
           }
          ],
          "barpolar": [
           {
            "marker": {
             "line": {
              "color": "#E5ECF6",
              "width": 0.5
             },
             "pattern": {
              "fillmode": "overlay",
              "size": 10,
              "solidity": 0.2
             }
            },
            "type": "barpolar"
           }
          ],
          "carpet": [
           {
            "aaxis": {
             "endlinecolor": "#2a3f5f",
             "gridcolor": "white",
             "linecolor": "white",
             "minorgridcolor": "white",
             "startlinecolor": "#2a3f5f"
            },
            "baxis": {
             "endlinecolor": "#2a3f5f",
             "gridcolor": "white",
             "linecolor": "white",
             "minorgridcolor": "white",
             "startlinecolor": "#2a3f5f"
            },
            "type": "carpet"
           }
          ],
          "choropleth": [
           {
            "colorbar": {
             "outlinewidth": 0,
             "ticks": ""
            },
            "type": "choropleth"
           }
          ],
          "contour": [
           {
            "colorbar": {
             "outlinewidth": 0,
             "ticks": ""
            },
            "colorscale": [
             [
              0,
              "#0d0887"
             ],
             [
              0.1111111111111111,
              "#46039f"
             ],
             [
              0.2222222222222222,
              "#7201a8"
             ],
             [
              0.3333333333333333,
              "#9c179e"
             ],
             [
              0.4444444444444444,
              "#bd3786"
             ],
             [
              0.5555555555555556,
              "#d8576b"
             ],
             [
              0.6666666666666666,
              "#ed7953"
             ],
             [
              0.7777777777777778,
              "#fb9f3a"
             ],
             [
              0.8888888888888888,
              "#fdca26"
             ],
             [
              1,
              "#f0f921"
             ]
            ],
            "type": "contour"
           }
          ],
          "contourcarpet": [
           {
            "colorbar": {
             "outlinewidth": 0,
             "ticks": ""
            },
            "type": "contourcarpet"
           }
          ],
          "heatmap": [
           {
            "colorbar": {
             "outlinewidth": 0,
             "ticks": ""
            },
            "colorscale": [
             [
              0,
              "#0d0887"
             ],
             [
              0.1111111111111111,
              "#46039f"
             ],
             [
              0.2222222222222222,
              "#7201a8"
             ],
             [
              0.3333333333333333,
              "#9c179e"
             ],
             [
              0.4444444444444444,
              "#bd3786"
             ],
             [
              0.5555555555555556,
              "#d8576b"
             ],
             [
              0.6666666666666666,
              "#ed7953"
             ],
             [
              0.7777777777777778,
              "#fb9f3a"
             ],
             [
              0.8888888888888888,
              "#fdca26"
             ],
             [
              1,
              "#f0f921"
             ]
            ],
            "type": "heatmap"
           }
          ],
          "heatmapgl": [
           {
            "colorbar": {
             "outlinewidth": 0,
             "ticks": ""
            },
            "colorscale": [
             [
              0,
              "#0d0887"
             ],
             [
              0.1111111111111111,
              "#46039f"
             ],
             [
              0.2222222222222222,
              "#7201a8"
             ],
             [
              0.3333333333333333,
              "#9c179e"
             ],
             [
              0.4444444444444444,
              "#bd3786"
             ],
             [
              0.5555555555555556,
              "#d8576b"
             ],
             [
              0.6666666666666666,
              "#ed7953"
             ],
             [
              0.7777777777777778,
              "#fb9f3a"
             ],
             [
              0.8888888888888888,
              "#fdca26"
             ],
             [
              1,
              "#f0f921"
             ]
            ],
            "type": "heatmapgl"
           }
          ],
          "histogram": [
           {
            "marker": {
             "pattern": {
              "fillmode": "overlay",
              "size": 10,
              "solidity": 0.2
             }
            },
            "type": "histogram"
           }
          ],
          "histogram2d": [
           {
            "colorbar": {
             "outlinewidth": 0,
             "ticks": ""
            },
            "colorscale": [
             [
              0,
              "#0d0887"
             ],
             [
              0.1111111111111111,
              "#46039f"
             ],
             [
              0.2222222222222222,
              "#7201a8"
             ],
             [
              0.3333333333333333,
              "#9c179e"
             ],
             [
              0.4444444444444444,
              "#bd3786"
             ],
             [
              0.5555555555555556,
              "#d8576b"
             ],
             [
              0.6666666666666666,
              "#ed7953"
             ],
             [
              0.7777777777777778,
              "#fb9f3a"
             ],
             [
              0.8888888888888888,
              "#fdca26"
             ],
             [
              1,
              "#f0f921"
             ]
            ],
            "type": "histogram2d"
           }
          ],
          "histogram2dcontour": [
           {
            "colorbar": {
             "outlinewidth": 0,
             "ticks": ""
            },
            "colorscale": [
             [
              0,
              "#0d0887"
             ],
             [
              0.1111111111111111,
              "#46039f"
             ],
             [
              0.2222222222222222,
              "#7201a8"
             ],
             [
              0.3333333333333333,
              "#9c179e"
             ],
             [
              0.4444444444444444,
              "#bd3786"
             ],
             [
              0.5555555555555556,
              "#d8576b"
             ],
             [
              0.6666666666666666,
              "#ed7953"
             ],
             [
              0.7777777777777778,
              "#fb9f3a"
             ],
             [
              0.8888888888888888,
              "#fdca26"
             ],
             [
              1,
              "#f0f921"
             ]
            ],
            "type": "histogram2dcontour"
           }
          ],
          "mesh3d": [
           {
            "colorbar": {
             "outlinewidth": 0,
             "ticks": ""
            },
            "type": "mesh3d"
           }
          ],
          "parcoords": [
           {
            "line": {
             "colorbar": {
              "outlinewidth": 0,
              "ticks": ""
             }
            },
            "type": "parcoords"
           }
          ],
          "pie": [
           {
            "automargin": true,
            "type": "pie"
           }
          ],
          "scatter": [
           {
            "fillpattern": {
             "fillmode": "overlay",
             "size": 10,
             "solidity": 0.2
            },
            "type": "scatter"
           }
          ],
          "scatter3d": [
           {
            "line": {
             "colorbar": {
              "outlinewidth": 0,
              "ticks": ""
             }
            },
            "marker": {
             "colorbar": {
              "outlinewidth": 0,
              "ticks": ""
             }
            },
            "type": "scatter3d"
           }
          ],
          "scattercarpet": [
           {
            "marker": {
             "colorbar": {
              "outlinewidth": 0,
              "ticks": ""
             }
            },
            "type": "scattercarpet"
           }
          ],
          "scattergeo": [
           {
            "marker": {
             "colorbar": {
              "outlinewidth": 0,
              "ticks": ""
             }
            },
            "type": "scattergeo"
           }
          ],
          "scattergl": [
           {
            "marker": {
             "colorbar": {
              "outlinewidth": 0,
              "ticks": ""
             }
            },
            "type": "scattergl"
           }
          ],
          "scattermapbox": [
           {
            "marker": {
             "colorbar": {
              "outlinewidth": 0,
              "ticks": ""
             }
            },
            "type": "scattermapbox"
           }
          ],
          "scatterpolar": [
           {
            "marker": {
             "colorbar": {
              "outlinewidth": 0,
              "ticks": ""
             }
            },
            "type": "scatterpolar"
           }
          ],
          "scatterpolargl": [
           {
            "marker": {
             "colorbar": {
              "outlinewidth": 0,
              "ticks": ""
             }
            },
            "type": "scatterpolargl"
           }
          ],
          "scatterternary": [
           {
            "marker": {
             "colorbar": {
              "outlinewidth": 0,
              "ticks": ""
             }
            },
            "type": "scatterternary"
           }
          ],
          "surface": [
           {
            "colorbar": {
             "outlinewidth": 0,
             "ticks": ""
            },
            "colorscale": [
             [
              0,
              "#0d0887"
             ],
             [
              0.1111111111111111,
              "#46039f"
             ],
             [
              0.2222222222222222,
              "#7201a8"
             ],
             [
              0.3333333333333333,
              "#9c179e"
             ],
             [
              0.4444444444444444,
              "#bd3786"
             ],
             [
              0.5555555555555556,
              "#d8576b"
             ],
             [
              0.6666666666666666,
              "#ed7953"
             ],
             [
              0.7777777777777778,
              "#fb9f3a"
             ],
             [
              0.8888888888888888,
              "#fdca26"
             ],
             [
              1,
              "#f0f921"
             ]
            ],
            "type": "surface"
           }
          ],
          "table": [
           {
            "cells": {
             "fill": {
              "color": "#EBF0F8"
             },
             "line": {
              "color": "white"
             }
            },
            "header": {
             "fill": {
              "color": "#C8D4E3"
             },
             "line": {
              "color": "white"
             }
            },
            "type": "table"
           }
          ]
         },
         "layout": {
          "annotationdefaults": {
           "arrowcolor": "#2a3f5f",
           "arrowhead": 0,
           "arrowwidth": 1
          },
          "autotypenumbers": "strict",
          "coloraxis": {
           "colorbar": {
            "outlinewidth": 0,
            "ticks": ""
           }
          },
          "colorscale": {
           "diverging": [
            [
             0,
             "#8e0152"
            ],
            [
             0.1,
             "#c51b7d"
            ],
            [
             0.2,
             "#de77ae"
            ],
            [
             0.3,
             "#f1b6da"
            ],
            [
             0.4,
             "#fde0ef"
            ],
            [
             0.5,
             "#f7f7f7"
            ],
            [
             0.6,
             "#e6f5d0"
            ],
            [
             0.7,
             "#b8e186"
            ],
            [
             0.8,
             "#7fbc41"
            ],
            [
             0.9,
             "#4d9221"
            ],
            [
             1,
             "#276419"
            ]
           ],
           "sequential": [
            [
             0,
             "#0d0887"
            ],
            [
             0.1111111111111111,
             "#46039f"
            ],
            [
             0.2222222222222222,
             "#7201a8"
            ],
            [
             0.3333333333333333,
             "#9c179e"
            ],
            [
             0.4444444444444444,
             "#bd3786"
            ],
            [
             0.5555555555555556,
             "#d8576b"
            ],
            [
             0.6666666666666666,
             "#ed7953"
            ],
            [
             0.7777777777777778,
             "#fb9f3a"
            ],
            [
             0.8888888888888888,
             "#fdca26"
            ],
            [
             1,
             "#f0f921"
            ]
           ],
           "sequentialminus": [
            [
             0,
             "#0d0887"
            ],
            [
             0.1111111111111111,
             "#46039f"
            ],
            [
             0.2222222222222222,
             "#7201a8"
            ],
            [
             0.3333333333333333,
             "#9c179e"
            ],
            [
             0.4444444444444444,
             "#bd3786"
            ],
            [
             0.5555555555555556,
             "#d8576b"
            ],
            [
             0.6666666666666666,
             "#ed7953"
            ],
            [
             0.7777777777777778,
             "#fb9f3a"
            ],
            [
             0.8888888888888888,
             "#fdca26"
            ],
            [
             1,
             "#f0f921"
            ]
           ]
          },
          "colorway": [
           "#636efa",
           "#EF553B",
           "#00cc96",
           "#ab63fa",
           "#FFA15A",
           "#19d3f3",
           "#FF6692",
           "#B6E880",
           "#FF97FF",
           "#FECB52"
          ],
          "font": {
           "color": "#2a3f5f"
          },
          "geo": {
           "bgcolor": "white",
           "lakecolor": "white",
           "landcolor": "#E5ECF6",
           "showlakes": true,
           "showland": true,
           "subunitcolor": "white"
          },
          "hoverlabel": {
           "align": "left"
          },
          "hovermode": "closest",
          "mapbox": {
           "style": "light"
          },
          "paper_bgcolor": "white",
          "plot_bgcolor": "#E5ECF6",
          "polar": {
           "angularaxis": {
            "gridcolor": "white",
            "linecolor": "white",
            "ticks": ""
           },
           "bgcolor": "#E5ECF6",
           "radialaxis": {
            "gridcolor": "white",
            "linecolor": "white",
            "ticks": ""
           }
          },
          "scene": {
           "xaxis": {
            "backgroundcolor": "#E5ECF6",
            "gridcolor": "white",
            "gridwidth": 2,
            "linecolor": "white",
            "showbackground": true,
            "ticks": "",
            "zerolinecolor": "white"
           },
           "yaxis": {
            "backgroundcolor": "#E5ECF6",
            "gridcolor": "white",
            "gridwidth": 2,
            "linecolor": "white",
            "showbackground": true,
            "ticks": "",
            "zerolinecolor": "white"
           },
           "zaxis": {
            "backgroundcolor": "#E5ECF6",
            "gridcolor": "white",
            "gridwidth": 2,
            "linecolor": "white",
            "showbackground": true,
            "ticks": "",
            "zerolinecolor": "white"
           }
          },
          "shapedefaults": {
           "line": {
            "color": "#2a3f5f"
           }
          },
          "ternary": {
           "aaxis": {
            "gridcolor": "white",
            "linecolor": "white",
            "ticks": ""
           },
           "baxis": {
            "gridcolor": "white",
            "linecolor": "white",
            "ticks": ""
           },
           "bgcolor": "#E5ECF6",
           "caxis": {
            "gridcolor": "white",
            "linecolor": "white",
            "ticks": ""
           }
          },
          "title": {
           "x": 0.05
          },
          "xaxis": {
           "automargin": true,
           "gridcolor": "white",
           "linecolor": "white",
           "ticks": "",
           "title": {
            "standoff": 15
           },
           "zerolinecolor": "white",
           "zerolinewidth": 2
          },
          "yaxis": {
           "automargin": true,
           "gridcolor": "white",
           "linecolor": "white",
           "ticks": "",
           "title": {
            "standoff": 15
           },
           "zerolinecolor": "white",
           "zerolinewidth": 2
          }
         }
        },
        "title": {
         "font": {
          "color": "#000",
          "size": 22
         },
         "text": "Moyenne des caractéristiques par cluster",
         "x": 0.5,
         "y": 0.95
        },
        "width": 900
       }
      }
     },
     "metadata": {},
     "output_type": "display_data"
    }
   ],
   "source": [
    "categories = centroide_kmean.drop(columns=\"clusters\").columns.tolist()\n",
    "max_value = centroide_kmean.select_dtypes(float).values.max()\n",
    "colors = [\"#0B28D0\",\"#A2A2D5\",\"#FFF\",\"#333\",\"#EDAD01\"]\n",
    "\n",
    "fig = go.Figure()\n",
    "\n",
    "fig.add_trace(go.Scatterpolar(\n",
    "      r=centroide_kmean.iloc[0,1:].tolist(),\n",
    "      theta=categories,\n",
    "      fill='toself',\n",
    "      hovertemplate='Moy_Cluster: %{r}',\n",
    "      name=centroide_kmean[\"clusters\"][0],\n",
    "      marker=dict(color=colors[0])\n",
    "))\n",
    "fig.add_trace(go.Scatterpolar(\n",
    "      r=centroide_kmean.iloc[1,1:].tolist(),\n",
    "      theta=categories,\n",
    "      fill='toself',\n",
    "      hovertemplate='Moy_Cluster: %{r}',\n",
    "      name=centroide_kmean[\"clusters\"][1],\n",
    "      marker=dict(color=colors[1])\n",
    "))\n",
    "fig.add_trace(go.Scatterpolar(\n",
    "      r=centroide_kmean.iloc[2,1:].tolist(),\n",
    "      theta=categories,\n",
    "      fill='toself',\n",
    "      hovertemplate='Moy_Cluster: %{r}',\n",
    "      name=centroide_kmean[\"clusters\"][2],\n",
    "      marker=dict(color=colors[2])\n",
    "))\n",
    "fig.add_trace(go.Scatterpolar(\n",
    "      r=centroide_kmean.iloc[3,1:].tolist(),\n",
    "      theta=categories,\n",
    "      fill='toself',\n",
    "      hovertemplate='Moy_Cluster: %{r}',\n",
    "      name=centroide_kmean[\"clusters\"][3],\n",
    "      marker=dict(color=colors[3])\n",
    "))\n",
    "fig.add_trace(go.Scatterpolar(\n",
    "      r=centroide_kmean.iloc[4,1:].tolist(),\n",
    "      theta=categories,\n",
    "      fill='toself',\n",
    "      hovertemplate='Moy_Cluster: %{r}',\n",
    "      name=centroide_kmean[\"clusters\"][4],\n",
    "      marker=dict(color=colors[4])\n",
    "))\n",
    "\n",
    "fig.update_layout(\n",
    "    polar=dict(radialaxis=dict(range=[-0.5, 2.1],visible=True),angularaxis=dict(tickfont=dict(size=14, color='#333')), bgcolor='rgba(11, 40, 208, 0.3)'),\n",
    "    showlegend=True,\n",
    "    title=dict(text=\"Moyenne des caractéristiques par cluster\",x=0.5,y=0.95),\n",
    "    title_font=dict(size=22, color='#000'),\n",
    "    width=900,  # Width of the figure in pixels\n",
    "    height=700,  # Height of the figure in pixels\n",
    ")\n",
    "\n",
    "fig.show()"
   ]
  },
  {
   "cell_type": "markdown",
   "metadata": {},
   "source": [
    "##### **Analyse de distribution par cluster**"
   ]
  },
  {
   "cell_type": "markdown",
   "metadata": {},
   "source": [
    "La distribution des individus par cluster est également observée pour chaque caractéristique."
   ]
  },
  {
   "cell_type": "code",
   "execution_count": 191,
   "metadata": {},
   "outputs": [
    {
     "data": {
      "image/png": "[encoded data removed]",
      "text/plain": [
       "<Figure size 1800x400 with 5 Axes>"
      ]
     },
     "metadata": {},
     "output_type": "display_data"
    }
   ],
   "source": [
    "fig, axs = plt.subplots(1, 5, figsize=(18, 4))\n",
    "plt.suptitle(\"KMeans\\nSegmentation des clients\\nAnalyse de distribution des clusters par indicateur\", color=\"#000\")\n",
    "\n",
    "for ax, column in zip(axs.flatten(), df_kmean.drop(columns=\"clusters\").columns):\n",
    "    sns.boxplot(x='clusters', y=column, data=df_kmean, ax=ax, palette=palette_map)\n",
    "\n",
    "plt.tight_layout()\n",
    "plt.show()"
   ]
  },
  {
   "cell_type": "markdown",
   "metadata": {},
   "source": [
    "L'analyse des distributions montre une bonne segmentation des clients et confirme la première interprétation. Ainsi, chaque cluster peut être définit comme suit:\n",
    "\n",
    "* **0** -> Clients les plus dépensiers et qui paient en plusieurs fois;\n",
    "* **1** -> Client les plus anciens; (plus le chiffre est bas, plus le client est récent)\n",
    "* **2** -> Clients ayant effectués plusieurs commandes;\n",
    "* **3** -> Client les plus récents; (plus le chiffre est bas, plus le client est récent)\n",
    "* **4** -> Client mécontents."
   ]
  },
  {
   "cell_type": "markdown",
   "metadata": {},
   "source": [
    "##### **Analyse de la répartition des individus par cluster**"
   ]
  },
  {
   "cell_type": "code",
   "execution_count": 193,
   "metadata": {},
   "outputs": [],
   "source": [
    "nb_indiv_cluster = df_kmean[\"clusters\"].value_counts().reset_index()"
   ]
  },
  {
   "cell_type": "markdown",
   "metadata": {},
   "source": [
    "Les cluster sont renommés afin de les identifiés."
   ]
  },
  {
   "cell_type": "code",
   "execution_count": 194,
   "metadata": {},
   "outputs": [],
   "source": [
    "nb_indiv_cluster[\"clusters\"].replace({0:\"Clients dépensiers\",\n",
    "                                      1:\"Clients de longue date\",\n",
    "                                      2:\"Clients récurrents\",\n",
    "                                      3:\"Clients récents\",\n",
    "                                      4:\"Clients mécontent\"}, inplace=True)"
   ]
  },
  {
   "cell_type": "markdown",
   "metadata": {},
   "source": [
    "Puis le nombre d'individus est représenté via un radarplot."
   ]
  },
  {
   "cell_type": "code",
   "execution_count": 195,
   "metadata": {},
   "outputs": [
    {
     "data": {
      "application/vnd.plotly.v1+json": {
       "config": {
        "plotlyServerURL": "https://plot.ly"
       },
       "data": [
        {
         "fill": "toself",
         "fillcolor": "rgba(237, 173, 1, 0.6)",
         "hovertemplate": "Nombre d'individus: %{r}",
         "line": {
          "color": "#EDAD01"
         },
         "marker": {
          "color": "#0B28D0"
         },
         "r": [
          37697,
          27541,
          15216,
          11389,
          2864
         ],
         "theta": [
          "Clients récents",
          "Clients de longue date",
          "Clients mécontent",
          "Clients dépensiers",
          "Clients récurrents"
         ],
         "type": "scatterpolar"
        }
       ],
       "layout": {
        "height": 600,
        "polar": {
         "angularaxis": {
          "tickfont": {
           "color": "#333",
           "size": 14
          }
         },
         "bgcolor": "rgba(11, 40, 208, 0.3)",
         "radialaxis": {
          "visible": true
         }
        },
        "showlegend": false,
        "template": {
         "data": {
          "bar": [
           {
            "error_x": {
             "color": "#2a3f5f"
            },
            "error_y": {
             "color": "#2a3f5f"
            },
            "marker": {
             "line": {
              "color": "#E5ECF6",
              "width": 0.5
             },
             "pattern": {
              "fillmode": "overlay",
              "size": 10,
              "solidity": 0.2
             }
            },
            "type": "bar"
           }
          ],
          "barpolar": [
           {
            "marker": {
             "line": {
              "color": "#E5ECF6",
              "width": 0.5
             },
             "pattern": {
              "fillmode": "overlay",
              "size": 10,
              "solidity": 0.2
             }
            },
            "type": "barpolar"
           }
          ],
          "carpet": [
           {
            "aaxis": {
             "endlinecolor": "#2a3f5f",
             "gridcolor": "white",
             "linecolor": "white",
             "minorgridcolor": "white",
             "startlinecolor": "#2a3f5f"
            },
            "baxis": {
             "endlinecolor": "#2a3f5f",
             "gridcolor": "white",
             "linecolor": "white",
             "minorgridcolor": "white",
             "startlinecolor": "#2a3f5f"
            },
            "type": "carpet"
           }
          ],
          "choropleth": [
           {
            "colorbar": {
             "outlinewidth": 0,
             "ticks": ""
            },
            "type": "choropleth"
           }
          ],
          "contour": [
           {
            "colorbar": {
             "outlinewidth": 0,
             "ticks": ""
            },
            "colorscale": [
             [
              0,
              "#0d0887"
             ],
             [
              0.1111111111111111,
              "#46039f"
             ],
             [
              0.2222222222222222,
              "#7201a8"
             ],
             [
              0.3333333333333333,
              "#9c179e"
             ],
             [
              0.4444444444444444,
              "#bd3786"
             ],
             [
              0.5555555555555556,
              "#d8576b"
             ],
             [
              0.6666666666666666,
              "#ed7953"
             ],
             [
              0.7777777777777778,
              "#fb9f3a"
             ],
             [
              0.8888888888888888,
              "#fdca26"
             ],
             [
              1,
              "#f0f921"
             ]
            ],
            "type": "contour"
           }
          ],
          "contourcarpet": [
           {
            "colorbar": {
             "outlinewidth": 0,
             "ticks": ""
            },
            "type": "contourcarpet"
           }
          ],
          "heatmap": [
           {
            "colorbar": {
             "outlinewidth": 0,
             "ticks": ""
            },
            "colorscale": [
             [
              0,
              "#0d0887"
             ],
             [
              0.1111111111111111,
              "#46039f"
             ],
             [
              0.2222222222222222,
              "#7201a8"
             ],
             [
              0.3333333333333333,
              "#9c179e"
             ],
             [
              0.4444444444444444,
              "#bd3786"
             ],
             [
              0.5555555555555556,
              "#d8576b"
             ],
             [
              0.6666666666666666,
              "#ed7953"
             ],
             [
              0.7777777777777778,
              "#fb9f3a"
             ],
             [
              0.8888888888888888,
              "#fdca26"
             ],
             [
              1,
              "#f0f921"
             ]
            ],
            "type": "heatmap"
           }
          ],
          "heatmapgl": [
           {
            "colorbar": {
             "outlinewidth": 0,
             "ticks": ""
            },
            "colorscale": [
             [
              0,
              "#0d0887"
             ],
             [
              0.1111111111111111,
              "#46039f"
             ],
             [
              0.2222222222222222,
              "#7201a8"
             ],
             [
              0.3333333333333333,
              "#9c179e"
             ],
             [
              0.4444444444444444,
              "#bd3786"
             ],
             [
              0.5555555555555556,
              "#d8576b"
             ],
             [
              0.6666666666666666,
              "#ed7953"
             ],
             [
              0.7777777777777778,
              "#fb9f3a"
             ],
             [
              0.8888888888888888,
              "#fdca26"
             ],
             [
              1,
              "#f0f921"
             ]
            ],
            "type": "heatmapgl"
           }
          ],
          "histogram": [
           {
            "marker": {
             "pattern": {
              "fillmode": "overlay",
              "size": 10,
              "solidity": 0.2
             }
            },
            "type": "histogram"
           }
          ],
          "histogram2d": [
           {
            "colorbar": {
             "outlinewidth": 0,
             "ticks": ""
            },
            "colorscale": [
             [
              0,
              "#0d0887"
             ],
             [
              0.1111111111111111,
              "#46039f"
             ],
             [
              0.2222222222222222,
              "#7201a8"
             ],
             [
              0.3333333333333333,
              "#9c179e"
             ],
             [
              0.4444444444444444,
              "#bd3786"
             ],
             [
              0.5555555555555556,
              "#d8576b"
             ],
             [
              0.6666666666666666,
              "#ed7953"
             ],
             [
              0.7777777777777778,
              "#fb9f3a"
             ],
             [
              0.8888888888888888,
              "#fdca26"
             ],
             [
              1,
              "#f0f921"
             ]
            ],
            "type": "histogram2d"
           }
          ],
          "histogram2dcontour": [
           {
            "colorbar": {
             "outlinewidth": 0,
             "ticks": ""
            },
            "colorscale": [
             [
              0,
              "#0d0887"
             ],
             [
              0.1111111111111111,
              "#46039f"
             ],
             [
              0.2222222222222222,
              "#7201a8"
             ],
             [
              0.3333333333333333,
              "#9c179e"
             ],
             [
              0.4444444444444444,
              "#bd3786"
             ],
             [
              0.5555555555555556,
              "#d8576b"
             ],
             [
              0.6666666666666666,
              "#ed7953"
             ],
             [
              0.7777777777777778,
              "#fb9f3a"
             ],
             [
              0.8888888888888888,
              "#fdca26"
             ],
             [
              1,
              "#f0f921"
             ]
            ],
            "type": "histogram2dcontour"
           }
          ],
          "mesh3d": [
           {
            "colorbar": {
             "outlinewidth": 0,
             "ticks": ""
            },
            "type": "mesh3d"
           }
          ],
          "parcoords": [
           {
            "line": {
             "colorbar": {
              "outlinewidth": 0,
              "ticks": ""
             }
            },
            "type": "parcoords"
           }
          ],
          "pie": [
           {
            "automargin": true,
            "type": "pie"
           }
          ],
          "scatter": [
           {
            "fillpattern": {
             "fillmode": "overlay",
             "size": 10,
             "solidity": 0.2
            },
            "type": "scatter"
           }
          ],
          "scatter3d": [
           {
            "line": {
             "colorbar": {
              "outlinewidth": 0,
              "ticks": ""
             }
            },
            "marker": {
             "colorbar": {
              "outlinewidth": 0,
              "ticks": ""
             }
            },
            "type": "scatter3d"
           }
          ],
          "scattercarpet": [
           {
            "marker": {
             "colorbar": {
              "outlinewidth": 0,
              "ticks": ""
             }
            },
            "type": "scattercarpet"
           }
          ],
          "scattergeo": [
           {
            "marker": {
             "colorbar": {
              "outlinewidth": 0,
              "ticks": ""
             }
            },
            "type": "scattergeo"
           }
          ],
          "scattergl": [
           {
            "marker": {
             "colorbar": {
              "outlinewidth": 0,
              "ticks": ""
             }
            },
            "type": "scattergl"
           }
          ],
          "scattermapbox": [
           {
            "marker": {
             "colorbar": {
              "outlinewidth": 0,
              "ticks": ""
             }
            },
            "type": "scattermapbox"
           }
          ],
          "scatterpolar": [
           {
            "marker": {
             "colorbar": {
              "outlinewidth": 0,
              "ticks": ""
             }
            },
            "type": "scatterpolar"
           }
          ],
          "scatterpolargl": [
           {
            "marker": {
             "colorbar": {
              "outlinewidth": 0,
              "ticks": ""
             }
            },
            "type": "scatterpolargl"
           }
          ],
          "scatterternary": [
           {
            "marker": {
             "colorbar": {
              "outlinewidth": 0,
              "ticks": ""
             }
            },
            "type": "scatterternary"
           }
          ],
          "surface": [
           {
            "colorbar": {
             "outlinewidth": 0,
             "ticks": ""
            },
            "colorscale": [
             [
              0,
              "#0d0887"
             ],
             [
              0.1111111111111111,
              "#46039f"
             ],
             [
              0.2222222222222222,
              "#7201a8"
             ],
             [
              0.3333333333333333,
              "#9c179e"
             ],
             [
              0.4444444444444444,
              "#bd3786"
             ],
             [
              0.5555555555555556,
              "#d8576b"
             ],
             [
              0.6666666666666666,
              "#ed7953"
             ],
             [
              0.7777777777777778,
              "#fb9f3a"
             ],
             [
              0.8888888888888888,
              "#fdca26"
             ],
             [
              1,
              "#f0f921"
             ]
            ],
            "type": "surface"
           }
          ],
          "table": [
           {
            "cells": {
             "fill": {
              "color": "#EBF0F8"
             },
             "line": {
              "color": "white"
             }
            },
            "header": {
             "fill": {
              "color": "#C8D4E3"
             },
             "line": {
              "color": "white"
             }
            },
            "type": "table"
           }
          ]
         },
         "layout": {
          "annotationdefaults": {
           "arrowcolor": "#2a3f5f",
           "arrowhead": 0,
           "arrowwidth": 1
          },
          "autotypenumbers": "strict",
          "coloraxis": {
           "colorbar": {
            "outlinewidth": 0,
            "ticks": ""
           }
          },
          "colorscale": {
           "diverging": [
            [
             0,
             "#8e0152"
            ],
            [
             0.1,
             "#c51b7d"
            ],
            [
             0.2,
             "#de77ae"
            ],
            [
             0.3,
             "#f1b6da"
            ],
            [
             0.4,
             "#fde0ef"
            ],
            [
             0.5,
             "#f7f7f7"
            ],
            [
             0.6,
             "#e6f5d0"
            ],
            [
             0.7,
             "#b8e186"
            ],
            [
             0.8,
             "#7fbc41"
            ],
            [
             0.9,
             "#4d9221"
            ],
            [
             1,
             "#276419"
            ]
           ],
           "sequential": [
            [
             0,
             "#0d0887"
            ],
            [
             0.1111111111111111,
             "#46039f"
            ],
            [
             0.2222222222222222,
             "#7201a8"
            ],
            [
             0.3333333333333333,
             "#9c179e"
            ],
            [
             0.4444444444444444,
             "#bd3786"
            ],
            [
             0.5555555555555556,
             "#d8576b"
            ],
            [
             0.6666666666666666,
             "#ed7953"
            ],
            [
             0.7777777777777778,
             "#fb9f3a"
            ],
            [
             0.8888888888888888,
             "#fdca26"
            ],
            [
             1,
             "#f0f921"
            ]
           ],
           "sequentialminus": [
            [
             0,
             "#0d0887"
            ],
            [
             0.1111111111111111,
             "#46039f"
            ],
            [
             0.2222222222222222,
             "#7201a8"
            ],
            [
             0.3333333333333333,
             "#9c179e"
            ],
            [
             0.4444444444444444,
             "#bd3786"
            ],
            [
             0.5555555555555556,
             "#d8576b"
            ],
            [
             0.6666666666666666,
             "#ed7953"
            ],
            [
             0.7777777777777778,
             "#fb9f3a"
            ],
            [
             0.8888888888888888,
             "#fdca26"
            ],
            [
             1,
             "#f0f921"
            ]
           ]
          },
          "colorway": [
           "#636efa",
           "#EF553B",
           "#00cc96",
           "#ab63fa",
           "#FFA15A",
           "#19d3f3",
           "#FF6692",
           "#B6E880",
           "#FF97FF",
           "#FECB52"
          ],
          "font": {
           "color": "#2a3f5f"
          },
          "geo": {
           "bgcolor": "white",
           "lakecolor": "white",
           "landcolor": "#E5ECF6",
           "showlakes": true,
           "showland": true,
           "subunitcolor": "white"
          },
          "hoverlabel": {
           "align": "left"
          },
          "hovermode": "closest",
          "mapbox": {
           "style": "light"
          },
          "paper_bgcolor": "white",
          "plot_bgcolor": "#E5ECF6",
          "polar": {
           "angularaxis": {
            "gridcolor": "white",
            "linecolor": "white",
            "ticks": ""
           },
           "bgcolor": "#E5ECF6",
           "radialaxis": {
            "gridcolor": "white",
            "linecolor": "white",
            "ticks": ""
           }
          },
          "scene": {
           "xaxis": {
            "backgroundcolor": "#E5ECF6",
            "gridcolor": "white",
            "gridwidth": 2,
            "linecolor": "white",
            "showbackground": true,
            "ticks": "",
            "zerolinecolor": "white"
           },
           "yaxis": {
            "backgroundcolor": "#E5ECF6",
            "gridcolor": "white",
            "gridwidth": 2,
            "linecolor": "white",
            "showbackground": true,
            "ticks": "",
            "zerolinecolor": "white"
           },
           "zaxis": {
            "backgroundcolor": "#E5ECF6",
            "gridcolor": "white",
            "gridwidth": 2,
            "linecolor": "white",
            "showbackground": true,
            "ticks": "",
            "zerolinecolor": "white"
           }
          },
          "shapedefaults": {
           "line": {
            "color": "#2a3f5f"
           }
          },
          "ternary": {
           "aaxis": {
            "gridcolor": "white",
            "linecolor": "white",
            "ticks": ""
           },
           "baxis": {
            "gridcolor": "white",
            "linecolor": "white",
            "ticks": ""
           },
           "bgcolor": "#E5ECF6",
           "caxis": {
            "gridcolor": "white",
            "linecolor": "white",
            "ticks": ""
           }
          },
          "title": {
           "x": 0.05
          },
          "xaxis": {
           "automargin": true,
           "gridcolor": "white",
           "linecolor": "white",
           "ticks": "",
           "title": {
            "standoff": 15
           },
           "zerolinecolor": "white",
           "zerolinewidth": 2
          },
          "yaxis": {
           "automargin": true,
           "gridcolor": "white",
           "linecolor": "white",
           "ticks": "",
           "title": {
            "standoff": 15
           },
           "zerolinecolor": "white",
           "zerolinewidth": 2
          }
         }
        },
        "title": {
         "font": {
          "color": "#000",
          "size": 22
         },
         "text": "Répartition des individus par cluster",
         "x": 0.5,
         "y": 0.95
        },
        "width": 700
       }
      }
     },
     "metadata": {},
     "output_type": "display_data"
    }
   ],
   "source": [
    "# Convertissez les valeurs de 'clusters' en chaînes de caractères\n",
    "nb_indiv_cluster[\"clusters\"] = nb_indiv_cluster[\"clusters\"].astype(str)\n",
    "\n",
    "fig = go.Figure(data=go.Scatterpolar(\n",
    "    r=nb_indiv_cluster[\"count\"],\n",
    "    theta=nb_indiv_cluster[\"clusters\"],\n",
    "    fill='toself',\n",
    "    marker=dict(color='#0B28D0'),\n",
    "    line=dict(color='#EDAD01'),\n",
    "    fillcolor='rgba(237, 173, 1, 0.6)',\n",
    "    hovertemplate='Nombre d\\'individus: %{r}'\n",
    "))\n",
    "\n",
    "fig.update_layout(\n",
    "    polar=dict(radialaxis=dict(visible=True),angularaxis=dict(tickfont=dict(size=14, color='#333')), bgcolor='rgba(11, 40, 208, 0.3)'),\n",
    "    showlegend=False,\n",
    "    title=dict(text=\"Répartition des individus par cluster\",x=0.5,y=0.95),\n",
    "    title_font=dict(size=22, color='#000'),\n",
    "    width=700,  # Width of the figure in pixels\n",
    "    height=600,  # Height of the figure in pixels\n",
    ")\n",
    "\n",
    "fig.show()"
   ]
  },
  {
   "cell_type": "markdown",
   "metadata": {},
   "source": [
    "##### **Représentation des individus par clusters**"
   ]
  },
  {
   "cell_type": "markdown",
   "metadata": {},
   "source": [
    "###### **Normalisation des données**"
   ]
  },
  {
   "cell_type": "code",
   "execution_count": null,
   "metadata": {},
   "outputs": [],
   "source": [
    "print(df.shape)\n",
    "# Number of observations (tuples/country)\n",
    "n = df.shape[0]\n",
    "# Number of variables (columns)\n",
    "p = df.shape[1]"
   ]
  },
  {
   "cell_type": "code",
   "execution_count": null,
   "metadata": {},
   "outputs": [],
   "source": [
    "# Instanciation\n",
    "sc = StandardScaler()\n",
    "# Transformation - Scaling \n",
    "X = sc.fit_transform(df)\n",
    "# Instanciation\n",
    "acp = PCA(svd_solver='full')\n",
    "#Calculs des composantes principales + renvoie en sortie les coordonnées factorielles\n",
    "coord = acp.fit_transform(X)\n",
    "#Nombre de composantes calculées\n",
    "print(acp.n_components_)"
   ]
  },
  {
   "cell_type": "markdown",
   "metadata": {},
   "source": [
    "###### **Calcul des valeurs propres**"
   ]
  },
  {
   "cell_type": "code",
   "execution_count": null,
   "metadata": {},
   "outputs": [],
   "source": [
    "eigval = (n-1)/n*acp.explained_variance_\n",
    "sqrt_eigval = np.sqrt(eigval)\n",
    "# Correlation of variables with axes\n",
    "corvar = np.zeros((p,p))\n",
    "for k in range(p):\n",
    " corvar[:,k] = acp.components_[k,:] * sqrt_eigval[k]"
   ]
  },
  {
   "cell_type": "markdown",
   "metadata": {},
   "source": [
    "###### **Eboulis des valeurs**"
   ]
  },
  {
   "cell_type": "code",
   "execution_count": null,
   "metadata": {},
   "outputs": [],
   "source": [
    "def display_scree_plot(pca):\n",
    "    scree = pca.explained_variance_ratio_*100\n",
    "    plt.bar(np.arange(len(scree))+1, scree, color='#0b28d0')\n",
    "    plt.plot(np.arange(len(scree))+1, scree.cumsum(),c=\"#edad01\",marker='o')\n",
    "    plt.title(\"Eboulis des valeurs propres\\n\")\n",
    "    plt.xlabel(\"Rang de l'axe d'inertie\")\n",
    "    plt.ylabel(\"% d'inertie\")\n",
    "    plt.show(block=False)"
   ]
  },
  {
   "cell_type": "code",
   "execution_count": null,
   "metadata": {},
   "outputs": [],
   "source": [
    "#Eboulis des valeurs propres\n",
    "plt.figure(figsize=(14,4))\n",
    "display_scree_plot(acp)"
   ]
  },
  {
   "cell_type": "markdown",
   "metadata": {},
   "source": [
    "###### **Représentation des individus**"
   ]
  },
  {
   "cell_type": "code",
   "execution_count": null,
   "metadata": {},
   "outputs": [],
   "source": [
    "# Vos couleurs pré-déterminées\n",
    "colors = [\"#0B28D0\", \"#A2A2D5\", \"#000\", \"#333\", \"#EDAD01\"]\n",
    "# Création d'une ListedColormap avec vos couleurs\n",
    "cmap = mpl.colors.ListedColormap(colors)\n",
    "# Assurez-vous que les limites correspondent au nombre de clusters plus 1\n",
    "bounds = [0, 1, 2, 3, 4, 5]\n",
    "norm = mpl.colors.BoundaryNorm(bounds, cmap.N)\n",
    "# Créez un ScalarMappable avec la colormap et le normalisateur\n",
    "sm = mpl.cm.ScalarMappable(cmap=cmap, norm=norm)"
   ]
  },
  {
   "cell_type": "code",
   "execution_count": null,
   "metadata": {},
   "outputs": [],
   "source": [
    "fig, axs = plt.subplots(2, 2, figsize=(14,10))\n",
    "\n",
    "# Supposons que 'df_kmean.clusters' contienne les identifiants de cluster pour chaque point\n",
    "# Créez une liste de couleurs pour les clusters en utilisant une compréhension de liste\n",
    "cluster_colors = [colors[cluster_id] for cluster_id in df_kmean.clusters]\n",
    "\n",
    "# 1er plan factoriel\n",
    "axs[0, 0].scatter(x=coord[:, 0], y=coord[:, 1], c=cluster_colors, s=6)\n",
    "axs[0, 0].set_title(\"1er plan factoriel\")\n",
    "fig.colorbar(sm, ax=axs[0, 0])\n",
    "\n",
    "# 2e plan factoriel\n",
    "axs[0, 1].scatter(x=coord[:, 2], y=coord[:, 3], c=cluster_colors, s=6)\n",
    "axs[0, 1].set_title(\"2e plan factoriel\")\n",
    "fig.colorbar(sm, ax=axs[0, 1])\n",
    "\n",
    "# 3e plan factoriel\n",
    "axs[1, 0].scatter(x=coord[:, 4], y=coord[:, 5], c=cluster_colors, s=6)\n",
    "axs[1, 0].set_title(\"3e plan factoriel\")\n",
    "fig.colorbar(sm, ax=axs[1, 0])\n",
    "\n",
    "# 4e plan factoriel\n",
    "axs[1, 1].scatter(x=coord[:, 6], y=coord[:, 7], c=cluster_colors, s=6)\n",
    "axs[1, 1].set_title(\"4e plan factoriel\")\n",
    "fig.colorbar(sm, ax=axs[1, 1])\n",
    "\n",
    "plt.tight_layout()\n",
    "plt.show()"
   ]
  },
  {
   "cell_type": "markdown",
   "metadata": {},
   "source": [
    "#### **2.2   CAH - Classification Ascendante Hiérarchique**"
   ]
  },
  {
   "cell_type": "markdown",
   "metadata": {},
   "source": [
    "La méthode de Classification Ascendante Hiérarchique est maintenant testée. \n",
    "\n",
    "Cette méthode consiste à organiser une population en groupes homogènes. Pour cela la CAH calcule une `matrice des distances` ou des dissimilarités entre les individus. Les individus sont ensuite agglomérés de manière itérative en suivant une procédure hiérarchique. À chaque étape, les deux groupes les plus proches (selon la matrice des distances) sont fusionnés pour former un nouveau groupe. Ce processus est répété jusqu'à ce que tous les individus soient regroupés en un seul cluster. Le résultat est représenté par un arbre appelé `dendrogramme`, qui illustre la manière dont les groupes sont combinés.\n",
    "\n",
    "La méthode CAH ne fonctionne pas sur un échantillon d'individus important, par conséquent il est nécessaire de passer par un premier traitement afin de réduire la taille de l'échantillon. \n",
    "\n",
    "Ce traitement consiste a utiliser la méthode de clustering KMeans de manière à exploiter les centroïdes d'un grand nombre de clusters (`n_clust = 10000`). Cela permet de diviser par 9 (environ) le nombre d'individus tout en gardant l'information, en effet, cette méthode permet d'obtenir la moyenne des 9 individus les plus proches. \n",
    "\n",
    "Pour commencer, les données sont mises à l'échelles. Le modèle KMeans est ensuite appliqué aux données avec les paramètres prédéfinis."
   ]
  },
  {
   "cell_type": "code",
   "execution_count": null,
   "metadata": {},
   "outputs": [],
   "source": [
    "sc = StandardScaler()\n",
    "X = sc.fit_transform(df_cluster)\n",
    "\n",
    "n_clust = 10000\n",
    "km = KMeans(n_clusters=n_clust, n_init=\"auto\", random_state=42)\n",
    "km.fit(X)"
   ]
  },
  {
   "cell_type": "markdown",
   "metadata": {},
   "source": [
    "Les résultats de labelisation de chacun des points de données est ensuite enregistré dans la variable `clusters`."
   ]
  },
  {
   "cell_type": "code",
   "execution_count": null,
   "metadata": {},
   "outputs": [],
   "source": [
    "clusters = km.labels_"
   ]
  },
  {
   "cell_type": "markdown",
   "metadata": {},
   "source": [
    "La matrice des résultats du clustering est transformée en dataframe et les résultats de labelisation sont ajoutés à la colonne `clusters`."
   ]
  },
  {
   "cell_type": "code",
   "execution_count": null,
   "metadata": {},
   "outputs": [],
   "source": [
    "df_kmean = pd.DataFrame(X, columns=df_cluster.columns)\n",
    "df_kmean['clusters'] = clusters"
   ]
  },
  {
   "cell_type": "markdown",
   "metadata": {},
   "source": [
    "Les centroïdes de chaque clusters sont obtenus en calculant la moyenne de chaque caractéristiques, réduisant ainsi le nombres d'individus dans l'échantillon."
   ]
  },
  {
   "cell_type": "code",
   "execution_count": null,
   "metadata": {},
   "outputs": [],
   "source": [
    "centroide_kmean = df_kmean.groupby(by='clusters').mean()\n",
    "centroide_kmean.shape"
   ]
  },
  {
   "cell_type": "markdown",
   "metadata": {},
   "source": [
    "Les données sont centrées et réduites avant l'application du clustering CAH et les individus sont instanciés dans la variables `names`."
   ]
  },
  {
   "cell_type": "code",
   "execution_count": null,
   "metadata": {},
   "outputs": [],
   "source": [
    "X = sc.fit_transform(centroide_kmean)"
   ]
  },
  {
   "cell_type": "code",
   "execution_count": null,
   "metadata": {},
   "outputs": [],
   "source": [
    "names = centroide_kmean.index.values"
   ]
  },
  {
   "cell_type": "markdown",
   "metadata": {},
   "source": [
    "La Classification Ascendante Hiérarchique est peut maintenant être appliquée aux données."
   ]
  },
  {
   "cell_type": "code",
   "execution_count": null,
   "metadata": {},
   "outputs": [],
   "source": [
    "# Clustering hiérarchique\n",
    "Z = linkage(X, 'ward')"
   ]
  },
  {
   "cell_type": "markdown",
   "metadata": {},
   "source": [
    "Avant de visualiser le dendogramme il est utilse de mesurer la qualité du clustering via l'indice de Davies-Bouldin."
   ]
  },
  {
   "cell_type": "code",
   "execution_count": null,
   "metadata": {},
   "outputs": [],
   "source": [
    "score = []\n",
    "\n",
    "for n_clust in range(2,10):\n",
    "  #Clustering par classification hiérarchique\n",
    "  clusters = fcluster(Z, n_clust, criterion='maxclust')\n",
    "  #Application de la mesure Davies Bouldin\n",
    "  score.append(davies_bouldin_score(X, clusters))\n",
    "\n",
    "print(score)"
   ]
  },
  {
   "cell_type": "markdown",
   "metadata": {},
   "source": [
    "Le résultat montre qu'une segmentation en 6 clusters serait la plus adaptée. "
   ]
  },
  {
   "cell_type": "code",
   "execution_count": null,
   "metadata": {},
   "outputs": [],
   "source": [
    "#Analyse des regroupements de clusters\n",
    "plt.figure(figsize=(14,3))\n",
    "plt.plot(range(2,10), score)\n",
    "plt.title('CAH\\nAnalyse de la qualité des partitions/clusters (davies-bouldin)')\n",
    "plt.xlabel(\"Nombre de cluster\")\n",
    "plt.ylabel(\"Indice de Davies-Bouldin\")\n",
    "plt.show()"
   ]
  },
  {
   "cell_type": "markdown",
   "metadata": {},
   "source": [
    "Les clusters sont représentés dans le dendogramme en se basant sur les résultats du Davies-Bouldin."
   ]
  },
  {
   "cell_type": "code",
   "execution_count": null,
   "metadata": {},
   "outputs": [],
   "source": [
    "plt.figure(figsize=(22,6))\n",
    "dendrogram(Z,labels=names,orientation='top',color_threshold=59, above_threshold_color='#bcbddc')\n",
    "plt.title('CAH\\nDendogramme représentant les 6 classes')\n",
    "plt.xlabel('Distance')\n",
    "plt.ylabel('Classes')\n",
    "plt.show()"
   ]
  },
  {
   "cell_type": "markdown",
   "metadata": {},
   "source": [
    "Les résultats de labelisation de chacun des points de données est ensuite enregistré dans la variable `clusters`."
   ]
  },
  {
   "cell_type": "code",
   "execution_count": null,
   "metadata": {},
   "outputs": [],
   "source": [
    "clusters = fcluster(Z, 6, criterion='maxclust')"
   ]
  },
  {
   "cell_type": "markdown",
   "metadata": {},
   "source": [
    "La matrice des résultats du clustering est transformée en dataframe et les résultats de labelisation sont ajoutés à la colonne `clusters`."
   ]
  },
  {
   "cell_type": "code",
   "execution_count": null,
   "metadata": {},
   "outputs": [],
   "source": [
    "df_cah = pd.DataFrame(X, columns=centroide_kmean.columns)\n",
    "df_cah['clusters'] = clusters"
   ]
  },
  {
   "cell_type": "markdown",
   "metadata": {},
   "source": [
    "Les centroïdes de chaque clusters sont obtenus en calculant la moyenne de chaque caractéristiques, le but étant d'analyser le comportements global des clients pour chacun des clusters."
   ]
  },
  {
   "cell_type": "code",
   "execution_count": null,
   "metadata": {},
   "outputs": [],
   "source": [
    "centroids = df_cah.groupby(by='clusters').mean()"
   ]
  },
  {
   "cell_type": "code",
   "execution_count": null,
   "metadata": {},
   "outputs": [],
   "source": [
    "#Création du heatmap pour observer les différents clusters et composantes\n",
    "plt.figure(figsize=(14,3))\n",
    "sns.heatmap(centroids, center=0, cmap=heatmap_color, annot=True, annot_kws={'size': 9})\n",
    "plt.title('CAH\\nSegmentation des clients\\nAnalyse des clusters selon les indicateurs (moyenne)')\n",
    "plt.ylabel('Clusters')\n",
    "plt.show()"
   ]
  },
  {
   "cell_type": "markdown",
   "metadata": {},
   "source": [
    "La distribution des individus par cluster est également observée pour chaque caractéristique."
   ]
  },
  {
   "cell_type": "code",
   "execution_count": null,
   "metadata": {},
   "outputs": [],
   "source": [
    "fig, axs = plt.subplots(1, 5, figsize=(18, 4))\n",
    "plt.suptitle(\"CAH\\nSegmentation des clients\\nAnalyse de distribution des clusters par indicateur\", color=\"#000\")\n",
    "\n",
    "for ax, column in zip(axs.flatten(), df_cah.drop(columns=\"clusters\").columns):\n",
    "    sns.boxplot(x='clusters', y=column, data=df_cah, ax=ax, palette=palette_map)\n",
    "    \n",
    "\n",
    "plt.tight_layout()\n",
    "plt.show()"
   ]
  },
  {
   "cell_type": "markdown",
   "metadata": {},
   "source": [
    "#### **4.3   DBSCAN**"
   ]
  },
  {
   "cell_type": "markdown",
   "metadata": {},
   "source": [
    "Le clustering DBSCAN est une méthode de clustering basée sur la densité.\n",
    "\n",
    "DBSCAN nécessite deux paramètres : \n",
    "* ε (eps) qui représente la distance maximale entre deux points pour qu'ils appartiennent au même voisinage;\n",
    "* minPts qui est le nombre minimal de points requis pour former une région dense. \n",
    "\n",
    "L'algorithme commence par un point arbitraire non visité. La région ε-voisine de ce point est récupérée. Si elle contient suffisamment de points, un cluster est démarré. Sinon, le point est étiqueté comme du bruit.\n",
    "\n",
    "Pour commencer, les données sont mises à l'échelles."
   ]
  },
  {
   "cell_type": "code",
   "execution_count": null,
   "metadata": {},
   "outputs": [],
   "source": [
    "data_scaled = sc.fit_transform(df)"
   ]
  },
  {
   "cell_type": "markdown",
   "metadata": {},
   "source": [
    "Le clustering du DBSCAN est ensuite effectué et analysé via l'indices de Davies-Bouldin. Le test s'effectue sur un `min_samples` de 10 à 100 avec un pas de 10 et les résultats du Davies-Bouldin sont enregistrés dans la variable `scores` afin de déterminer le clustering optimal pour la ytranche de paramètre choisie."
   ]
  },
  {
   "cell_type": "code",
   "execution_count": null,
   "metadata": {},
   "outputs": [],
   "source": [
    "min_samples_values = np.arange(10, 101, 10)\n",
    "\n",
    "scores = []\n",
    "\n",
    "# Loop to test each min_samples value\n",
    "for min_samples in min_samples_values:\n",
    "  dbscan = DBSCAN(eps=0.5, min_samples=min_samples)\n",
    "  dbscan.fit(data_scaled)\n",
    "  df['cluster'] = dbscan.labels_\n",
    "\n",
    "  # Calculation of Davies-Bouldin index\n",
    "  score = davies_bouldin_score(data_scaled, dbscan.labels_)\n",
    "  scores.append(score)"
   ]
  },
  {
   "cell_type": "markdown",
   "metadata": {},
   "source": [
    "Les résultats montrent que la plus petite valeur de `min_samples` est la plus performante pour le clustering."
   ]
  },
  {
   "cell_type": "code",
   "execution_count": null,
   "metadata": {},
   "outputs": [],
   "source": [
    "# Affichage des résultats dans un graphique\n",
    "plt.figure(figsize=(14,4))\n",
    "sns.lineplot(x=min_samples_values, y=scores)\n",
    "plt.title('DBSCAN\\nAnalyse de la qualité des partitions/clusters (davies-bouldin)')\n",
    "plt.xlabel(\"Nombre de cluster\")\n",
    "plt.ylabel(\"Indice de Davies-Bouldin\")\n",
    "plt.show()"
   ]
  },
  {
   "cell_type": "markdown",
   "metadata": {},
   "source": [
    "Le clustering est maintenant appliqué aux données avec un `min_samples` = 10."
   ]
  },
  {
   "cell_type": "code",
   "execution_count": null,
   "metadata": {},
   "outputs": [],
   "source": [
    "dbscan = DBSCAN(eps=0.5, min_samples=10)\n",
    "dbscan.fit(data_scaled)\n",
    "df['cluster'] = dbscan.labels_"
   ]
  },
  {
   "cell_type": "code",
   "execution_count": null,
   "metadata": {},
   "outputs": [],
   "source": [
    "df[\"cluster\"].value_counts(ascending=False).head(10)"
   ]
  },
  {
   "cell_type": "markdown",
   "metadata": {},
   "source": [
    "Les résultats montrent un grand nombre d'individus dans le cluster `-1`, ce qui signifie que le modèle DBSCAN n'arrive pas a attribuer le clusters à ces individus. Le modèle DBSCAN n'est donc pas approprié pour la segmentation des clients Olist."
   ]
  },
  {
   "cell_type": "code",
   "execution_count": null,
   "metadata": {},
   "outputs": [],
   "source": [
    "# Affichage des résultats dans un graphique\n",
    "plt.figure(figsize=(14,4))\n",
    "sns.barplot(data=pd.DataFrame(df[\"cluster\"].value_counts(ascending=False).reset_index().head(10)), y=\"cluster\", x=\"count\", orient=\"h\", palette=palette_map)\n",
    "plt.title('DBSCAN\\nAnalyse de la répartition des individus')\n",
    "plt.xlabel(\"Nombre d'individus'\")\n",
    "plt.show()"
   ]
  }
 ],
 "metadata": {
  "kernelspec": {
   "display_name": "Python 3",
   "language": "python",
   "name": "python3"
  },
  "language_info": {
   "codemirror_mode": {
    "name": "ipython",
    "version": 3
   },
   "file_extension": ".py",
   "mimetype": "text/x-python",
   "name": "python",
   "nbconvert_exporter": "python",
   "pygments_lexer": "ipython3",
   "version": "3.11.3"
  }
 },
 "nbformat": 4,
 "nbformat_minor": 2
}
