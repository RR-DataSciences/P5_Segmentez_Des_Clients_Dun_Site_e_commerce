{
 "cells": [
  {
   "cell_type": "markdown",
   "metadata": {},
   "source": [
    "# **Projet 5 - <span style=\"color:#1d479b\">Segmentez les clients d'un site e-commerce</span>**\n",
    "---"
   ]
  },
  {
   "cell_type": "markdown",
   "metadata": {},
   "source": [
    "**<span style=\"color:#1d479b\">Objectif de la mission:</span>**\n",
    "* Fournir une **segmentation des clients** afin d'apporter des informations supplémentaires aux équipes pour leurs campagnes de communication.\n",
    "* **Comprendre les différents types d’utilisateurs** grâce à leur comportement et à leurs données personnelles.\n",
    "* Fournir une **description actionable de la segmentation** et de sa logique sous-jacente pour une utilisation optimale.\n",
    "* Proposition de **contrat de maintenance basée sur une analyse de la stabilité** des segments au cours du temps.."
   ]
  },
  {
   "cell_type": "markdown",
   "metadata": {},
   "source": [
    "## **0. Importation des librairies et des données**\n",
    "---"
   ]
  },
  {
   "cell_type": "code",
   "execution_count": 1,
   "metadata": {},
   "outputs": [],
   "source": [
    "# Importing libraries\n",
    "import pandas as pd\n",
    "import numpy as np\n",
    "import seaborn as sns\n",
    "import matplotlib.pyplot as plt\n",
    "import matplotlib.colors as mcolors\n",
    "# ---\n",
    "#scikit-learn\n",
    "from sklearn.preprocessing import StandardScaler, PowerTransformer, QuantileTransformer\n",
    "#classe pour l'ACP\n",
    "from sklearn.cluster import KMeans\n",
    "from sklearn import decomposition\n",
    "from sklearn.metrics import davies_bouldin_score, silhouette_score\n",
    "from sklearn.cluster import AgglomerativeClustering, DBSCAN\n",
    "#Classes pour le clustering\n",
    "from scipy.cluster import hierarchy\n",
    "from scipy.cluster.hierarchy import dendrogram, linkage, fcluster"
   ]
  },
  {
   "cell_type": "code",
   "execution_count": 2,
   "metadata": {},
   "outputs": [],
   "source": [
    "path_customers = \"C:/Users/remid/Documents/_OC_ParcoursDataScientist/P5_Segmentez_Des_Clients_Dun_Site_e_commerce/df_final.csv\"\n",
    "df_customers = pd.read_csv(path_customers, sep=\",\")\n",
    "df = df_customers.copy()"
   ]
  },
  {
   "cell_type": "markdown",
   "metadata": {},
   "source": [
    "### **0.1 - Définition de la charte graphique**"
   ]
  },
  {
   "cell_type": "code",
   "execution_count": 3,
   "metadata": {},
   "outputs": [
    {
     "data": {
      "text/plain": [
       "['#0B28D0', '#A2A2D5', '#FFF', '#333', '#EDAD01']"
      ]
     },
     "execution_count": 3,
     "metadata": {},
     "output_type": "execute_result"
    }
   ],
   "source": [
    "[\"#0B28D0\",\"#A2A2D5\",\"#FFF\",\"#333\",\"#EDAD01\"]"
   ]
  },
  {
   "cell_type": "code",
   "execution_count": 4,
   "metadata": {},
   "outputs": [
    {
     "data": {
      "image/png": "[encoded data removed]",
      "text/html": [
       "<div style=\"vertical-align: middle;\"><strong>custom_colormap</strong> </div><div class=\"cmap\"><img alt=\"custom_colormap colormap\" title=\"custom_colormap\" style=\"border: 1px solid #555;\" src=\"data:image/png;base64,iVBORw0KGgoAAAANSUhEUgAAAgAAAABACAYAAABsv8+/AAAAHnRFWHRUaXRsZQBjdXN0b21fY29sb3JtYXAgY29sb3JtYXB5JmvcAAAAJHRFWHREZXNjcmlwdGlvbgBjdXN0b21fY29sb3JtYXAgY29sb3JtYXCzmoKzAAAAMHRFWHRBdXRob3IATWF0cGxvdGxpYiB2My43LjEsIGh0dHBzOi8vbWF0cGxvdGxpYi5vcmcqr/hNAAAAMnRFWHRTb2Z0d2FyZQBNYXRwbG90bGliIHYzLjcuMSwgaHR0cHM6Ly9tYXRwbG90bGliLm9yZwQJZ2oAAAIbSURBVHic7dZBboMwFEVRw7Qb6f5X0hXFHQCNY2xKI3X0zpGqFkJ+DE6lu3x8ftVSSlmW509/vO4n59csZR2873nd9vpo9tLMHl+z/JxbJ7Pb43Uy+5g/m91eM5vdvt7PPl9znv26hvNsz/vG815nz3u8J69reG9P1sns1zWMZ/9lT8bP+/6ejL8T5z1pZ2/q/vtRSq378X6u1u18qfvf5fl6fXTHdTKrNK8/BnOOzyiDOcfn9Gtq3tOuuTaffzlrO65Xs27df39/x/uaNQ/XdGfOu2vqn+18f2s76/QsR7P65zjYk+H+9vc/35Pr/b1Y09V37jT7uP/RPv3Hnky+J7/9z926/9Gs/v4Hs0opawEA4ggAAAgkAAAgkAAAgEACAAACCQAACCQAACCQAACAQAIAAAIJAAAIJAAAIJAAAIBAAgAAAgkAAAgkAAAgkAAAgEACAAACCQAACCQAACCQAACAQAIAAAIJAAAIJAAAIJAAAIBAAgAAAgkAAAgkAAAgkAAAgEACAAACCQAACCQAACCQAACAQAIAAAIJAAAIJAAAIJAAAIBAAgAAAgkAAAgkAAAgkAAAgEACAAACCQAACCQAACCQAACAQAIAAAIJAAAIJAAAIJAAAIBAAgAAAgkAAAgkAAAgkAAAgEACAAACCQAACCQAACCQAACAQAIAAAIJAAAIJAAAIJAAAIBAAgAAAgkAAAgkAAAg0DePBRApFnW8dgAAAABJRU5ErkJggg==\"></div><div style=\"vertical-align: middle; max-width: 514px; display: flex; justify-content: space-between;\"><div style=\"float: left;\"><div title=\"#0b28d0ff\" style=\"display: inline-block; width: 1em; height: 1em; margin: 0; vertical-align: middle; border: 1px solid #555; background-color: #0b28d0ff;\"></div> under</div><div style=\"margin: 0 auto; display: inline-block;\">bad <div title=\"#00000000\" style=\"display: inline-block; width: 1em; height: 1em; margin: 0; vertical-align: middle; border: 1px solid #555; background-color: #00000000;\"></div></div><div style=\"float: right;\">over <div title=\"#edad01ff\" style=\"display: inline-block; width: 1em; height: 1em; margin: 0; vertical-align: middle; border: 1px solid #555; background-color: #edad01ff;\"></div></div>"
      ],
      "text/plain": [
       "<matplotlib.colors.LinearSegmentedColormap at 0x29fdd8c3890>"
      ]
     },
     "execution_count": 4,
     "metadata": {},
     "output_type": "execute_result"
    }
   ],
   "source": [
    "# Define the heatmap color\n",
    "first_color = \"#0B28D0\"\n",
    "under_color = \"#F1F1F1\"\n",
    "over_color = \"#EDAD01\"\n",
    "# Create a personal color map \n",
    "colors = [first_color,under_color, over_color]\n",
    "n_bins = 400\n",
    "cmap_name = 'custom_colormap'\n",
    "heatmap_color = mcolors.LinearSegmentedColormap.from_list(cmap_name, colors, N=n_bins)\n",
    "heatmap_color"
   ]
  },
  {
   "cell_type": "code",
   "execution_count": 5,
   "metadata": {},
   "outputs": [
    {
     "data": {
      "image/png": "[encoded data removed]",
      "text/html": [
       "<div style=\"vertical-align: middle;\"><strong>blend</strong> </div><div class=\"cmap\"><img alt=\"blend colormap\" title=\"blend\" style=\"border: 1px solid #555;\" src=\"data:image/png;base64,iVBORw0KGgoAAAANSUhEUgAAAgAAAABACAYAAABsv8+/AAAAFHRFWHRUaXRsZQBibGVuZCBjb2xvcm1hcKH0gPAAAAAadEVYdERlc2NyaXB0aW9uAGJsZW5kIGNvbG9ybWFwX6spFgAAADB0RVh0QXV0aG9yAE1hdHBsb3RsaWIgdjMuNy4xLCBodHRwczovL21hdHBsb3RsaWIub3JnKq/4TQAAADJ0RVh0U29mdHdhcmUATWF0cGxvdGxpYiB2My43LjEsIGh0dHBzOi8vbWF0cGxvdGxpYi5vcmcECWdqAAABl0lEQVR4nO3WS26DMABAQdNtLtL7n6Q3oosoGxQUgquW6s1sEIiPwYn1ltvn1zrGGGO9b8Z4bMdmf+/48/OWyeu3x5fJ67fH9+937v2XH3rP/e83N87j83Fs/O9/v8fuq/mY/X5H7/e3v+f/P8/nnvNr/7uX69nz51xv3Tp6v3PPufq6dXycs/N8cpzrxdbXN+f5YwAAOQIAAIIEAAAECQAACBIAABAkAAAgSAAAQJAAAIAgAQAAQQIAAIIEAAAECQAACBIAABAkAAAgSAAAQJAAAIAgAQAAQQIAAIIEAAAECQAACBIAABAkAAAgSAAAQJAAAIAgAQAAQQIAAIIEAAAECQAACBIAABAkAAAgSAAAQJAAAIAgAQAAQQIAAIIEAAAECQAACBIAABAkAAAgSAAAQJAAAIAgAQAAQQIAAIIEAAAECQAACBIAABAkAAAgSAAAQJAAAIAgAQAAQQIAAIIEAAAECQAACBIAABAkAAAgSAAAQJAAAIAgAQAAQQIAAIIEAAAECQAACBIAABAkAAAgSAAAQNA3kIek+Ceji1kAAAAASUVORK5CYII=\"></div><div style=\"vertical-align: middle; max-width: 514px; display: flex; justify-content: space-between;\"><div style=\"float: left;\"><div title=\"#0b28d0ff\" style=\"display: inline-block; width: 1em; height: 1em; margin: 0; vertical-align: middle; border: 1px solid #555; background-color: #0b28d0ff;\"></div> under</div><div style=\"margin: 0 auto; display: inline-block;\">bad <div title=\"#00000000\" style=\"display: inline-block; width: 1em; height: 1em; margin: 0; vertical-align: middle; border: 1px solid #555; background-color: #00000000;\"></div></div><div style=\"float: right;\">over <div title=\"#242531ff\" style=\"display: inline-block; width: 1em; height: 1em; margin: 0; vertical-align: middle; border: 1px solid #555; background-color: #242531ff;\"></div></div>"
      ],
      "text/plain": [
       "<matplotlib.colors.LinearSegmentedColormap at 0x29fddfa0dd0>"
      ]
     },
     "execution_count": 5,
     "metadata": {},
     "output_type": "execute_result"
    }
   ],
   "source": [
    "palette_b = sns.dark_palette(\"#0B28D0\", reverse=True, as_cmap=True)\n",
    "palette_b"
   ]
  },
  {
   "cell_type": "code",
   "execution_count": 6,
   "metadata": {},
   "outputs": [
    {
     "data": {
      "text/html": [
       "<svg  width=\"550\" height=\"55\"><rect x=\"0\" y=\"0\" width=\"55\" height=\"55\" style=\"fill:#242531;stroke-width:2;stroke:rgb(255,255,255)\"/><rect x=\"55\" y=\"0\" width=\"55\" height=\"55\" style=\"fill:#212543;stroke-width:2;stroke:rgb(255,255,255)\"/><rect x=\"110\" y=\"0\" width=\"55\" height=\"55\" style=\"fill:#1f2554;stroke-width:2;stroke:rgb(255,255,255)\"/><rect x=\"165\" y=\"0\" width=\"55\" height=\"55\" style=\"fill:#1c2666;stroke-width:2;stroke:rgb(255,255,255)\"/><rect x=\"220\" y=\"0\" width=\"55\" height=\"55\" style=\"fill:#192678;stroke-width:2;stroke:rgb(255,255,255)\"/><rect x=\"275\" y=\"0\" width=\"55\" height=\"55\" style=\"fill:#16278a;stroke-width:2;stroke:rgb(255,255,255)\"/><rect x=\"330\" y=\"0\" width=\"55\" height=\"55\" style=\"fill:#13279b;stroke-width:2;stroke:rgb(255,255,255)\"/><rect x=\"385\" y=\"0\" width=\"55\" height=\"55\" style=\"fill:#1127ad;stroke-width:2;stroke:rgb(255,255,255)\"/><rect x=\"440\" y=\"0\" width=\"55\" height=\"55\" style=\"fill:#0e28bf;stroke-width:2;stroke:rgb(255,255,255)\"/><rect x=\"495\" y=\"0\" width=\"55\" height=\"55\" style=\"fill:#0b28d0;stroke-width:2;stroke:rgb(255,255,255)\"/></svg>"
      ],
      "text/plain": [
       "[(0.14217064351973224, 0.14390410693260464, 0.19354284782618525),\n",
       " (0.13129638908327107, 0.14532701622135824, 0.26185663585419044),\n",
       " (0.12042213464680988, 0.14674992551011184, 0.33017042388219564),\n",
       " (0.10915951398047509, 0.1482236529877495, 0.4009239900540581),\n",
       " (0.0982852595440139, 0.1496465622765031, 0.4692377780820633),\n",
       " (0.08702263887767911, 0.15112028975414074, 0.5399913442539259),\n",
       " (0.07614838444121794, 0.15254319904289435, 0.6083051322819311),\n",
       " (0.06488576377488314, 0.154016926520532, 0.6790586984537935),\n",
       " (0.05401150933842197, 0.1554398358092856, 0.7473724864817987),\n",
       " (0.043137254901960784, 0.1568627450980392, 0.8156862745098039)]"
      ]
     },
     "execution_count": 6,
     "metadata": {},
     "output_type": "execute_result"
    }
   ],
   "source": [
    "# Colour palette for the various graphics\n",
    "n_colors = 10\n",
    "palette_map = sns.color_palette(\"dark:#0B28D0\", n_colors=n_colors,as_cmap=False)\n",
    "palette_map"
   ]
  },
  {
   "cell_type": "markdown",
   "metadata": {},
   "source": [
    "### **0.2 - Normalisation de l'affichage des graphiques**"
   ]
  },
  {
   "cell_type": "code",
   "execution_count": 7,
   "metadata": {},
   "outputs": [],
   "source": [
    "# Defines display options for rows and columns\n",
    "pd.set_option('display.max_row',100)\n",
    "pd.set_option('display.max_column',100)"
   ]
  },
  {
   "cell_type": "code",
   "execution_count": 8,
   "metadata": {},
   "outputs": [],
   "source": [
    "# Defines title formatting\n",
    "plt.rcParams['axes.titlesize'] = 16\n",
    "plt.rcParams['axes.titlecolor'] = '#000'\n",
    "plt.rcParams['axes.titlepad'] = 20\n",
    "# Defines axis formatting\n",
    "plt.rcParams['axes.labelsize'] = 10\n",
    "plt.rcParams['axes.labelcolor'] = '#EDAD01'\n",
    "#Defines scale formatting\n",
    "plt.rcParams['xtick.labelsize'] = 8\n",
    "plt.rcParams['ytick.labelsize'] = 8 \n",
    "plt.rcParams['xtick.color'] = '#333'\n",
    "plt.rcParams['ytick.color'] = '#333'"
   ]
  },
  {
   "cell_type": "code",
   "execution_count": 9,
   "metadata": {},
   "outputs": [],
   "source": [
    "sns.set_theme(style=\"whitegrid\", context=\"notebook\", font_scale=1.2,\n",
    "              rc={\"axes.titlesize\":16, \n",
    "                  \"axes.labelsize\":10, \n",
    "                  \"xtick.labelsize\":8, \n",
    "                  \"ytick.labelsize\":8, \n",
    "                  \"xtick.color\":\"#333\", \n",
    "                  \"ytick.color\":\"#333\", \n",
    "                  \"axes.titlecolor\":\"#000\", \n",
    "                  \"axes.labelcolor\":\"#EDAD01\"\n",
    "                  })"
   ]
  },
  {
   "cell_type": "markdown",
   "metadata": {},
   "source": [
    "## **1. Traitement des données**\n",
    "***"
   ]
  },
  {
   "cell_type": "code",
   "execution_count": 10,
   "metadata": {},
   "outputs": [
    {
     "data": {
      "text/html": [
       "<div>\n",
       "<style scoped>\n",
       "    .dataframe tbody tr th:only-of-type {\n",
       "        vertical-align: middle;\n",
       "    }\n",
       "\n",
       "    .dataframe tbody tr th {\n",
       "        vertical-align: top;\n",
       "    }\n",
       "\n",
       "    .dataframe thead th {\n",
       "        text-align: right;\n",
       "    }\n",
       "</style>\n",
       "<table border=\"1\" class=\"dataframe\">\n",
       "  <thead>\n",
       "    <tr style=\"text-align: right;\">\n",
       "      <th></th>\n",
       "      <th>customer_unique_id</th>\n",
       "      <th>review_score</th>\n",
       "      <th>payment_installments</th>\n",
       "      <th>payment_sequential</th>\n",
       "      <th>average_price</th>\n",
       "      <th>average_freight_value</th>\n",
       "      <th>average_product_weight_g</th>\n",
       "      <th>product_volume_cm3</th>\n",
       "      <th>nb_product_per_order</th>\n",
       "      <th>days_since_last_order</th>\n",
       "      <th>nb_orders_per_customer</th>\n",
       "    </tr>\n",
       "  </thead>\n",
       "  <tbody>\n",
       "    <tr>\n",
       "      <th>1469</th>\n",
       "      <td>03f73fe651d978936b253769873bc2e9</td>\n",
       "      <td>5.0</td>\n",
       "      <td>2.0</td>\n",
       "      <td>1.0</td>\n",
       "      <td>72.99</td>\n",
       "      <td>88.02</td>\n",
       "      <td>7500.0</td>\n",
       "      <td>30866.0</td>\n",
       "      <td>1.0</td>\n",
       "      <td>44.0</td>\n",
       "      <td>1.0</td>\n",
       "    </tr>\n",
       "  </tbody>\n",
       "</table>\n",
       "</div>"
      ],
      "text/plain": [
       "                    customer_unique_id  review_score  payment_installments  \\\n",
       "1469  03f73fe651d978936b253769873bc2e9           5.0                   2.0   \n",
       "\n",
       "      payment_sequential  average_price  average_freight_value  \\\n",
       "1469                 1.0          72.99                  88.02   \n",
       "\n",
       "      average_product_weight_g  product_volume_cm3  nb_product_per_order  \\\n",
       "1469                    7500.0             30866.0                   1.0   \n",
       "\n",
       "      days_since_last_order  nb_orders_per_customer  \n",
       "1469                   44.0                     1.0  "
      ]
     },
     "execution_count": 10,
     "metadata": {},
     "output_type": "execute_result"
    }
   ],
   "source": [
    "df.sample(1)"
   ]
  },
  {
   "cell_type": "markdown",
   "metadata": {},
   "source": [
    "La colonne `customer_unique_id` est supprimée pour le clustering."
   ]
  },
  {
   "cell_type": "code",
   "execution_count": 11,
   "metadata": {},
   "outputs": [],
   "source": [
    "df = df.drop(columns=\"customer_unique_id\")"
   ]
  },
  {
   "cell_type": "markdown",
   "metadata": {},
   "source": [
    "Les données sont normalisées à 2 chiffres après la virgule."
   ]
  },
  {
   "cell_type": "code",
   "execution_count": 12,
   "metadata": {},
   "outputs": [],
   "source": [
    "df = df.round(2)"
   ]
  },
  {
   "cell_type": "markdown",
   "metadata": {},
   "source": [
    "Et les types des données est vérifié avant le clustering."
   ]
  },
  {
   "cell_type": "code",
   "execution_count": 13,
   "metadata": {},
   "outputs": [
    {
     "data": {
      "text/plain": [
       "review_score                float64\n",
       "payment_installments        float64\n",
       "payment_sequential          float64\n",
       "average_price               float64\n",
       "average_freight_value       float64\n",
       "average_product_weight_g    float64\n",
       "product_volume_cm3          float64\n",
       "nb_product_per_order        float64\n",
       "days_since_last_order       float64\n",
       "nb_orders_per_customer      float64\n",
       "dtype: object"
      ]
     },
     "execution_count": 13,
     "metadata": {},
     "output_type": "execute_result"
    }
   ],
   "source": [
    "df.dtypes"
   ]
  },
  {
   "cell_type": "markdown",
   "metadata": {},
   "source": [
    "## **2. Clustering**\n",
    "***"
   ]
  },
  {
   "cell_type": "markdown",
   "metadata": {},
   "source": [
    "Le clustering est testé dans un premier temps à partir des données minimales d'une segmentation RFM (Récence,Fréquence,Montant) + `review_score`.\n",
    "\n",
    "Cette segmentation n'ayant pas permit une dichotomie des clients suffisamment pertinente, la variable `payment_installments` a été ajouté aux données."
   ]
  },
  {
   "cell_type": "code",
   "execution_count": 14,
   "metadata": {},
   "outputs": [],
   "source": [
    "df_cluster = df[[\"review_score\",\"payment_installments\",\"average_price\",\"days_since_last_order\",\"nb_orders_per_customer\"]]"
   ]
  },
  {
   "cell_type": "markdown",
   "metadata": {},
   "source": [
    "Il est interessant d'observer les associations entre les variables avant le clustering puisque la présence de variables avec une corrélation forte signifie potentiellement que l'ont apporte une même information, ce qui peut être contre-productif pour une segmentation."
   ]
  },
  {
   "cell_type": "code",
   "execution_count": 15,
   "metadata": {},
   "outputs": [
    {
     "data": {
      "image/png": "[encoded data removed]",
      "text/plain": [
       "<Figure size 1200x400 with 2 Axes>"
      ]
     },
     "metadata": {},
     "output_type": "display_data"
    }
   ],
   "source": [
    "# Analysis of correlations between variables\n",
    "plt.figure(figsize=(12,4))\n",
    "sns.heatmap(df_cluster.corr(method=\"spearman\"), center=0, cmap=heatmap_color, annot=True, annot_kws={'size': 9})\n",
    "plt.title('Analyse de corrélation entre les indicateurs numériques\\n(r de Spearman)')\n",
    "plt.show()"
   ]
  },
  {
   "cell_type": "markdown",
   "metadata": {},
   "source": [
    "Globalement, les données ne présentent pas d'association à l'exception d'une légère association entre les variables `average_price` et `payment_installments`.\n",
    "\n",
    "Les données sont centrées et réduites (moyenne=0; Ecart-type=1) afin d'être utilisées pour les différentes méthodes de clustering."
   ]
  },
  {
   "cell_type": "code",
   "execution_count": 16,
   "metadata": {},
   "outputs": [],
   "source": [
    "sc = StandardScaler()\n",
    "X = sc.fit_transform(df_cluster)"
   ]
  },
  {
   "cell_type": "markdown",
   "metadata": {},
   "source": [
    "### **2.1   K-Means**"
   ]
  },
  {
   "cell_type": "markdown",
   "metadata": {},
   "source": [
    "La méthode des KMeans est testé dans un premier temps. \n",
    "\n",
    "Cette méthode consiste a sélectionner aléatoirement k points de données (k=nb de cluster) comme centroïdes et d'attribuer chaque point de données à l'un d'eux. Cela se fait en calculant la distance entre le point de données et chaque centroïde. Puis les positions des centroïdes K sont recalculés. Le nouveau centroïde d'un cluster est calculé en prenant la moyenne de tous les points de données dans le cluster."
   ]
  },
  {
   "cell_type": "markdown",
   "metadata": {},
   "source": [
    "#### **2.1-1   Mesure de Qualité**"
   ]
  },
  {
   "cell_type": "markdown",
   "metadata": {},
   "source": [
    "Pour effectuer un clustering il est nécessaire de mentionner le nombre de cluster que l'on souhaite obtenir. Afin de définir ce nombre de manière optimale il faut utiliser des indices qui permettent de mesurer la qualité des clusters."
   ]
  },
  {
   "cell_type": "markdown",
   "metadata": {},
   "source": [
    "##### **Indice de Davies-Bouldin**"
   ]
  },
  {
   "cell_type": "markdown",
   "metadata": {},
   "source": [
    "Cet indice compare la moyenne des distances intra-cluster avec les distances entre les centroïdes des clusters (mesurant la séparation des clusters). Un indice de Davies-Bouldin plus faible indique un meilleur clustering, car il signifie que les clusters sont plus compacts et mieux séparés.\n",
    "\n",
    "L'indice de Davin-Bouldin est calculé pour un clusetering allant de 2 à 10 clusters. "
   ]
  },
  {
   "cell_type": "code",
   "execution_count": 17,
   "metadata": {},
   "outputs": [
    {
     "name": "stdout",
     "output_type": "stream",
     "text": [
      "[1.6110071982533045, 1.23163869541353, 1.1919636711000252, 1.0043660630951332, 0.8973376301983434, 1.0183787500665182, 1.1268192955028655, 1.1836261512153825]\n"
     ]
    }
   ],
   "source": [
    "score_bouldin = []\n",
    "\n",
    "for n_clust in range(2,10):\n",
    " # Clustering par K-means avec initialisation K-means++\n",
    " km = KMeans(n_clusters=n_clust, n_init=\"auto\", random_state=42)\n",
    " km.fit(X)\n",
    " # Récupération des clusters attribués à chaque individu\n",
    " clusters = km.labels_\n",
    " # Application de la mesure Davies Bouldin\n",
    " score_bouldin.append(davies_bouldin_score(X, km.labels_))\n",
    "\n",
    "print(score_bouldin)"
   ]
  },
  {
   "cell_type": "markdown",
   "metadata": {},
   "source": [
    "Les résultats montrent qu'un nombre de 6 clusters serait optimal pour la segmentation des clients. "
   ]
  },
  {
   "cell_type": "code",
   "execution_count": 18,
   "metadata": {},
   "outputs": [
    {
     "data": {
      "image/png": "[encoded data removed]",
      "text/plain": [
       "<Figure size 1200x400 with 1 Axes>"
      ]
     },
     "metadata": {},
     "output_type": "display_data"
    }
   ],
   "source": [
    "#Analyse des regroupements de clusters\n",
    "plt.figure(figsize=(12,4))\n",
    "plt.plot(range(2,10), score_bouldin)\n",
    "plt.title('Analyse de la qualité des partitions/clusters\\n(davies bouldin)')\n",
    "plt.xlabel(\"Nombre de cluster\")\n",
    "plt.ylabel(\"Indice de Davies-Bouldin\")\n",
    "plt.show()"
   ]
  },
  {
   "cell_type": "markdown",
   "metadata": {},
   "source": [
    "##### **Indice de Silhouette**"
   ]
  },
  {
   "cell_type": "code",
   "execution_count": null,
   "metadata": {},
   "outputs": [],
   "source": [
    "\"\"\"score_silhouette = []\n",
    "\n",
    "for n_clust in range(2,10):\n",
    " # Clustering par K-means avec initialisation K-means++\n",
    " km = KMeans(n_clusters=n_clust, init='k-means++', n_init='auto', random_state=42, verbose=1)\n",
    " km.fit(X)\n",
    " # Récupération des clusters attribués à chaque individu\n",
    " clusters = km.labels_\n",
    " # Application de la mesure Silhouette\n",
    " score_silhouette.append(silhouette_score(X, km.labels_))\n",
    " print(\"silhouette terminé\")\n",
    "\n",
    "print(score_silhouette)\"\"\""
   ]
  },
  {
   "cell_type": "code",
   "execution_count": null,
   "metadata": {},
   "outputs": [],
   "source": [
    "#Analyse des regroupements de clusters\n",
    "plt.figure(figsize=(12,4))\n",
    "plt.plot(range(2,10), score_silhouette)\n",
    "plt.title('Analyse de la qualité des partitions/clusters\\n(silhouette)')\n",
    "plt.xlabel(\"Nombre de cluster\")\n",
    "plt.ylabel(\"Indice de Silhouette\")\n",
    "plt.show()"
   ]
  },
  {
   "cell_type": "markdown",
   "metadata": {},
   "source": [
    "##### **4.1-2   Analyse des clusters**"
   ]
  },
  {
   "cell_type": "code",
   "execution_count": null,
   "metadata": {},
   "outputs": [],
   "source": [
    "#Instanciation du nombre de clusters\n",
    "n_clust = 5\n",
    "#Instanciation du clustering k-means\n",
    "km = KMeans(n_clusters=n_clust, n_init=\"auto\", random_state=42)\n",
    "#Application du K-means sur le data set\n",
    "km.fit(X)\n",
    "#Récupération des clusters attribués à chaque individu\n",
    "clusters = km.labels_"
   ]
  },
  {
   "cell_type": "code",
   "execution_count": null,
   "metadata": {},
   "outputs": [],
   "source": [
    "#Instanciation du df suite clustering\n",
    "df_kmean = pd.DataFrame(X, columns=df_cluster.columns)\n",
    "#Ajout de la colonne clusters + Remplissage avec le n° cluster correspondant\n",
    "df_kmean['clusters'] = clusters\n",
    "#print(df_kmean)"
   ]
  },
  {
   "cell_type": "code",
   "execution_count": null,
   "metadata": {},
   "outputs": [],
   "source": [
    "#Moyenne des composantes par clusters\n",
    "centroide_kmean = df_kmean.groupby(by='clusters').mean()"
   ]
  },
  {
   "cell_type": "code",
   "execution_count": null,
   "metadata": {},
   "outputs": [],
   "source": [
    "#Création du heatmap pour observer les différents clusters et composantes\n",
    "plt.figure(figsize=(14,4))\n",
    "sns.heatmap(centroide_kmean, center=0, cmap=heatmap_color, annot=True, annot_kws={'size': 9})\n",
    "plt.title('K-Means - Analyse des clusters selon les indicateurs\\n')\n",
    "plt.ylabel('Clusters')\n",
    "plt.show()"
   ]
  },
  {
   "cell_type": "markdown",
   "metadata": {},
   "source": [
    "Analyse des clusters"
   ]
  },
  {
   "cell_type": "code",
   "execution_count": null,
   "metadata": {},
   "outputs": [],
   "source": [
    "fig, axs = plt.subplots(1, 5, figsize=(18, 4))\n",
    "plt.suptitle(\"Distribution des varibales par clusters\")\n",
    "\n",
    "for ax, column in zip(axs.flatten(), df_kmean.drop(columns=\"clusters\").columns):\n",
    "    sns.boxplot(x='clusters', y=column, data=df_kmean, ax=ax)\n",
    "    \n",
    "\n",
    "plt.tight_layout()\n",
    "plt.show()"
   ]
  },
  {
   "cell_type": "markdown",
   "metadata": {},
   "source": [
    "days_since_last_order = cluster 0 -> client les plus récent, plus le chiffre est bas, plus le client est récent."
   ]
  },
  {
   "cell_type": "markdown",
   "metadata": {},
   "source": []
  },
  {
   "cell_type": "code",
   "execution_count": null,
   "metadata": {},
   "outputs": [],
   "source": [
    "# Pour afficher les individus, adapter pour représenter graphiquement les clusters\n",
    "\n",
    "\"\"\"import matplotlib.pyplot as plt\n",
    "import seaborn as sns\n",
    "\n",
    "fig, axs = plt.subplots(2, 2, figsize=(14,10))\n",
    "\n",
    "# 1er plan factoriel\n",
    "scatter1 = axs[0, 0].scatter(x=coord[:, 0], y=coord[:, 1], c=df_customers.nb_orders_per_customer, s=6)\n",
    "axs[0, 0].set_title(\"1er plan factoriel\")\n",
    "fig.colorbar(scatter1, ax=axs[0, 0])\n",
    "\n",
    "# 2e plan factoriel\n",
    "scatter2 = axs[0, 1].scatter(x=coord[:, 2], y=coord[:, 3], c=df_customers.nb_orders_per_customer, s=6)\n",
    "axs[0, 1].set_title(\"2e plan factoriel\")\n",
    "fig.colorbar(scatter2, ax=axs[0, 1])\n",
    "\n",
    "# 3e plan factoriel\n",
    "scatter3 = axs[1, 0].scatter(x=coord[:, 4], y=coord[:, 5], c=df_customers.nb_orders_per_customer, s=6)\n",
    "axs[1, 0].set_title(\"3e plan factoriel\")\n",
    "fig.colorbar(scatter3, ax=axs[1, 0])\n",
    "\n",
    "# 4e plan factoriel\n",
    "scatter4 = axs[1, 1].scatter(x=coord[:, 6], y=coord[:, 7], c=df_customers.nb_orders_per_customer, s=6)\n",
    "axs[1, 1].set_title(\"4e plan factoriel\")\n",
    "fig.colorbar(scatter4, ax=axs[1, 1])\n",
    "\n",
    "plt.tight_layout()\n",
    "plt.show()\"\"\""
   ]
  },
  {
   "cell_type": "markdown",
   "metadata": {},
   "source": [
    "#### **4.2   CAH - Classification Ascendante Hiérarchique**"
   ]
  },
  {
   "cell_type": "code",
   "execution_count": null,
   "metadata": {},
   "outputs": [],
   "source": [
    "# Instanciation du nombre de clusters\n",
    "n_clust = 10000\n",
    "# Instanciation du clustering k-means\n",
    "km = KMeans(n_clusters=n_clust, n_init=\"auto\", random_state=42)\n",
    "# Application du K-means sur le data set\n",
    "km.fit(X)\n",
    "# Récupération des clusters attribués à chaque individu\n",
    "clusters = km.labels_"
   ]
  },
  {
   "cell_type": "code",
   "execution_count": null,
   "metadata": {},
   "outputs": [],
   "source": [
    "# Instanciation du df suite clustering\n",
    "df_kmean = pd.DataFrame(X, columns=df_cluster.columns)\n",
    "# Ajout de la colonne clusters + Remplissage avec le n° cluster correspondant\n",
    "df_kmean['clusters'] = clusters"
   ]
  },
  {
   "cell_type": "code",
   "execution_count": null,
   "metadata": {},
   "outputs": [],
   "source": [
    "# Moyenne des composantes par clusters\n",
    "centroide_kmean = df_kmean.groupby(by='clusters').mean()"
   ]
  },
  {
   "cell_type": "code",
   "execution_count": null,
   "metadata": {},
   "outputs": [],
   "source": [
    "# Transformation - Centrage-Réduction / Mise à l'échelle (moyenne=0; Ecart-type=1)\n",
    "X = sc.fit_transform(centroide_kmean)"
   ]
  },
  {
   "cell_type": "code",
   "execution_count": null,
   "metadata": {},
   "outputs": [],
   "source": [
    "#Préparation des données pour le clustering\n",
    "names = centroide_kmean.index.values"
   ]
  },
  {
   "cell_type": "code",
   "execution_count": null,
   "metadata": {},
   "outputs": [],
   "source": [
    "#Clustering hiérarchique\n",
    "Z = linkage(X, 'ward')"
   ]
  },
  {
   "cell_type": "code",
   "execution_count": null,
   "metadata": {},
   "outputs": [],
   "source": [
    "#Mesure de similarité intercluster - Mesure de qualité d'une partition d'un ensemble de données\n",
    "score = []\n",
    "\n",
    "for n_clust in range(2,10):\n",
    "  #Clustering par classification hiérarchique\n",
    "  clusters = fcluster(Z, n_clust, criterion='maxclust')\n",
    "  #Application de la mesure Davies Bouldin\n",
    "  score.append(davies_bouldin_score(X, clusters))\n",
    "\n",
    "print(score)"
   ]
  },
  {
   "cell_type": "code",
   "execution_count": null,
   "metadata": {},
   "outputs": [],
   "source": [
    "#Analyse des regroupements de clusters\n",
    "plt.figure(figsize=(14,4))\n",
    "plt.plot(range(2,10), score)\n",
    "plt.title('Analyse de la qualité des partitions/clusters\\n')\n",
    "plt.xlabel(\"Nombre de cluster\")\n",
    "plt.ylabel(\"Indice de Davies-Bouldin\")\n",
    "plt.show()"
   ]
  },
  {
   "cell_type": "code",
   "execution_count": null,
   "metadata": {},
   "outputs": [],
   "source": [
    "#Affichage du dendrogramme\n",
    "plt.figure(figsize=(10,25))\n",
    "dendrogram(Z,labels=names,orientation='left',color_threshold=54, above_threshold_color='#bcbddc')\n",
    "plt.title('CAH avec matérialisation des 8 classes\\n')\n",
    "plt.xlabel('Distance')\n",
    "plt.ylabel('Classes')\n",
    "plt.show()"
   ]
  },
  {
   "cell_type": "code",
   "execution_count": null,
   "metadata": {},
   "outputs": [],
   "source": [
    "# Coupage du dendrogramme en 5 clusters\n",
    "clusters = fcluster(Z, 8, criterion='maxclust')\n",
    "#Instanciation du df\n",
    "df_cah = pd.DataFrame(X, columns=centroide_kmean.columns)\n",
    "#Ajout de la colonne clusters + Remplissage avec le n cluster correspondant\n",
    "df_cah['clusters'] = clusters\n",
    "#print(df_cah)"
   ]
  },
  {
   "cell_type": "code",
   "execution_count": null,
   "metadata": {},
   "outputs": [],
   "source": [
    "#Moyenne des composantes par clusters\n",
    "centroids = df_cah.groupby(by='clusters').mean()"
   ]
  },
  {
   "cell_type": "code",
   "execution_count": null,
   "metadata": {},
   "outputs": [],
   "source": [
    "#Observation du 1er plan factoriel avec représentation des individus par clusters\n",
    "plt.figure(figsize=(10,6), dpi=80)\n",
    "pca = decomposition.PCA(n_components=3).fit(X)\n",
    "X_projected = pca.transform(X)\n",
    "#centroids = km.cluster_centers_\n",
    "centroids_projected = pca.transform(centroids)\n",
    "plt.scatter(centroids_projected[:,0],centroids_projected[:,1], label='Centroide', c='red')\n",
    "plt.scatter(X_projected[:,0], X_projected[:,1], c=clusters.astype(float), alpha=.8, cmap=(mpl.colors.ListedColormap(['pink', 'green', 'blue', 'cyan', 'black', 'brown'])))\n",
    "plt.colorbar()\n",
    "plt.title(\"Projection des {} centres sur le 1e plan factoriel\\n\".format(len(centroids)), fontsize=18, color='#AA2D21')\n",
    "plt.xticks(color='#36281B')\n",
    "plt.yticks(color='#36281B')\n",
    "plt.legend()\n",
    "plt.show()"
   ]
  },
  {
   "cell_type": "code",
   "execution_count": null,
   "metadata": {},
   "outputs": [],
   "source": [
    "#Création du heatmap pour observer les différents clusters et composantes\n",
    "plt.figure(figsize=(14,4))\n",
    "sns.heatmap(centroids, center=0, cmap=heatmap_color, annot=True, annot_kws={'size': 9})\n",
    "plt.title('CAH - Analyse des clusters selon les indicateurs\\n')\n",
    "plt.ylabel('Clusters')\n",
    "plt.show()"
   ]
  },
  {
   "cell_type": "code",
   "execution_count": null,
   "metadata": {},
   "outputs": [],
   "source": [
    "df_cah"
   ]
  },
  {
   "cell_type": "code",
   "execution_count": null,
   "metadata": {},
   "outputs": [],
   "source": [
    "fig, axs = plt.subplots(1, 5, figsize=(18, 4))\n",
    "plt.suptitle(\"Distribution des varibales par clusters\")\n",
    "\n",
    "for ax, column in zip(axs.flatten(), df_cah.drop(columns=\"clusters\").columns):\n",
    "    sns.boxplot(x='clusters', y=column, data=df_kmean, ax=ax)\n",
    "    \n",
    "\n",
    "plt.tight_layout()\n",
    "plt.show()"
   ]
  },
  {
   "cell_type": "markdown",
   "metadata": {},
   "source": [
    "#### **4.3   DBSCAN**"
   ]
  },
  {
   "cell_type": "markdown",
   "metadata": {},
   "source": [
    "tester avec min_samples=100 et surtout faire une boucle pour teser plusieurs paramètre (type daviesbouldin)."
   ]
  },
  {
   "cell_type": "code",
   "execution_count": null,
   "metadata": {},
   "outputs": [],
   "source": [
    "data_scaled = sc.fit_transform(df)"
   ]
  },
  {
   "cell_type": "code",
   "execution_count": null,
   "metadata": {},
   "outputs": [],
   "source": [
    "dbscan = DBSCAN(eps=0.5, min_samples=5)\n",
    "dbscan.fit(data_scaled)\n",
    "df['cluster'] = dbscan.labels_"
   ]
  },
  {
   "cell_type": "code",
   "execution_count": null,
   "metadata": {},
   "outputs": [],
   "source": [
    "df[\"cluster\"].value_counts()"
   ]
  },
  {
   "cell_type": "markdown",
   "metadata": {},
   "source": [
    "---\n",
    "\n",
    "Recommencer dendogrammme avec AgglomerativeClustering pour automatiser le découpage à 8 clusters\n",
    "Tester un nombre de cluster supérieur pour la curiosité\n",
    "\n"
   ]
  }
 ],
 "metadata": {
  "kernelspec": {
   "display_name": "Python 3",
   "language": "python",
   "name": "python3"
  },
  "language_info": {
   "codemirror_mode": {
    "name": "ipython",
    "version": 3
   },
   "file_extension": ".py",
   "mimetype": "text/x-python",
   "name": "python",
   "nbconvert_exporter": "python",
   "pygments_lexer": "ipython3",
   "version": "3.11.3"
  }
 },
 "nbformat": 4,
 "nbformat_minor": 2
}
