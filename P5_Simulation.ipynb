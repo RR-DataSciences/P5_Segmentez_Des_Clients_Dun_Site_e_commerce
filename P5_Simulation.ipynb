{
 "cells": [
  {
   "cell_type": "markdown",
   "metadata": {},
   "source": [
    "# **Projet 5 - <span style=\"color:#1d479b\">Segmentez les clients d'un site e-commerce</span>**\n",
    "---"
   ]
  },
  {
   "cell_type": "markdown",
   "metadata": {},
   "source": [
    "**<span style=\"color:#1d479b\">Objectif de la mission:</span>**\n",
    "* Fournir une **segmentation des clients** afin d'apporter des informations supplémentaires aux équipes pour leurs campagnes de communication.\n",
    "* **Comprendre les différents types d’utilisateurs** grâce à leur comportement et à leurs données personnelles.\n",
    "* Fournir une **description actionable de la segmentation** et de sa logique sous-jacente pour une utilisation optimale.\n",
    "* Proposition de **contrat de maintenance basée sur une analyse de la stabilité** des segments au cours du temps.."
   ]
  },
  {
   "cell_type": "markdown",
   "metadata": {},
   "source": [
    "## **0. Importation des librairies et des données**\n",
    "---"
   ]
  },
  {
   "cell_type": "code",
   "execution_count": 1,
   "metadata": {},
   "outputs": [],
   "source": [
    "# Importing libraries\n",
    "import pandas as pd\n",
    "import numpy as np\n",
    "import seaborn as sns\n",
    "import matplotlib.pyplot as plt\n",
    "import matplotlib.colors as mcolors\n",
    "# ---\n",
    "#scikit-learn\n",
    "from sklearn.preprocessing import StandardScaler, PowerTransformer, QuantileTransformer\n",
    "#classe pour l'ACP\n",
    "from sklearn.cluster import KMeans\n",
    "from sklearn import decomposition\n",
    "from sklearn.metrics import davies_bouldin_score, silhouette_score, adjusted_rand_score\n",
    "from sklearn.cluster import AgglomerativeClustering, DBSCAN\n",
    "#Classes pour le clustering\n",
    "from scipy.cluster import hierarchy\n",
    "from scipy.cluster.hierarchy import dendrogram, linkage, fcluster"
   ]
  },
  {
   "cell_type": "code",
   "execution_count": 2,
   "metadata": {},
   "outputs": [],
   "source": [
    "path_customers = \"C:/Users/remid/Documents/_OC_ParcoursDataScientist/P5_Segmentez_Des_Clients_Dun_Site_e_commerce/df_maintenance.csv\"\n",
    "df_maintenance = pd.read_csv(path_customers, sep=\",\")\n",
    "df = df_maintenance.copy()"
   ]
  },
  {
   "cell_type": "markdown",
   "metadata": {},
   "source": [
    "### **0.1 - Définition de la charte graphique**"
   ]
  },
  {
   "cell_type": "code",
   "execution_count": 3,
   "metadata": {},
   "outputs": [
    {
     "data": {
      "text/plain": [
       "['#00317a', '#1d479b', '#FFF', '#F1F1F1', '#333', '#000']"
      ]
     },
     "execution_count": 3,
     "metadata": {},
     "output_type": "execute_result"
    }
   ],
   "source": [
    "[\"#00317a\",\"#1d479b\",\"#FFF\",\"#F1F1F1\",\"#333\",\"#000\"]"
   ]
  },
  {
   "cell_type": "code",
   "execution_count": 4,
   "metadata": {},
   "outputs": [
    {
     "data": {
      "image/png": "[encoded data removed]",
      "text/html": [
       "<div style=\"vertical-align: middle;\"><strong>custom_colormap</strong> </div><div class=\"cmap\"><img alt=\"custom_colormap colormap\" title=\"custom_colormap\" style=\"border: 1px solid #555;\" src=\"data:image/png;base64,iVBORw0KGgoAAAANSUhEUgAAAgAAAABACAYAAABsv8+/AAAAHnRFWHRUaXRsZQBjdXN0b21fY29sb3JtYXAgY29sb3JtYXB5JmvcAAAAJHRFWHREZXNjcmlwdGlvbgBjdXN0b21fY29sb3JtYXAgY29sb3JtYXCzmoKzAAAAMHRFWHRBdXRob3IATWF0cGxvdGxpYiB2My43LjEsIGh0dHBzOi8vbWF0cGxvdGxpYi5vcmcqr/hNAAAAMnRFWHRTb2Z0d2FyZQBNYXRwbG90bGliIHYzLjcuMSwgaHR0cHM6Ly9tYXRwbG90bGliLm9yZwQJZ2oAAAHISURBVHic7dZBbsIwAADBAP9/MqEH2ipt3BgQp+7MCTnYODGgPS3Lcls+nc/n5ffry+Xy0Nh27tf10di71pmt/co6R/t61zrPrP2OM3jXOs7yf57lcjp9v1zX+1/Bdb1txtYf17bXx2Prbmz73umc2/59R/ua72c/Z7Sv0dh9P/v7P5pz3ezr6J5nc6bPbrCv+X09e5bbscl9Dc7tOvi86fN+cI+Hz+7219r779vxWT727GZzRvt55bcz/k688DvY7GfzTwAAVAgAAAgSAAAQJAAAIEgAAECQAACAIAEAAEECAACCBAAABAkAAAgSAAAQJAAAIEgAAECQAACAIAEAAEECAACCBAAABAkAAAgSAAAQJAAAIEgAAECQAACAIAEAAEECAACCBAAABAkAAAgSAAAQJAAAIEgAAECQAACAIAEAAEECAACCBAAABAkAAAgSAAAQJAAAIEgAAECQAACAIAEAAEECAACCBAAABAkAAAgSAAAQJAAAIEgAAECQAACAIAEAAEECAACCBAAABAkAAAgSAAAQJAAAIEgAAECQAACAIAEAAEECAACCBAAABAkAAAgSAAAQJAAAIEgAAECQAACAIAEAAEEfPaUrOaFj8MsAAAAASUVORK5CYII=\"></div><div style=\"vertical-align: middle; max-width: 514px; display: flex; justify-content: space-between;\"><div style=\"float: left;\"><div title=\"#000000ff\" style=\"display: inline-block; width: 1em; height: 1em; margin: 0; vertical-align: middle; border: 1px solid #555; background-color: #000000ff;\"></div> under</div><div style=\"margin: 0 auto; display: inline-block;\">bad <div title=\"#00000000\" style=\"display: inline-block; width: 1em; height: 1em; margin: 0; vertical-align: middle; border: 1px solid #555; background-color: #00000000;\"></div></div><div style=\"float: right;\">over <div title=\"#00317aff\" style=\"display: inline-block; width: 1em; height: 1em; margin: 0; vertical-align: middle; border: 1px solid #555; background-color: #00317aff;\"></div></div>"
      ],
      "text/plain": [
       "<matplotlib.colors.LinearSegmentedColormap at 0x24839956a50>"
      ]
     },
     "execution_count": 4,
     "metadata": {},
     "output_type": "execute_result"
    }
   ],
   "source": [
    "# Define the heatmap color\n",
    "first_color = \"#000\"\n",
    "under_color = \"#F1F1F1\"\n",
    "over_color = \"#00317a\"\n",
    "# Create a personal color map \n",
    "colors = [first_color,under_color, over_color]\n",
    "n_bins = 200\n",
    "cmap_name = 'custom_colormap'\n",
    "heatmap_color = mcolors.LinearSegmentedColormap.from_list(cmap_name, colors, N=n_bins)\n",
    "heatmap_color"
   ]
  },
  {
   "cell_type": "code",
   "execution_count": 5,
   "metadata": {},
   "outputs": [
    {
     "data": {
      "image/png": "[encoded data removed]",
      "text/html": [
       "<div style=\"vertical-align: middle;\"><strong>blend</strong> </div><div class=\"cmap\"><img alt=\"blend colormap\" title=\"blend\" style=\"border: 1px solid #555;\" src=\"data:image/png;base64,iVBORw0KGgoAAAANSUhEUgAAAgAAAABACAYAAABsv8+/AAAAFHRFWHRUaXRsZQBibGVuZCBjb2xvcm1hcKH0gPAAAAAadEVYdERlc2NyaXB0aW9uAGJsZW5kIGNvbG9ybWFwX6spFgAAADB0RVh0QXV0aG9yAE1hdHBsb3RsaWIgdjMuNy4xLCBodHRwczovL21hdHBsb3RsaWIub3JnKq/4TQAAADJ0RVh0U29mdHdhcmUATWF0cGxvdGxpYiB2My43LjEsIGh0dHBzOi8vbWF0cGxvdGxpYi5vcmcECWdqAAABrklEQVR4nO3WXWqDQBhAUe2Our1u3j6UUIiMf20j9J7zkpD4ocxocufp/WOZpmmalq+Xte3P58G35+dGxz/NrQ47dt3HzzeaO3Z9z+bT6/o47037sazenDzf3+7Hav7k+o7X9ercyX3cXd97nquH1f1+8Hnbf05etB/D+2HvfDfd7zvre/X35/p+7MwN1vfqPv74/2BvbvC8vfr/4PDc8jv7+D2/Pfe2fTUAwH8kAAAgSAAAQJAAAIAgAQAAQQIAAIIEAAAECQAACBIAABAkAAAgSAAAQJAAAIAgAQAAQQIAAIIEAAAECQAACBIAABAkAAAgSAAAQJAAAIAgAQAAQQIAAIIEAAAECQAACBIAABAkAAAgSAAAQJAAAIAgAQAAQQIAAIIEAAAECQAACBIAABAkAAAgSAAAQJAAAIAgAQAAQQIAAIIEAAAECQAACBIAABAkAAAgSAAAQJAAAIAgAQAAQQIAAIIEAAAECQAACBIAABAkAAAgSAAAQJAAAIAgAQAAQQIAAIIEAAAECQAACBIAABAkAAAgSAAAQJAAAIAgAQAAQQIAAIIEAAAEfQJSrlr0ntEHmgAAAABJRU5ErkJggg==\"></div><div style=\"vertical-align: middle; max-width: 514px; display: flex; justify-content: space-between;\"><div style=\"float: left;\"><div title=\"#00317aff\" style=\"display: inline-block; width: 1em; height: 1em; margin: 0; vertical-align: middle; border: 1px solid #555; background-color: #00317aff;\"></div> under</div><div style=\"margin: 0 auto; display: inline-block;\">bad <div title=\"#00000000\" style=\"display: inline-block; width: 1em; height: 1em; margin: 0; vertical-align: middle; border: 1px solid #555; background-color: #00000000;\"></div></div><div style=\"float: right;\">over <div title=\"#24252eff\" style=\"display: inline-block; width: 1em; height: 1em; margin: 0; vertical-align: middle; border: 1px solid #555; background-color: #24252eff;\"></div></div>"
      ],
      "text/plain": [
       "<matplotlib.colors.LinearSegmentedColormap at 0x248377e2dd0>"
      ]
     },
     "execution_count": 5,
     "metadata": {},
     "output_type": "execute_result"
    }
   ],
   "source": [
    "palette_b = sns.dark_palette(\"#00317a\", reverse=True, as_cmap=True)\n",
    "palette_b"
   ]
  },
  {
   "cell_type": "code",
   "execution_count": 6,
   "metadata": {},
   "outputs": [
    {
     "data": {
      "text/html": [
       "<svg  width=\"550\" height=\"55\"><rect x=\"0\" y=\"0\" width=\"55\" height=\"55\" style=\"fill:#24252e;stroke-width:2;stroke:rgb(255,255,255)\"/><rect x=\"55\" y=\"0\" width=\"55\" height=\"55\" style=\"fill:#202736;stroke-width:2;stroke:rgb(255,255,255)\"/><rect x=\"110\" y=\"0\" width=\"55\" height=\"55\" style=\"fill:#1c283f;stroke-width:2;stroke:rgb(255,255,255)\"/><rect x=\"165\" y=\"0\" width=\"55\" height=\"55\" style=\"fill:#182947;stroke-width:2;stroke:rgb(255,255,255)\"/><rect x=\"220\" y=\"0\" width=\"55\" height=\"55\" style=\"fill:#142b50;stroke-width:2;stroke:rgb(255,255,255)\"/><rect x=\"275\" y=\"0\" width=\"55\" height=\"55\" style=\"fill:#102c58;stroke-width:2;stroke:rgb(255,255,255)\"/><rect x=\"330\" y=\"0\" width=\"55\" height=\"55\" style=\"fill:#0c2d61;stroke-width:2;stroke:rgb(255,255,255)\"/><rect x=\"385\" y=\"0\" width=\"55\" height=\"55\" style=\"fill:#082e69;stroke-width:2;stroke:rgb(255,255,255)\"/><rect x=\"440\" y=\"0\" width=\"55\" height=\"55\" style=\"fill:#043072;stroke-width:2;stroke:rgb(255,255,255)\"/><rect x=\"495\" y=\"0\" width=\"55\" height=\"55\" style=\"fill:#00317a;stroke-width:2;stroke:rgb(255,255,255)\"/></svg>"
      ],
      "text/plain": [
       "[(0.13938124775110491, 0.14652229085327886, 0.17972974582003676),\n",
       " (0.12407664015490516, 0.15153314580610608, 0.2125283558138074),\n",
       " (0.1087720325587054, 0.15654400075893327, 0.2453269658075781),\n",
       " (0.09292083183406995, 0.1617338148172186, 0.27929695472969773),\n",
       " (0.0776162242378702, 0.1667446697700458, 0.3120955647234684),\n",
       " (0.06176502351323472, 0.17193448382833112, 0.346065553645588),\n",
       " (0.04646041591703498, 0.1769453387811583, 0.37886416363935865),\n",
       " (0.030609215192399508, 0.18213515283944365, 0.41283415256147826),\n",
       " (0.015304607596199768, 0.18714600779227084, 0.4456327625552489),\n",
       " (0.0, 0.19215686274509805, 0.47843137254901963)]"
      ]
     },
     "execution_count": 6,
     "metadata": {},
     "output_type": "execute_result"
    }
   ],
   "source": [
    "# Colour palette for the various graphics\n",
    "n_colors = 10\n",
    "palette_map = sns.color_palette(\"dark:#00317a\", n_colors=n_colors,as_cmap=False)\n",
    "palette_map"
   ]
  },
  {
   "cell_type": "markdown",
   "metadata": {},
   "source": [
    "### **0.2 - Normalisation de l'affichage des graphiques**"
   ]
  },
  {
   "cell_type": "code",
   "execution_count": 7,
   "metadata": {},
   "outputs": [],
   "source": [
    "# Defines display options for rows and columns\n",
    "pd.set_option('display.max_row',100)\n",
    "pd.set_option('display.max_column',100)"
   ]
  },
  {
   "cell_type": "code",
   "execution_count": 8,
   "metadata": {},
   "outputs": [],
   "source": [
    "# Defines title formatting\n",
    "plt.rcParams['axes.titlesize'] = 16\n",
    "plt.rcParams['axes.titlecolor'] = '#000'\n",
    "plt.rcParams['axes.titlepad'] = 20\n",
    "# Defines axis formatting\n",
    "plt.rcParams['axes.labelsize'] = 10\n",
    "plt.rcParams['axes.labelcolor'] = '#000'\n",
    "#Defines scale formatting\n",
    "plt.rcParams['xtick.labelsize'] = 8\n",
    "plt.rcParams['ytick.labelsize'] = 8 \n",
    "plt.rcParams['xtick.color'] = '#333'\n",
    "plt.rcParams['ytick.color'] = '#333'"
   ]
  },
  {
   "cell_type": "code",
   "execution_count": 9,
   "metadata": {},
   "outputs": [],
   "source": [
    "sns.set_theme(style=\"whitegrid\", context=\"notebook\", font_scale=1.2,\n",
    "              rc={\"axes.titlesize\":16, \n",
    "                  \"axes.labelsize\":10, \n",
    "                  \"xtick.labelsize\":8, \n",
    "                  \"ytick.labelsize\":8, \n",
    "                  \"xtick.color\":\"#333\", \n",
    "                  \"ytick.color\":\"#333\", \n",
    "                  \"axes.titlecolor\":\"#000\", \n",
    "                  \"axes.labelcolor\":\"#000\"\n",
    "                  })"
   ]
  },
  {
   "cell_type": "markdown",
   "metadata": {},
   "source": [
    "## **1. Traitement des données**\n",
    "***"
   ]
  },
  {
   "cell_type": "code",
   "execution_count": 10,
   "metadata": {},
   "outputs": [],
   "source": [
    "df_nb_orders_per_customer = df.groupby(by=\"customer_unique_id\").count()[[\"order_id\"]].reset_index()\n",
    "df_nb_orders_per_customer.rename(columns={\"order_id\":\"nb_orders_per_customer\"}, inplace=True)"
   ]
  },
  {
   "cell_type": "code",
   "execution_count": 11,
   "metadata": {},
   "outputs": [],
   "source": [
    "df['order_purchase_timestamp'] = pd.to_datetime(df['order_purchase_timestamp'])\n",
    "df['year_month'] = df['order_purchase_timestamp'].dt.to_period('M')"
   ]
  },
  {
   "cell_type": "code",
   "execution_count": 12,
   "metadata": {},
   "outputs": [],
   "source": [
    "df.sort_values('year_month', inplace=True)"
   ]
  },
  {
   "cell_type": "code",
   "execution_count": 13,
   "metadata": {},
   "outputs": [],
   "source": [
    "# Convertir 'year_month' en datetime\n",
    "df['year_month'] = df['year_month'].dt.to_timestamp()"
   ]
  },
  {
   "cell_type": "code",
   "execution_count": 14,
   "metadata": {},
   "outputs": [],
   "source": [
    "df.drop(columns=[\"order_id\",\"order_delivered_customer_date\",\"customer_zip_code_prefix\",\"customer_city\",\"days_since_last_order\"], inplace=True)"
   ]
  },
  {
   "cell_type": "markdown",
   "metadata": {},
   "source": [
    "## **2. Clustering**\n",
    "***"
   ]
  },
  {
   "cell_type": "code",
   "execution_count": null,
   "metadata": {},
   "outputs": [],
   "source": [
    "data_6m = df[df['year_month'] < df['year_month'].min() + pd.DateOffset(months=6)]\n",
    "data_6m = data_6m.groupby(by=\"customer_unique_id\").mean().reset_index().dropna()\n",
    "data_6m = data_6m.merge(df_nb_orders_per_customer, on=\"customer_unique_id\", how=\"left\")\n",
    "# Calculate the number of days elapsed\n",
    "data_6m['days_since_last_order'] = (data_6m[\"order_purchase_timestamp\"].max() - data_6m['order_purchase_timestamp']).dt.days\n",
    "\n",
    "data_6m = data_6m.loc[:,[\"review_score\", \"payment_installments\", \"average_price\", \"days_since_last_order\", \"nb_orders_per_customer\"]]\n",
    "\n",
    "sc_6m = StandardScaler()\n",
    "data_6m_scaled = sc_6m.fit_transform(data_6m)\n",
    "\n",
    "kmeans_6m = KMeans(n_clusters=5, n_init=\"auto\", random_state=42)  # vous pouvez changer le nombre de clusters en fonction de vos besoins\n",
    "kmeans_6m.fit(data_6m_scaled)\n",
    "clusters = kmeans_6m.labels_"
   ]
  },
  {
   "cell_type": "code",
   "execution_count": null,
   "metadata": {},
   "outputs": [],
   "source": [
    "data_8m = df[df['year_month'] < df['year_month'].min() + pd.DateOffset(months=8)]\n",
    "data_8m = data_8m.groupby(by=\"customer_unique_id\").mean().reset_index().dropna()\n",
    "data_8m = data_8m.merge(df_nb_orders_per_customer, on=\"customer_unique_id\", how=\"left\")\n",
    "# Calculate the number of days elapsed\n",
    "data_8m['days_since_last_order'] = (data_8m[\"order_purchase_timestamp\"].max() - data_8m['order_purchase_timestamp']).dt.days\n",
    "\n",
    "data_8m = data_8m.loc[:,[\"review_score\", \"payment_installments\", \"average_price\", \"days_since_last_order\", \"nb_orders_per_customer\"]]\n",
    "\n",
    "sc_8m = StandardScaler()\n",
    "data_8m_scaled = sc_8m.fit_transform(data_8m)\n",
    "\n",
    "kmeans_8m = KMeans(n_clusters=5, n_init=\"auto\", random_state=42)  # vous pouvez changer le nombre de clusters en fonction de vos besoins\n",
    "kmeans_8m.fit(data_8m_scaled)\n",
    "clusters_8m = kmeans_8m.labels_"
   ]
  },
  {
   "cell_type": "code",
   "execution_count": null,
   "metadata": {},
   "outputs": [],
   "source": [
    "data_scaled = sc_6m.fit_transform(data_8m)\n",
    "\n",
    "adjusted_rand_score(kmeans_6m.predict(data_scaled),clusters_8m)"
   ]
  },
  {
   "cell_type": "code",
   "execution_count": null,
   "metadata": {},
   "outputs": [],
   "source": [
    "data_10m = df[df['year_month'] < df['year_month'].min() + pd.DateOffset(months=10)]\n",
    "data_10m = data_10m.groupby(by=\"customer_unique_id\").mean().reset_index().dropna()\n",
    "data_10m = data_10m.merge(df_nb_orders_per_customer, on=\"customer_unique_id\", how=\"left\")\n",
    "# Calculate the number of days elapsed\n",
    "data_10m['days_since_last_order'] = (data_10m[\"order_purchase_timestamp\"].max() - data_10m['order_purchase_timestamp']).dt.days\n",
    "\n",
    "data_10m = data_10m.loc[:,[\"review_score\", \"payment_installments\", \"average_price\", \"days_since_last_order\", \"nb_orders_per_customer\"]]\n",
    "\n",
    "sc_10m = StandardScaler()\n",
    "data_10m_scaled = sc_10m.fit_transform(data_10m)\n",
    "\n",
    "kmeans_10m = KMeans(n_clusters=5, n_init=\"auto\", random_state=42)  # vous pouvez changer le nombre de clusters en fonction de vos besoins\n",
    "kmeans_10m.fit(data_10m_scaled)\n",
    "clusters_10m = kmeans_10m.labels_"
   ]
  },
  {
   "cell_type": "code",
   "execution_count": null,
   "metadata": {},
   "outputs": [],
   "source": [
    "data_scaled = sc_8m.fit_transform(data_10m)\n",
    "\n",
    "adjusted_rand_score(kmeans_8m.predict(data_scaled),clusters_10m)"
   ]
  },
  {
   "cell_type": "code",
   "execution_count": 31,
   "metadata": {},
   "outputs": [
    {
     "data": {
      "text/plain": [
       "<DatetimeArray>\n",
       "['2016-09-01 00:00:00', '2016-10-01 00:00:00', '2016-12-01 00:00:00',\n",
       " '2017-01-01 00:00:00', '2017-02-01 00:00:00', '2017-03-01 00:00:00',\n",
       " '2017-04-01 00:00:00', '2017-05-01 00:00:00', '2017-06-01 00:00:00',\n",
       " '2017-07-01 00:00:00', '2017-08-01 00:00:00', '2017-09-01 00:00:00',\n",
       " '2017-10-01 00:00:00', '2017-11-01 00:00:00', '2017-12-01 00:00:00',\n",
       " '2018-01-01 00:00:00', '2018-02-01 00:00:00', '2018-03-01 00:00:00',\n",
       " '2018-04-01 00:00:00', '2018-05-01 00:00:00', '2018-06-01 00:00:00',\n",
       " '2018-07-01 00:00:00', '2018-08-01 00:00:00', '2018-09-01 00:00:00']\n",
       "Length: 24, dtype: datetime64[ns]"
      ]
     },
     "execution_count": 31,
     "metadata": {},
     "output_type": "execute_result"
    }
   ],
   "source": [
    "df['year_month'].unique()"
   ]
  },
  {
   "cell_type": "code",
   "execution_count": 38,
   "metadata": {},
   "outputs": [],
   "source": [
    "import pandas as pd\n",
    "from sklearn.cluster import KMeans\n",
    "from sklearn.preprocessing import StandardScaler\n",
    "from sklearn.metrics.cluster import adjusted_rand_score\n",
    "\n",
    "# Supposons que df est votre DataFrame et df_nb_orders_per_customer est une autre DataFrame\n",
    "\n",
    "# Obtenir le nombre total de mois dans les données\n",
    "total_months = len(df['year_month'].unique())\n",
    "\n",
    "# Initialiser un DataFrame pour stocker les scores ARI pour chaque mois\n",
    "ari_df = pd.DataFrame(columns=['year_month', 'ARI_score'])\n",
    "\n",
    "# Itérer sur la plage de mois\n",
    "for month in range(6, total_months, 1):\n",
    "    # Créer un sous-ensemble de données pour le mois actuel\n",
    "    data_m = df[df['year_month'] < df['year_month'].min() + pd.DateOffset(months=month)]\n",
    "    data_m = data_m.groupby(by=\"customer_unique_id\").mean().reset_index().dropna()\n",
    "    data_m = data_m.merge(df_nb_orders_per_customer, on=\"customer_unique_id\", how=\"left\")\n",
    "    data_m['days_since_last_order'] = (data_m[\"order_purchase_timestamp\"].max() - data_m['order_purchase_timestamp']).dt.days\n",
    "\n",
    "    data_m = data_m.loc[:,[\"review_score\", \"payment_installments\", \"average_price\", \"days_since_last_order\", \"nb_orders_per_customer\"]]\n",
    "\n",
    "    # Mettre à l'échelle les données\n",
    "    sc_m = StandardScaler()\n",
    "    data_m_scaled = sc_m.fit_transform(data_m)\n",
    "\n",
    "    # Ajuster un modèle KMeans\n",
    "    kmeans_m = KMeans(n_clusters=5, n_init=\"auto\", random_state=42)\n",
    "    kmeans_m.fit(data_m_scaled)\n",
    "    clusters_m = kmeans_m.labels_\n",
    "\n",
    "    # Calculer le score ARI si ce n'est pas le premier mois\n",
    "    if month > 6:\n",
    "        data_scaled = sc_prev.fit_transform(data_m)\n",
    "        ari_score = adjusted_rand_score(kmeans_prev.predict(data_scaled),clusters_m)\n",
    "\n",
    "        # Ajouter le score ARI au DataFrame\n",
    "        new_row = pd.DataFrame({'year_month': [month], 'ARI_score': [ari_score]})\n",
    "        ari_df = pd.concat([ari_df, new_row], ignore_index=True)\n",
    "\n",
    "    # Mettre à jour les variables pour le prochain tour de boucle\n",
    "    kmeans_prev = kmeans_m\n",
    "    sc_prev = sc_m"
   ]
  },
  {
   "cell_type": "code",
   "execution_count": 40,
   "metadata": {},
   "outputs": [
    {
     "data": {
      "text/plain": [
       "<Axes: ylabel='ARI_score'>"
      ]
     },
     "execution_count": 40,
     "metadata": {},
     "output_type": "execute_result"
    },
    {
     "data": {
      "image/png": "[encoded data removed]",
      "text/plain": [
       "<Figure size 640x480 with 1 Axes>"
      ]
     },
     "metadata": {},
     "output_type": "display_data"
    }
   ],
   "source": [
    "sns.lineplot(ari_df[\"ARI_score\"])"
   ]
  }
 ],
 "metadata": {
  "kernelspec": {
   "display_name": "Python 3",
   "language": "python",
   "name": "python3"
  },
  "language_info": {
   "codemirror_mode": {
    "name": "ipython",
    "version": 3
   },
   "file_extension": ".py",
   "mimetype": "text/x-python",
   "name": "python",
   "nbconvert_exporter": "python",
   "pygments_lexer": "ipython3",
   "version": "3.11.3"
  }
 },
 "nbformat": 4,
 "nbformat_minor": 2
}
