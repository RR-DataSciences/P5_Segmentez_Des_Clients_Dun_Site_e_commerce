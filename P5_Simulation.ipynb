{
 "cells": [
  {
   "cell_type": "markdown",
   "metadata": {},
   "source": [
    "# **Projet 5 - <span style=\"color:#1d479b\">Segmentez les clients d'un site e-commerce</span>**\n",
    "---"
   ]
  },
  {
   "cell_type": "markdown",
   "metadata": {},
   "source": [
    "**<span style=\"color:#1d479b\">Objectif de la mission:</span>**\n",
    "* Fournir une **segmentation des clients** afin d'apporter des informations supplémentaires aux équipes pour leurs campagnes de communication.\n",
    "* **Comprendre les différents types d’utilisateurs** grâce à leur comportement et à leurs données personnelles.\n",
    "* Fournir une **description actionable de la segmentation** et de sa logique sous-jacente pour une utilisation optimale.\n",
    "* Proposition de **contrat de maintenance basée sur une analyse de la stabilité** des segments au cours du temps.."
   ]
  },
  {
   "cell_type": "markdown",
   "metadata": {},
   "source": [
    "## **0. Importation des librairies et des données**\n",
    "---"
   ]
  },
  {
   "cell_type": "code",
   "execution_count": 1,
   "metadata": {},
   "outputs": [],
   "source": [
    "# Importing libraries\n",
    "import pandas as pd\n",
    "import numpy as np\n",
    "import seaborn as sns\n",
    "import matplotlib.pyplot as plt\n",
    "import matplotlib.colors as mcolors\n",
    "# Scikit-learn\n",
    "from sklearn.preprocessing import StandardScaler\n",
    "from sklearn.cluster import KMeans\n",
    "from sklearn.metrics import adjusted_rand_score"
   ]
  },
  {
   "cell_type": "code",
   "execution_count": 2,
   "metadata": {},
   "outputs": [],
   "source": [
    "path_customers = \"C:/Users/remid/Documents/_OC_ParcoursDataScientist/P5_Segmentez_Des_Clients_Dun_Site_e_commerce/df_maintenance.csv\"\n",
    "df_maintenance = pd.read_csv(path_customers, sep=\",\")\n",
    "df = df_maintenance.copy()"
   ]
  },
  {
   "cell_type": "markdown",
   "metadata": {},
   "source": [
    "### **0.1 - Définition de la charte graphique**"
   ]
  },
  {
   "cell_type": "code",
   "execution_count": 3,
   "metadata": {},
   "outputs": [
    {
     "data": {
      "text/plain": [
       "['#0B28D0', '#A2A2D5', '#FFF', '#333', '#EDAD01']"
      ]
     },
     "execution_count": 3,
     "metadata": {},
     "output_type": "execute_result"
    }
   ],
   "source": [
    "[\"#0B28D0\",\"#A2A2D5\",\"#FFF\",\"#333\",\"#EDAD01\"]"
   ]
  },
  {
   "cell_type": "code",
   "execution_count": 4,
   "metadata": {},
   "outputs": [
    {
     "data": {
      "image/png": "[encoded data removed]",
      "text/html": [
       "<div style=\"vertical-align: middle;\"><strong>custom_colormap</strong> </div><div class=\"cmap\"><img alt=\"custom_colormap colormap\" title=\"custom_colormap\" style=\"border: 1px solid #555;\" src=\"data:image/png;base64,iVBORw0KGgoAAAANSUhEUgAAAgAAAABACAYAAABsv8+/AAAAHnRFWHRUaXRsZQBjdXN0b21fY29sb3JtYXAgY29sb3JtYXB5JmvcAAAAJHRFWHREZXNjcmlwdGlvbgBjdXN0b21fY29sb3JtYXAgY29sb3JtYXCzmoKzAAAAMHRFWHRBdXRob3IATWF0cGxvdGxpYiB2My43LjEsIGh0dHBzOi8vbWF0cGxvdGxpYi5vcmcqr/hNAAAAMnRFWHRTb2Z0d2FyZQBNYXRwbG90bGliIHYzLjcuMSwgaHR0cHM6Ly9tYXRwbG90bGliLm9yZwQJZ2oAAAIbSURBVHic7dZBboMwFEVRw7Qb6f5X0hXFHQCNY2xKI3X0zpGqFkJ+DE6lu3x8ftVSSlmW509/vO4n59csZR2873nd9vpo9tLMHl+z/JxbJ7Pb43Uy+5g/m91eM5vdvt7PPl9znv26hvNsz/vG815nz3u8J69reG9P1sns1zWMZ/9lT8bP+/6ejL8T5z1pZ2/q/vtRSq378X6u1u18qfvf5fl6fXTHdTKrNK8/BnOOzyiDOcfn9Gtq3tOuuTaffzlrO65Xs27df39/x/uaNQ/XdGfOu2vqn+18f2s76/QsR7P65zjYk+H+9vc/35Pr/b1Y09V37jT7uP/RPv3Hnky+J7/9z926/9Gs/v4Hs0opawEA4ggAAAgkAAAgkAAAgEACAAACCQAACCQAACCQAACAQAIAAAIJAAAIJAAAIJAAAIBAAgAAAgkAAAgkAAAgkAAAgEACAAACCQAACCQAACCQAACAQAIAAAIJAAAIJAAAIJAAAIBAAgAAAgkAAAgkAAAgkAAAgEACAAACCQAACCQAACCQAACAQAIAAAIJAAAIJAAAIJAAAIBAAgAAAgkAAAgkAAAgkAAAgEACAAACCQAACCQAACCQAACAQAIAAAIJAAAIJAAAIJAAAIBAAgAAAgkAAAgkAAAgkAAAgEACAAACCQAACCQAACCQAACAQAIAAAIJAAAIJAAAIJAAAIBAAgAAAgkAAAgkAAAg0DePBRApFnW8dgAAAABJRU5ErkJggg==\"></div><div style=\"vertical-align: middle; max-width: 514px; display: flex; justify-content: space-between;\"><div style=\"float: left;\"><div title=\"#0b28d0ff\" style=\"display: inline-block; width: 1em; height: 1em; margin: 0; vertical-align: middle; border: 1px solid #555; background-color: #0b28d0ff;\"></div> under</div><div style=\"margin: 0 auto; display: inline-block;\">bad <div title=\"#00000000\" style=\"display: inline-block; width: 1em; height: 1em; margin: 0; vertical-align: middle; border: 1px solid #555; background-color: #00000000;\"></div></div><div style=\"float: right;\">over <div title=\"#edad01ff\" style=\"display: inline-block; width: 1em; height: 1em; margin: 0; vertical-align: middle; border: 1px solid #555; background-color: #edad01ff;\"></div></div>"
      ],
      "text/plain": [
       "<matplotlib.colors.LinearSegmentedColormap at 0x21ffc372910>"
      ]
     },
     "execution_count": 4,
     "metadata": {},
     "output_type": "execute_result"
    }
   ],
   "source": [
    "# Define the heatmap color\n",
    "first_color = \"#0B28D0\"\n",
    "under_color = \"#F1F1F1\"\n",
    "over_color = \"#EDAD01\"\n",
    "# Create a personal color map \n",
    "colors = [first_color,under_color, over_color]\n",
    "n_bins = 400\n",
    "cmap_name = 'custom_colormap'\n",
    "heatmap_color = mcolors.LinearSegmentedColormap.from_list(cmap_name, colors, N=n_bins)\n",
    "heatmap_color"
   ]
  },
  {
   "cell_type": "code",
   "execution_count": 5,
   "metadata": {},
   "outputs": [
    {
     "data": {
      "image/png": "[encoded data removed]",
      "text/html": [
       "<div style=\"vertical-align: middle;\"><strong>blend</strong> </div><div class=\"cmap\"><img alt=\"blend colormap\" title=\"blend\" style=\"border: 1px solid #555;\" src=\"data:image/png;base64,iVBORw0KGgoAAAANSUhEUgAAAgAAAABACAYAAABsv8+/AAAAFHRFWHRUaXRsZQBibGVuZCBjb2xvcm1hcKH0gPAAAAAadEVYdERlc2NyaXB0aW9uAGJsZW5kIGNvbG9ybWFwX6spFgAAADB0RVh0QXV0aG9yAE1hdHBsb3RsaWIgdjMuNy4xLCBodHRwczovL21hdHBsb3RsaWIub3JnKq/4TQAAADJ0RVh0U29mdHdhcmUATWF0cGxvdGxpYiB2My43LjEsIGh0dHBzOi8vbWF0cGxvdGxpYi5vcmcECWdqAAABl0lEQVR4nO3WS26DMABAQdNtLtL7n6Q3oosoGxQUgquW6s1sEIiPwYn1ltvn1zrGGGO9b8Z4bMdmf+/48/OWyeu3x5fJ67fH9+937v2XH3rP/e83N87j83Fs/O9/v8fuq/mY/X5H7/e3v+f/P8/nnvNr/7uX69nz51xv3Tp6v3PPufq6dXycs/N8cpzrxdbXN+f5YwAAOQIAAIIEAAAECQAACBIAABAkAAAgSAAAQJAAAIAgAQAAQQIAAIIEAAAECQAACBIAABAkAAAgSAAAQJAAAIAgAQAAQQIAAIIEAAAECQAACBIAABAkAAAgSAAAQJAAAIAgAQAAQQIAAIIEAAAECQAACBIAABAkAAAgSAAAQJAAAIAgAQAAQQIAAIIEAAAECQAACBIAABAkAAAgSAAAQJAAAIAgAQAAQQIAAIIEAAAECQAACBIAABAkAAAgSAAAQJAAAIAgAQAAQQIAAIIEAAAECQAACBIAABAkAAAgSAAAQJAAAIAgAQAAQQIAAIIEAAAECQAACBIAABAkAAAgSAAAQNA3kIek+Ceji1kAAAAASUVORK5CYII=\"></div><div style=\"vertical-align: middle; max-width: 514px; display: flex; justify-content: space-between;\"><div style=\"float: left;\"><div title=\"#0b28d0ff\" style=\"display: inline-block; width: 1em; height: 1em; margin: 0; vertical-align: middle; border: 1px solid #555; background-color: #0b28d0ff;\"></div> under</div><div style=\"margin: 0 auto; display: inline-block;\">bad <div title=\"#00000000\" style=\"display: inline-block; width: 1em; height: 1em; margin: 0; vertical-align: middle; border: 1px solid #555; background-color: #00000000;\"></div></div><div style=\"float: right;\">over <div title=\"#242531ff\" style=\"display: inline-block; width: 1em; height: 1em; margin: 0; vertical-align: middle; border: 1px solid #555; background-color: #242531ff;\"></div></div>"
      ],
      "text/plain": [
       "<matplotlib.colors.LinearSegmentedColormap at 0x21ffc373f10>"
      ]
     },
     "execution_count": 5,
     "metadata": {},
     "output_type": "execute_result"
    }
   ],
   "source": [
    "palette_b = sns.dark_palette(\"#0B28D0\", reverse=True, as_cmap=True)\n",
    "palette_b"
   ]
  },
  {
   "cell_type": "code",
   "execution_count": 6,
   "metadata": {},
   "outputs": [
    {
     "data": {
      "text/html": [
       "<svg  width=\"550\" height=\"55\"><rect x=\"0\" y=\"0\" width=\"55\" height=\"55\" style=\"fill:#242531;stroke-width:2;stroke:rgb(255,255,255)\"/><rect x=\"55\" y=\"0\" width=\"55\" height=\"55\" style=\"fill:#212543;stroke-width:2;stroke:rgb(255,255,255)\"/><rect x=\"110\" y=\"0\" width=\"55\" height=\"55\" style=\"fill:#1f2554;stroke-width:2;stroke:rgb(255,255,255)\"/><rect x=\"165\" y=\"0\" width=\"55\" height=\"55\" style=\"fill:#1c2666;stroke-width:2;stroke:rgb(255,255,255)\"/><rect x=\"220\" y=\"0\" width=\"55\" height=\"55\" style=\"fill:#192678;stroke-width:2;stroke:rgb(255,255,255)\"/><rect x=\"275\" y=\"0\" width=\"55\" height=\"55\" style=\"fill:#16278a;stroke-width:2;stroke:rgb(255,255,255)\"/><rect x=\"330\" y=\"0\" width=\"55\" height=\"55\" style=\"fill:#13279b;stroke-width:2;stroke:rgb(255,255,255)\"/><rect x=\"385\" y=\"0\" width=\"55\" height=\"55\" style=\"fill:#1127ad;stroke-width:2;stroke:rgb(255,255,255)\"/><rect x=\"440\" y=\"0\" width=\"55\" height=\"55\" style=\"fill:#0e28bf;stroke-width:2;stroke:rgb(255,255,255)\"/><rect x=\"495\" y=\"0\" width=\"55\" height=\"55\" style=\"fill:#0b28d0;stroke-width:2;stroke:rgb(255,255,255)\"/></svg>"
      ],
      "text/plain": [
       "[(0.14217064351973224, 0.14390410693260464, 0.19354284782618525),\n",
       " (0.13129638908327107, 0.14532701622135824, 0.26185663585419044),\n",
       " (0.12042213464680988, 0.14674992551011184, 0.33017042388219564),\n",
       " (0.10915951398047509, 0.1482236529877495, 0.4009239900540581),\n",
       " (0.0982852595440139, 0.1496465622765031, 0.4692377780820633),\n",
       " (0.08702263887767911, 0.15112028975414074, 0.5399913442539259),\n",
       " (0.07614838444121794, 0.15254319904289435, 0.6083051322819311),\n",
       " (0.06488576377488314, 0.154016926520532, 0.6790586984537935),\n",
       " (0.05401150933842197, 0.1554398358092856, 0.7473724864817987),\n",
       " (0.043137254901960784, 0.1568627450980392, 0.8156862745098039)]"
      ]
     },
     "execution_count": 6,
     "metadata": {},
     "output_type": "execute_result"
    }
   ],
   "source": [
    "# Colour palette for the various graphics\n",
    "n_colors = 10\n",
    "palette_map = sns.color_palette(\"dark:#0B28D0\", n_colors=n_colors,as_cmap=False)\n",
    "palette_map"
   ]
  },
  {
   "cell_type": "markdown",
   "metadata": {},
   "source": [
    "### **0.2 - Normalisation de l'affichage des graphiques**"
   ]
  },
  {
   "cell_type": "code",
   "execution_count": 7,
   "metadata": {},
   "outputs": [],
   "source": [
    "# Defines display options for rows and columns\n",
    "pd.set_option('display.max_row',100)\n",
    "pd.set_option('display.max_column',100)"
   ]
  },
  {
   "cell_type": "code",
   "execution_count": 8,
   "metadata": {},
   "outputs": [],
   "source": [
    "# Defines title formatting\n",
    "plt.rcParams['axes.titlesize'] = 16\n",
    "plt.rcParams['axes.titlecolor'] = '#000'\n",
    "plt.rcParams['axes.titlepad'] = 20\n",
    "# Defines axis formatting\n",
    "plt.rcParams['axes.labelsize'] = 10\n",
    "plt.rcParams['axes.labelcolor'] = '#EDAD01'\n",
    "#Defines scale formatting\n",
    "plt.rcParams['xtick.labelsize'] = 8\n",
    "plt.rcParams['ytick.labelsize'] = 8 \n",
    "plt.rcParams['xtick.color'] = '#333'\n",
    "plt.rcParams['ytick.color'] = '#333'"
   ]
  },
  {
   "cell_type": "code",
   "execution_count": 9,
   "metadata": {},
   "outputs": [],
   "source": [
    "sns.set_theme(style=\"whitegrid\", context=\"notebook\", font_scale=1.2,\n",
    "              rc={\"axes.titlesize\":16, \n",
    "                  \"axes.labelsize\":10, \n",
    "                  \"xtick.labelsize\":8, \n",
    "                  \"ytick.labelsize\":8, \n",
    "                  \"xtick.color\":\"#333\", \n",
    "                  \"ytick.color\":\"#333\", \n",
    "                  \"axes.titlecolor\":\"#000\", \n",
    "                  \"axes.labelcolor\":\"#EDAD01\"\n",
    "                  })"
   ]
  },
  {
   "cell_type": "markdown",
   "metadata": {},
   "source": [
    "## **1. Traitement des données**\n",
    "***"
   ]
  },
  {
   "cell_type": "markdown",
   "metadata": {},
   "source": [
    "La colonne `order_purchase_timestamp` est passée au format datetime afin de gérer plus facilement la notion de temps. "
   ]
  },
  {
   "cell_type": "code",
   "execution_count": 10,
   "metadata": {},
   "outputs": [],
   "source": [
    "df['order_purchase_timestamp'] = pd.to_datetime(df['order_purchase_timestamp'])"
   ]
  },
  {
   "cell_type": "markdown",
   "metadata": {},
   "source": [
    "Les colonnes inutiles sont supprimées et les données sont triées par ordre décroissant."
   ]
  },
  {
   "cell_type": "code",
   "execution_count": 11,
   "metadata": {},
   "outputs": [],
   "source": [
    "df.drop(columns=[\"order_delivered_customer_date\",\"customer_zip_code_prefix\",\"customer_city\",\"days_since_last_order\"], inplace=True)"
   ]
  },
  {
   "cell_type": "code",
   "execution_count": 12,
   "metadata": {},
   "outputs": [],
   "source": [
    "df = df.sort_values(by=\"order_purchase_timestamp\")"
   ]
  },
  {
   "cell_type": "markdown",
   "metadata": {},
   "source": [
    "## **2. Clustering**\n",
    "***"
   ]
  },
  {
   "cell_type": "markdown",
   "metadata": {},
   "source": [
    "#### **2.1 Période de référence (17 mois)**"
   ]
  },
  {
   "cell_type": "markdown",
   "metadata": {},
   "source": [
    "Afin d'avoir une base de comparaison, un premier clustering est effectué sur les données issues de la première années de commandes. Les résultats n'étant pas satisfaisants, plusieurs périodes ont été testés et les résultats les plus pertinents mènent à une période référence de 17 mois. \n",
    "\n",
    "Pour commencer, la plus ancienne commande est instanciée dans la variable `oldest_date` et la date d'anniversaire (17 mois) est instanciée dans la variable `one_year_later`. Ces variables serviront a sélectionner \"automatiquement\" une période de 17 moisn à compter de la première commande disponible."
   ]
  },
  {
   "cell_type": "code",
   "execution_count": 13,
   "metadata": {},
   "outputs": [],
   "source": [
    "oldest_date = df['order_purchase_timestamp'].min()\n",
    "one_year_later = oldest_date + pd.DateOffset(months=17)"
   ]
  },
  {
   "cell_type": "markdown",
   "metadata": {},
   "source": [
    "Les données sont maintenant isolée dans un nouveau DF afin d'effectuer le clustering de référence."
   ]
  },
  {
   "cell_type": "code",
   "execution_count": 14,
   "metadata": {},
   "outputs": [],
   "source": [
    "data_ref = df[(df['order_purchase_timestamp'] >= oldest_date) & (df['order_purchase_timestamp'] <= one_year_later)]"
   ]
  },
  {
   "cell_type": "markdown",
   "metadata": {},
   "source": [
    "Création d'un DF `df_nb_orders_per_customer` contenant le nombre de commande par client."
   ]
  },
  {
   "cell_type": "code",
   "execution_count": 15,
   "metadata": {},
   "outputs": [],
   "source": [
    "df_nb_orders_per_customer = data_ref.groupby(by=\"customer_unique_id\").count()[[\"order_id\"]].reset_index()\n",
    "df_nb_orders_per_customer.rename(columns={\"order_id\":\"nb_orders_per_customer\"}, inplace=True)\n",
    "# Delete column\n",
    "data_ref = data_ref.drop(columns=\"order_id\")"
   ]
  },
  {
   "cell_type": "markdown",
   "metadata": {},
   "source": [
    "Les données sont maintenant regroupées par client et aggréger de manière a obtenir la moyenne par client pour chacune des variables. Les individus ayant des valeurs manquantes sont supprimés."
   ]
  },
  {
   "cell_type": "code",
   "execution_count": 16,
   "metadata": {},
   "outputs": [],
   "source": [
    "data_ref = data_ref.groupby(by=\"customer_unique_id\").mean().reset_index().dropna()"
   ]
  },
  {
   "cell_type": "markdown",
   "metadata": {},
   "source": [
    "Le nombre de commande par client ainsi que la récence sont ajoutés au data set."
   ]
  },
  {
   "cell_type": "code",
   "execution_count": 17,
   "metadata": {},
   "outputs": [],
   "source": [
    "data_ref = data_ref.merge(df_nb_orders_per_customer, on=\"customer_unique_id\", how=\"left\")"
   ]
  },
  {
   "cell_type": "code",
   "execution_count": 18,
   "metadata": {},
   "outputs": [],
   "source": [
    "data_ref['days_since_last_order'] = (data_ref[\"order_purchase_timestamp\"].max() - data_ref['order_purchase_timestamp']).dt.days"
   ]
  },
  {
   "cell_type": "markdown",
   "metadata": {},
   "source": [
    "Les colonnes inutiles au clustering sont écartées."
   ]
  },
  {
   "cell_type": "code",
   "execution_count": 19,
   "metadata": {},
   "outputs": [],
   "source": [
    "data_ref = data_ref.loc[:,[\"review_score\", \"payment_installments\", \"average_price\", \"days_since_last_order\", \"nb_orders_per_customer\"]]"
   ]
  },
  {
   "cell_type": "markdown",
   "metadata": {},
   "source": [
    "Les données sont standardisées avant le clustering et instancié dans la variable `data_ref_scaled`."
   ]
  },
  {
   "cell_type": "code",
   "execution_count": 20,
   "metadata": {},
   "outputs": [],
   "source": [
    "sc_ref = StandardScaler()\n",
    "data_ref_scaled = sc_ref.fit_transform(data_ref)"
   ]
  },
  {
   "cell_type": "markdown",
   "metadata": {},
   "source": [
    "La phase de modélisation a permit d'identifier le modèle `KMeans` comme le plus pertinent pour segmenter les clients. Cette phase a également permit d'identifier qu'une `segmentation en 5 clusters` était la plus pertinente sur l'ensemble des données, c'est donc ces éléments qui sont utilisés pour évaluer l'évolution des clusters dans le temps.\n",
    "\n",
    "Le `KMeans` est paramétré et instancié dans la variable `kmeans_ref` puis appliqué aux données standardisées `data_ref`."
   ]
  },
  {
   "cell_type": "code",
   "execution_count": 21,
   "metadata": {},
   "outputs": [
    {
     "data": {
      "text/html": [
       "<style>#sk-container-id-1 {color: black;background-color: white;}#sk-container-id-1 pre{padding: 0;}#sk-container-id-1 div.sk-toggleable {background-color: white;}#sk-container-id-1 label.sk-toggleable__label {cursor: pointer;display: block;width: 100%;margin-bottom: 0;padding: 0.3em;box-sizing: border-box;text-align: center;}#sk-container-id-1 label.sk-toggleable__label-arrow:before {content: \"▸\";float: left;margin-right: 0.25em;color: #696969;}#sk-container-id-1 label.sk-toggleable__label-arrow:hover:before {color: black;}#sk-container-id-1 div.sk-estimator:hover label.sk-toggleable__label-arrow:before {color: black;}#sk-container-id-1 div.sk-toggleable__content {max-height: 0;max-width: 0;overflow: hidden;text-align: left;background-color: #f0f8ff;}#sk-container-id-1 div.sk-toggleable__content pre {margin: 0.2em;color: black;border-radius: 0.25em;background-color: #f0f8ff;}#sk-container-id-1 input.sk-toggleable__control:checked~div.sk-toggleable__content {max-height: 200px;max-width: 100%;overflow: auto;}#sk-container-id-1 input.sk-toggleable__control:checked~label.sk-toggleable__label-arrow:before {content: \"▾\";}#sk-container-id-1 div.sk-estimator input.sk-toggleable__control:checked~label.sk-toggleable__label {background-color: #d4ebff;}#sk-container-id-1 div.sk-label input.sk-toggleable__control:checked~label.sk-toggleable__label {background-color: #d4ebff;}#sk-container-id-1 input.sk-hidden--visually {border: 0;clip: rect(1px 1px 1px 1px);clip: rect(1px, 1px, 1px, 1px);height: 1px;margin: -1px;overflow: hidden;padding: 0;position: absolute;width: 1px;}#sk-container-id-1 div.sk-estimator {font-family: monospace;background-color: #f0f8ff;border: 1px dotted black;border-radius: 0.25em;box-sizing: border-box;margin-bottom: 0.5em;}#sk-container-id-1 div.sk-estimator:hover {background-color: #d4ebff;}#sk-container-id-1 div.sk-parallel-item::after {content: \"\";width: 100%;border-bottom: 1px solid gray;flex-grow: 1;}#sk-container-id-1 div.sk-label:hover label.sk-toggleable__label {background-color: #d4ebff;}#sk-container-id-1 div.sk-serial::before {content: \"\";position: absolute;border-left: 1px solid gray;box-sizing: border-box;top: 0;bottom: 0;left: 50%;z-index: 0;}#sk-container-id-1 div.sk-serial {display: flex;flex-direction: column;align-items: center;background-color: white;padding-right: 0.2em;padding-left: 0.2em;position: relative;}#sk-container-id-1 div.sk-item {position: relative;z-index: 1;}#sk-container-id-1 div.sk-parallel {display: flex;align-items: stretch;justify-content: center;background-color: white;position: relative;}#sk-container-id-1 div.sk-item::before, #sk-container-id-1 div.sk-parallel-item::before {content: \"\";position: absolute;border-left: 1px solid gray;box-sizing: border-box;top: 0;bottom: 0;left: 50%;z-index: -1;}#sk-container-id-1 div.sk-parallel-item {display: flex;flex-direction: column;z-index: 1;position: relative;background-color: white;}#sk-container-id-1 div.sk-parallel-item:first-child::after {align-self: flex-end;width: 50%;}#sk-container-id-1 div.sk-parallel-item:last-child::after {align-self: flex-start;width: 50%;}#sk-container-id-1 div.sk-parallel-item:only-child::after {width: 0;}#sk-container-id-1 div.sk-dashed-wrapped {border: 1px dashed gray;margin: 0 0.4em 0.5em 0.4em;box-sizing: border-box;padding-bottom: 0.4em;background-color: white;}#sk-container-id-1 div.sk-label label {font-family: monospace;font-weight: bold;display: inline-block;line-height: 1.2em;}#sk-container-id-1 div.sk-label-container {text-align: center;}#sk-container-id-1 div.sk-container {/* jupyter's `normalize.less` sets `[hidden] { display: none; }` but bootstrap.min.css set `[hidden] { display: none !important; }` so we also need the `!important` here to be able to override the default hidden behavior on the sphinx rendered scikit-learn.org. See: https://github.com/scikit-learn/scikit-learn/issues/21755 */display: inline-block !important;position: relative;}#sk-container-id-1 div.sk-text-repr-fallback {display: none;}</style><div id=\"sk-container-id-1\" class=\"sk-top-container\"><div class=\"sk-text-repr-fallback\"><pre>KMeans(n_clusters=5, n_init=&#x27;auto&#x27;, random_state=42)</pre><b>In a Jupyter environment, please rerun this cell to show the HTML representation or trust the notebook. <br />On GitHub, the HTML representation is unable to render, please try loading this page with nbviewer.org.</b></div><div class=\"sk-container\" hidden><div class=\"sk-item\"><div class=\"sk-estimator sk-toggleable\"><input class=\"sk-toggleable__control sk-hidden--visually\" id=\"sk-estimator-id-1\" type=\"checkbox\" checked><label for=\"sk-estimator-id-1\" class=\"sk-toggleable__label sk-toggleable__label-arrow\">KMeans</label><div class=\"sk-toggleable__content\"><pre>KMeans(n_clusters=5, n_init=&#x27;auto&#x27;, random_state=42)</pre></div></div></div></div></div>"
      ],
      "text/plain": [
       "KMeans(n_clusters=5, n_init='auto', random_state=42)"
      ]
     },
     "execution_count": 21,
     "metadata": {},
     "output_type": "execute_result"
    }
   ],
   "source": [
    "kmeans_ref = KMeans(n_clusters=5, n_init=\"auto\", random_state=42)\n",
    "kmeans_ref.fit(data_ref_scaled)"
   ]
  },
  {
   "cell_type": "markdown",
   "metadata": {},
   "source": [
    "Enfin, les labels de cluster pour chaque point de données sont instanciés dans la variable `clusters`. Ces résultats serviront de base de comparaison avec les autres clustering afin de mesurer leurs qualité."
   ]
  },
  {
   "cell_type": "code",
   "execution_count": 22,
   "metadata": {},
   "outputs": [],
   "source": [
    "clusters = kmeans_ref.labels_"
   ]
  },
  {
   "cell_type": "markdown",
   "metadata": {},
   "source": [
    "#### **2.2 Evolution des clusters dans le temsp (ARI)**"
   ]
  },
  {
   "cell_type": "markdown",
   "metadata": {},
   "source": [
    "L'analyse de stabilité du clustering s'effectue via le score ARI. \n",
    "\n",
    "Pour cela, il est nécessaire de comparer les clusters pour les différentes périodes, soit toutes les semaines à compter de la première année (période de référence). Il s'agit d'utiliser les résultats obtenus via le modèle de référence (méthode `prédict()`) et ceux obtenus par le modèle générer à partir de ces nouvelles données.\n",
    "\n",
    "Afin que les résultats soient comparables, le traitement des données sera identique à ceux mis en place pour la période de référence."
   ]
  },
  {
   "cell_type": "code",
   "execution_count": 23,
   "metadata": {},
   "outputs": [
    {
     "name": "stdout",
     "output_type": "stream",
     "text": [
      "Semaine 0 - Score pour la période du 2016-09-04 au 2018-02-04: 1.0\n",
      "Semaine 1 - Score pour la période du 2016-09-04 au 2018-02-11: 0.7827612015193349\n",
      "Semaine 2 - Score pour la période du 2016-09-04 au 2018-02-18: 0.7942456567759745\n",
      "Semaine 3 - Score pour la période du 2016-09-04 au 2018-02-25: 0.7943083290741372\n",
      "Semaine 4 - Score pour la période du 2016-09-04 au 2018-03-04: 0.9118392402299864\n",
      "Semaine 5 - Score pour la période du 2016-09-04 au 2018-03-11: 0.7489050948972377\n",
      "Semaine 6 - Score pour la période du 2016-09-04 au 2018-03-18: 0.6656930884298516\n",
      "Semaine 7 - Score pour la période du 2016-09-04 au 2018-03-25: 0.6613568259721317\n",
      "Semaine 8 - Score pour la période du 2016-09-04 au 2018-04-01: 0.7107013203236169\n",
      "Semaine 9 - Score pour la période du 2016-09-04 au 2018-04-08: 0.6954622032936753\n",
      "Semaine 10 - Score pour la période du 2016-09-04 au 2018-04-15: 0.6829651154162848\n",
      "Semaine 11 - Score pour la période du 2016-09-04 au 2018-04-22: 0.563517659644481\n",
      "Semaine 12 - Score pour la période du 2016-09-04 au 2018-04-29: 0.6232869574321218\n",
      "Semaine 13 - Score pour la période du 2016-09-04 au 2018-05-06: 0.4529664234048984\n",
      "Semaine 14 - Score pour la période du 2016-09-04 au 2018-05-13: 0.744233489160207\n",
      "Semaine 15 - Score pour la période du 2016-09-04 au 2018-05-20: 0.6187168531347654\n",
      "Semaine 16 - Score pour la période du 2016-09-04 au 2018-05-27: 0.3639454726041899\n",
      "Semaine 17 - Score pour la période du 2016-09-04 au 2018-06-03: 0.49775512899294894\n",
      "Semaine 18 - Score pour la période du 2016-09-04 au 2018-06-10: 0.5322870235401309\n",
      "Semaine 19 - Score pour la période du 2016-09-04 au 2018-06-17: 0.3070966250892124\n",
      "Semaine 20 - Score pour la période du 2016-09-04 au 2018-06-24: 0.5073492169845221\n",
      "Semaine 21 - Score pour la période du 2016-09-04 au 2018-07-01: 0.488864480426701\n",
      "Semaine 22 - Score pour la période du 2016-09-04 au 2018-07-08: 0.46726912485685346\n",
      "Semaine 23 - Score pour la période du 2016-09-04 au 2018-07-15: 0.2963960686976812\n",
      "Semaine 24 - Score pour la période du 2016-09-04 au 2018-07-22: 0.29557519136057975\n",
      "Semaine 25 - Score pour la période du 2016-09-04 au 2018-07-29: 0.2635768498752159\n",
      "Semaine 26 - Score pour la période du 2016-09-04 au 2018-08-05: 0.25976040817870727\n",
      "Semaine 27 - Score pour la période du 2016-09-04 au 2018-08-12: 0.43300199253224086\n",
      "Semaine 28 - Score pour la période du 2016-09-04 au 2018-08-19: 0.46567647195156125\n",
      "Semaine 29 - Score pour la période du 2016-09-04 au 2018-08-26: 0.40264864174608306\n"
     ]
    }
   ],
   "source": [
    "# Define total number of weeks\n",
    "total_weeks = int((df['order_purchase_timestamp'].max() - one_year_later).days // 7)\n",
    "# Create a list to store ARI scores\n",
    "ari_scores = []\n",
    "\n",
    "# Create a loop for each week\n",
    "for week in range(total_weeks):\n",
    "    \n",
    "    # Filter data for this sliding window\n",
    "    data_current_window = df[(df['order_purchase_timestamp'] >= oldest_date) & (df['order_purchase_timestamp'] <= one_year_later)]\n",
    "    \n",
    "    # Counts the number of orders per customer and renames the column\n",
    "    df_nb_orders_per_customer = data_current_window.groupby(by=\"customer_unique_id\").count()[[\"order_id\"]].reset_index()\n",
    "    df_nb_orders_per_customer.rename(columns={\"order_id\":\"nb_orders_per_customer\"}, inplace=True)\n",
    "    # Deletes unnecessary column\n",
    "    data_current_window = data_current_window.drop(columns=\"order_id\")\n",
    "    \n",
    "    # Adds recency by customer\n",
    "    data_current_window['days_since_last_order'] = (data_current_window[\"order_purchase_timestamp\"].max() - data_current_window['order_purchase_timestamp']).dt.days\n",
    "    # Obtains the average value of orders per customer\n",
    "    data_current_week = data_current_window.groupby(by=\"customer_unique_id\").mean().reset_index().dropna()\n",
    "    # Adds the number of orders per customer\n",
    "    data_current_week = data_current_week.merge(df_nb_orders_per_customer, on=\"customer_unique_id\", how=\"left\")\n",
    "    # Selects relevant columns for clustering\n",
    "    data_current_week = data_current_week.loc[:,[\"review_score\", \"payment_installments\", \"average_price\", \"days_since_last_order\", \"nb_orders_per_customer\"]]\n",
    "\n",
    "    # Standardize and adjust data\n",
    "    sc = StandardScaler()\n",
    "    data_scaled = sc.fit_transform(data_current_week)\n",
    "    # Initializes KMeans and adjusts data for clustering\n",
    "    kmeans_week = KMeans(n_clusters=5, n_init=\"auto\", random_state=42)\n",
    "    kmeans_week.fit(data_scaled)\n",
    "    # Get cluster labels for each data point\n",
    "    clusters_ = kmeans_week.labels_\n",
    "    \n",
    "    # Adjusts the new data with the reference period's StandardScaler\n",
    "    data_scaled = sc_ref.transform(data_current_week)\n",
    "    # Calculates the ARI score by comparing the clustering results with those of the reference period.\n",
    "    score = adjusted_rand_score(kmeans_ref.predict(data_scaled), clusters_)\n",
    "\n",
    "    # Records the ARI score for each week\n",
    "    ari_scores.append({'Period': f\"du {oldest_date.date()} au {one_year_later.date()}\", 'Week': week, 'ARI Score': score})\n",
    "\n",
    "    # Displays ARI results for each period\n",
    "    print(f\"Semaine {week} - Score pour la période du {oldest_date.date()} au {one_year_later.date()}: {score}\")\n",
    "\n",
    "    # Add a week to the sliding window\n",
    "    one_year_later += pd.DateOffset(weeks=1)\n",
    "\n",
    "# Convert list to DataFrame\n",
    "ari_scores = pd.DataFrame(ari_scores)"
   ]
  },
  {
   "cell_type": "markdown",
   "metadata": {},
   "source": [
    "Les scores ARI sont analysés afin d'identier la dernière période qui respecte un seuil de 0.70, à partir duquel il est jugé nécessaire d'effectuer un nouveau clustering."
   ]
  },
  {
   "cell_type": "code",
   "execution_count": 26,
   "metadata": {},
   "outputs": [
    {
     "data": {
      "image/png": "[encoded data removed]",
      "text/plain": [
       "<Figure size 1200x400 with 1 Axes>"
      ]
     },
     "metadata": {},
     "output_type": "display_data"
    }
   ],
   "source": [
    "# Selects the last individual to meet the threshold set at 0.80\n",
    "last_point = ari_scores[ari_scores['ARI Score'] <= 0.70].iloc[0]['Period']\n",
    "\n",
    "plt.figure(figsize=(12,4))\n",
    "sns.lineplot(data=ari_scores, x=\"Period\", y=\"ARI Score\")\n",
    "plt.axvline(x=last_point, color='#EDAD01', linestyle='--')  # Ajoute une ligne verticale à x=last_point\n",
    "plt.title(\"Définition du délai de maintenance\\nARI (période ref de 17 mois)\")\n",
    "plt.xticks(rotation=90)\n",
    "plt.show()"
   ]
  },
  {
   "cell_type": "markdown",
   "metadata": {},
   "source": [
    "## **3. Résultat**\n",
    "***"
   ]
  },
  {
   "cell_type": "markdown",
   "metadata": {},
   "source": [
    "Les résultats montrent qu'il serait nécessaire d'effectuer une maintenance toutes les 6 à 8 semaines maximum pour que la segmentation des clients reste pertinente. "
   ]
  },
  {
   "cell_type": "markdown",
   "metadata": {},
   "source": [
    "---"
   ]
  }
 ],
 "metadata": {
  "kernelspec": {
   "display_name": "Python 3",
   "language": "python",
   "name": "python3"
  },
  "language_info": {
   "codemirror_mode": {
    "name": "ipython",
    "version": 3
   },
   "file_extension": ".py",
   "mimetype": "text/x-python",
   "name": "python",
   "nbconvert_exporter": "python",
   "pygments_lexer": "ipython3",
   "version": "3.11.3"
  }
 },
 "nbformat": 4,
 "nbformat_minor": 2
}
